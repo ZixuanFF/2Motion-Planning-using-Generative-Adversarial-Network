{
 "cells": [
  {
   "cell_type": "markdown",
   "metadata": {},
   "source": [
    "# Talos Example"
   ]
  },
  {
   "cell_type": "code",
   "execution_count": 1,
   "metadata": {
    "collapsed": false,
    "jupyter": {
     "outputs_hidden": false
    }
   },
   "outputs": [],
   "source": [
    "import tensorflow as tf\n",
    "import tensorflow.compat.v1 as tf1\n",
    "import numpy as np\n",
    "import matplotlib.pyplot as plt\n",
    "\n",
    "from collections import OrderedDict\n",
    "\n",
    "import tf_robot_learning as rl\n",
    "import tf_robot_learning.distributions as ds\n",
    "import os, time\n",
    "from tf_robot_learning import kinematic as tk\n",
    "\n",
    "from IPython.core import display\n",
    "\n",
    "%load_ext autoreload\n",
    "%autoreload 2\n",
    "%matplotlib inline"
   ]
  },
  {
   "cell_type": "markdown",
   "metadata": {},
   "source": [
    "## Part 1: Define and Train GAN"
   ]
  },
  {
   "cell_type": "code",
   "execution_count": 2,
   "metadata": {},
   "outputs": [],
   "source": [
    "sess = tf1.InteractiveSession()\n",
    "tf1.disable_eager_execution()"
   ]
  },
  {
   "cell_type": "markdown",
   "metadata": {},
   "source": [
    "### Define robot"
   ]
  },
  {
   "cell_type": "code",
   "execution_count": 3,
   "metadata": {},
   "outputs": [
    {
     "name": "stdout",
     "output_type": "stream",
     "text": [
      "WARNING:tensorflow:From /home/teguh/miniconda3/envs/tf3/lib/python3.8/site-packages/tensorflow/python/ops/linalg/linear_operator_full_matrix.py:142: calling LinearOperator.__init__ (from tensorflow.python.ops.linalg.linear_operator) with graph_parents is deprecated and will be removed in a future version.\n",
      "Instructions for updating:\n",
      "Do not pass `graph_parents`.  They will  no longer be used.\n"
     ]
    }
   ],
   "source": [
    "urdf = tk.urdf_from_file(rl.datapath + '/urdf/talos_reduced.urdf');\n",
    "display.clear_output()\n",
    "\n",
    "#list of end-effector\n",
    "tips = OrderedDict({\n",
    "    'r_gripper'\t: 'gripper_right_base_link',\n",
    "    'l_gripper'\t: 'gripper_left_base_link',\n",
    "    'r_foot' \t: 'right_sole_link',\n",
    "    'l_foot' \t: 'left_sole_link',\n",
    "})\n",
    "\n",
    "#define the robot as a kinematic chain, loaded from urdf\n",
    "chain_names = ['r_gripper', 'r_foot', 'l_foot'] \n",
    "chain = tk.ChainDict({\n",
    "    name: tk.kdl_chain_from_urdf_model(urdf, 'base_link', tip=tip)\n",
    "    for name, tip in tips.items()\n",
    "})\n",
    "\n",
    "#define the default position and orientation of the end-effector\n",
    "ee = OrderedDict({\n",
    "        'l_gripper': [0.  , 0.29, 0.8 , 1.  , 0.  , 0.  , 0.  , 1.  , 0.  , 0.  , 0.  ,1.  ],\n",
    "        'r_gripper': [0.  , -0.29, 0.8 , 1.  , 0.  , 0.  , 0.  , 1.  , 0.  , 0.  , 0.  ,1.  ],\n",
    "        'l_foot': [-0.02,  0.09, -0.  ,  1.  ,  0.  ,  0.  ,  0.  ,  1.  ,  0.  , 0.  ,  0.  ,  1.  ],\n",
    "        'r_foot': [-0.02,  -0.09, -0.  ,  1.  ,  0.  ,  0.  ,  0.  ,  1.  ,  0.  , 0.  ,  0.  ,  1.  ],\n",
    "})"
   ]
  },
  {
   "cell_type": "markdown",
   "metadata": {},
   "source": [
    "### Load data "
   ]
  },
  {
   "cell_type": "code",
   "execution_count": 4,
   "metadata": {},
   "outputs": [],
   "source": [
    "def param_to_joint_pos(x):\n",
    "    \"\"\"\n",
    "    convert the config parameter x to full robot configurations: joint angles, base position and orientation\n",
    "    \"\"\"\n",
    "    return x[..., :chain.nb_joint],\\\n",
    "        tf.concat([x[..., chain.nb_joint:chain.nb_joint+3]], -1),\\\n",
    "        tk.rotation.rpy(tf.zeros_like(x[..., -3:]))"
   ]
  },
  {
   "cell_type": "code",
   "execution_count": 5,
   "metadata": {
    "collapsed": false,
    "jupyter": {
     "outputs_hidden": false
    }
   },
   "outputs": [],
   "source": [
    "def q_augmented(q):\n",
    "    \"\"\" Define augmented data transformations: (joint_angles, right foot pose, and left foot pose)\"\"\"\n",
    "    _q, _p, _m = param_to_joint_pos(q)\n",
    "    return tf.concat([\n",
    "            q,\n",
    "            chain.xs(_q, floating_base=(_p, _m), name='r_foot')[:, -1],\n",
    "            chain.xs(_q, floating_base=(_p, _m), name='l_foot')[:, -1]\n",
    "        ], -1)"
   ]
  },
  {
   "cell_type": "code",
   "execution_count": 6,
   "metadata": {
    "collapsed": false,
    "jupyter": {
     "outputs_hidden": false
    }
   },
   "outputs": [],
   "source": [
    "def q_target(q):\n",
    "    \"\"\" Extract the target\"\"\"\n",
    "    _q, _p, _m = param_to_joint_pos(q)\n",
    "    return tf.concat( # orientation of each foot\n",
    "            [chain.xs(_q, floating_base=(_p, _m), name=name)[:, -1, :3] for name in chain_names]\n",
    "            , -1)"
   ]
  },
  {
   "cell_type": "code",
   "execution_count": 7,
   "metadata": {
    "collapsed": false,
    "jupyter": {
     "outputs_hidden": false
    }
   },
   "outputs": [],
   "source": [
    "def q_foot_ori(q):\n",
    "    \"\"\" Extract the foot orientation \"\"\"\n",
    "    _q, _p, _m = param_to_joint_pos(q)\n",
    "    return tf.concat( # position of each end-effector\n",
    "            [chain.xs(_q, floating_base=(_p, _m), name=name)[:, -1, 3:] for name in chain_names[1:]]\n",
    "            , -1)"
   ]
  },
  {
   "cell_type": "code",
   "execution_count": 8,
   "metadata": {},
   "outputs": [],
   "source": [
    "# get mini batch\n",
    "def get_batch(_batch_size=30, cut=None, augmented=True):\n",
    "    if cut is not None: idx = np.random.randint(0, cut, _batch_size)\n",
    "    else: idx = np.random.randint(0, data_augmented.shape[0]-1, _batch_size)\n",
    "    if augmented: return data_augmented[idx]\n",
    "    else: return data[idx]\n",
    "    \n",
    "def get_target_batch(_batch_size=30, cut=None):\n",
    "    if cut is not None: idx = np.random.randint( 0, cut, _batch_size)\n",
    "    else: idx = np.random.randint(0, data_augmented.shape[0]-1, _batch_size)\n",
    "    return data_target[idx]\n"
   ]
  },
  {
   "cell_type": "code",
   "execution_count": 9,
   "metadata": {
    "collapsed": false,
    "jupyter": {
     "outputs_hidden": false
    }
   },
   "outputs": [],
   "source": [
    "q_eval = tf1.placeholder(tf.float32, (None, chain.nb_joint + 3))\n",
    "\n",
    "q_augmented_eval = q_augmented(q_eval)\n",
    "q_target_eval = q_target(q_eval)\n",
    "q_foot_ori_eval = q_foot_ori(q_eval)"
   ]
  },
  {
   "cell_type": "code",
   "execution_count": 10,
   "metadata": {},
   "outputs": [],
   "source": [
    "#load the dataset\n",
    "data = np.load('data/data_two_feet_manual.npy')\n",
    "# compute data through these transformations\n",
    "data_augmented = q_augmented_eval.eval({q_eval: data})\n",
    "data_target = q_target_eval.eval({q_eval: data})"
   ]
  },
  {
   "cell_type": "markdown",
   "metadata": {},
   "source": [
    "## Generator "
   ]
  },
  {
   "cell_type": "code",
   "execution_count": 11,
   "metadata": {},
   "outputs": [],
   "source": [
    "# Network Parameters\n",
    "joint_dim = chain.nb_joint + 3 # the configuration consists of nb_joint= 28 joint angles and 3 base position\n",
    "latent_dim = 30 # dimension of noise\n",
    "N_net = 5\n",
    "target_dim = 9  # size of the target\n",
    "augmented_dim = 2 * 12 + joint_dim # size of augmented data (joint angles + poses of both foot)\n",
    "\n",
    "n_input = latent_dim + target_dim #dimension of the input to the generator\n",
    "batch_size = tf1.placeholder(tf.int32, ())"
   ]
  },
  {
   "cell_type": "markdown",
   "metadata": {},
   "source": [
    "#### Define the generator"
   ]
  },
  {
   "cell_type": "code",
   "execution_count": 12,
   "metadata": {},
   "outputs": [],
   "source": [
    "gen_nn = rl.nn.MLP(\n",
    "    n_input=n_input, n_output=joint_dim, n_hidden=[200, 200],\n",
    "    act_fct=tf.nn.relu, batch_size_svi=N_net\n",
    ")"
   ]
  },
  {
   "cell_type": "markdown",
   "metadata": {},
   "source": [
    "#### Define the generator input"
   ]
  },
  {
   "cell_type": "code",
   "execution_count": 13,
   "metadata": {},
   "outputs": [],
   "source": [
    "# noise to feed generator\n",
    "eps_var = tf1.placeholder(tf.float32, ())\n",
    "eps = tf.random.normal([tf.cast(batch_size/N_net, tf.int32), latent_dim], \n",
    "    dtype=tf.float32, mean=0., stddev=eps_var, name='epsilon')\n",
    "\n",
    "#the input to generator = noise + target\n",
    "batch_target = tf1.placeholder(tf.float32, (None, target_dim))\n",
    "eps_conc = tf.concat([eps, batch_target], axis=-1)"
   ]
  },
  {
   "cell_type": "markdown",
   "metadata": {},
   "source": [
    "#### Define output transformations"
   ]
  },
  {
   "cell_type": "code",
   "execution_count": 14,
   "metadata": {},
   "outputs": [
    {
     "name": "stdout",
     "output_type": "stream",
     "text": [
      "WARNING:tensorflow:From /home/teguh/miniconda3/envs/tf3/lib/python3.8/site-packages/tensorflow/python/ops/resource_variable_ops.py:1659: calling BaseResourceVariable.__init__ (from tensorflow.python.ops.resource_variable_ops) with constraint is deprecated and will be removed in a future version.\n",
      "Instructions for updating:\n",
      "If using Keras pass *_constraint arguments to layers.\n"
     ]
    }
   ],
   "source": [
    "samples_q = tf.reshape(gen_nn.pred(eps_conc) + tf.constant(chain.mean_pose + [0,0,1.08])[None], (-1, joint_dim))\n",
    "\n",
    "samples_qq, samples_p, samples_m = param_to_joint_pos(samples_q)\n",
    "samples_links, _, samples_com = chain.xs(samples_qq, floating_base=(samples_p, samples_m), get_links=True)\n",
    "\n",
    "samples_augmented = q_augmented(samples_q)\n",
    "samples_target = q_target(samples_q)\n",
    "samples_foot_ori = q_foot_ori(samples_q)"
   ]
  },
  {
   "cell_type": "markdown",
   "metadata": {},
   "source": [
    "## Discriminator"
   ]
  },
  {
   "cell_type": "markdown",
   "metadata": {},
   "source": [
    "#### Define the discriminator"
   ]
  },
  {
   "cell_type": "code",
   "execution_count": 15,
   "metadata": {
    "collapsed": false,
    "jupyter": {
     "outputs_hidden": false
    }
   },
   "outputs": [],
   "source": [
    "discr_nn = rl.nn.MLP(\n",
    "    n_input=augmented_dim, n_output=1, n_hidden=[40, 40],\n",
    "    act_fct=tf.nn.relu\n",
    ")\n",
    "\n",
    "#batch data\n",
    "batch_x = tf1.placeholder(tf.float32, (None, augmented_dim))"
   ]
  },
  {
   "cell_type": "markdown",
   "metadata": {},
   "source": [
    "## Define loss functions"
   ]
  },
  {
   "cell_type": "markdown",
   "metadata": {},
   "source": [
    "#### Main loss functions (discriminator vs generator)"
   ]
  },
  {
   "cell_type": "code",
   "execution_count": 16,
   "metadata": {
    "collapsed": false,
    "jupyter": {
     "outputs_hidden": false
    }
   },
   "outputs": [],
   "source": [
    "d_fake = discr_nn.pred(samples_augmented)[:, 0]\n",
    "d_true = discr_nn.pred(batch_x)[:, 0]\n",
    "\n",
    "#discriminator loss function\n",
    "loss_d = tf.nn.sigmoid_cross_entropy_with_logits(labels=tf.ones_like(d_true), logits=d_true) + \\\n",
    "        tf.nn.sigmoid_cross_entropy_with_logits(labels=tf.zeros_like(d_fake), logits=d_fake)\n",
    "loss_d = tf.reduce_sum(loss_d)\n",
    "\n",
    "#generator (basic) loss function\n",
    "loss = tf.nn.sigmoid_cross_entropy_with_logits(\n",
    "    labels=tf.ones_like(d_fake), logits=d_fake)\n",
    "loss = tf.reduce_sum(loss)"
   ]
  },
  {
   "cell_type": "markdown",
   "metadata": {},
   "source": [
    "#### Target loss "
   ]
  },
  {
   "cell_type": "code",
   "execution_count": 17,
   "metadata": {},
   "outputs": [
    {
     "name": "stdout",
     "output_type": "stream",
     "text": [
      "WARNING:tensorflow:From /home/teguh/miniconda3/envs/tf3/lib/python3.8/site-packages/tensorflow_probability/python/bijectors/affine_linear_operator.py:116: LinearOperator.graph_parents (from tensorflow.python.ops.linalg.linear_operator) is deprecated and will be removed in a future version.\n",
      "Instructions for updating:\n",
      "Do not call `graph_parents`.\n"
     ]
    }
   ],
   "source": [
    "p_target_std = tf1.placeholder(tf.float32, ()) \n",
    "\n",
    "p_target = ds.MultivariateNormalFullCovariance(\n",
    "    tf.reshape(tf.ones((N_net, 1,1))*batch_target,(-1, target_dim)), p_target_std**2 * tf.eye(target_dim)\n",
    ")\n",
    "\n",
    "loss_target = tf.reduce_sum(-p_target.log_prob(samples_target))\n",
    "lmbda_target = tf1.placeholder(tf.float32, ())"
   ]
  },
  {
   "cell_type": "markdown",
   "metadata": {},
   "source": [
    "#### Foot orientation loss "
   ]
  },
  {
   "cell_type": "code",
   "execution_count": 18,
   "metadata": {
    "collapsed": false,
    "jupyter": {
     "outputs_hidden": false
    }
   },
   "outputs": [],
   "source": [
    "foot_ori_dim = 18\n",
    "batch_foot_ori = tf1.placeholder(tf.float32, (None, foot_ori_dim))\n",
    "\n",
    "# define a Gaussian distribution that should be tracked by the system\n",
    "p_foot_ori_std = tf1.placeholder(tf.float32, ()) \n",
    "\n",
    "p_foot_ori = ds.MultivariateNormalFullCovariance(\n",
    "    tf.reshape(tf.ones((N_net, 1,1))*batch_foot_ori,(-1, foot_ori_dim)), p_foot_ori_std**2 * tf.eye(foot_ori_dim)\n",
    ")\n",
    "\n",
    "loss_foot_ori = tf.reduce_sum(-p_foot_ori.log_prob(samples_foot_ori))\n",
    "lmbda_foot_ori = tf1.placeholder(tf.float32, ())"
   ]
  },
  {
   "cell_type": "markdown",
   "metadata": {},
   "source": [
    "#### Constraints cost: COM and joint limit"
   ]
  },
  {
   "cell_type": "code",
   "execution_count": 19,
   "metadata": {
    "collapsed": false,
    "jupyter": {
     "outputs_hidden": false
    }
   },
   "outputs": [],
   "source": [
    "#joint limit\n",
    "base_pos_limits = np.array([[-0.1, -0.1, 0.6],[0.1, 0.1, 1.4] ]).T\n",
    "config_limits = np.concatenate([chain.joint_limits, base_pos_limits], axis=0)\n",
    "joint_limits = tf.constant(config_limits, dtype=tf.float32)\n",
    "joint_limits_std = 0.05\n",
    "joint_limits_temp = 1.\n",
    "\n",
    "joint_limits_exp = ds.SoftUniformNormalCdf(\n",
    "    low=joint_limits[:, 0],\n",
    "    high=joint_limits[:, 1],\n",
    "    std=joint_limits_std,\n",
    "    temp=joint_limits_temp,\n",
    "    reduce_axis=-1\n",
    ")\n",
    "\n",
    "joint_limit_constraints = tf.reduce_mean(-joint_limits_exp.log_prob(samples_q[:,:chain.nb_joint+3]))\n",
    "\n",
    "\n",
    "#COM\n",
    "com_limits = 0.1\n",
    "com_limits_std = 0.01\n",
    "\n",
    "com_limits_exp = ds.SoftUniformNormalCdf(\n",
    "    low=-com_limits,\n",
    "    high=com_limits,\n",
    "    std=com_limits_std,\n",
    "    temp=1.,\n",
    "    reduce_axis=-1\n",
    ")\n",
    "\n",
    "com_xy = samples_com[:, :2]\n",
    "center_feet = tf.reduce_mean([\n",
    "        samples_links['r_foot'][:, -1, :2], \n",
    "        samples_links['l_foot'][:, -1, :2]\n",
    "        ], axis=0)\n",
    "\n",
    "cost_constraints = tf.reduce_mean(-com_limits_exp.log_prob(com_xy - center_feet))\n",
    "lmbda_constraints = tf1.placeholder(tf.float32, ())"
   ]
  },
  {
   "cell_type": "markdown",
   "metadata": {},
   "source": [
    "### Overall loss"
   ]
  },
  {
   "cell_type": "code",
   "execution_count": 20,
   "metadata": {},
   "outputs": [],
   "source": [
    "loss_gen = loss +  lmbda_target * loss_target + lmbda_foot_ori*loss_foot_ori + lmbda_constraints * (cost_constraints+joint_limit_constraints) "
   ]
  },
  {
   "cell_type": "markdown",
   "metadata": {},
   "source": [
    "### Optimizer "
   ]
  },
  {
   "cell_type": "code",
   "execution_count": 21,
   "metadata": {
    "collapsed": false,
    "jupyter": {
     "outputs_hidden": false
    }
   },
   "outputs": [],
   "source": [
    "rate = tf1.placeholder(tf.float32, ())\n",
    "opt = tf1.train.AdamOptimizer\n",
    "\n",
    "optimizer = opt(learning_rate=rate)\n",
    "optimizer_d = opt(learning_rate=rate)\n",
    "\n",
    "train = optimizer.minimize(loss_gen, var_list=gen_nn.vec_weights)\n",
    "train_d = optimizer_d.minimize(loss_d, var_list=discr_nn.vec_weights)\n",
    "\n",
    "# Initialize the variables (i.e. assign their default value)\n",
    "init = tf1.global_variables_initializer()"
   ]
  },
  {
   "cell_type": "markdown",
   "metadata": {},
   "source": [
    "## Training model "
   ]
  },
  {
   "cell_type": "code",
   "execution_count": 22,
   "metadata": {
    "collapsed": false,
    "jupyter": {
     "outputs_hidden": false
    }
   },
   "outputs": [],
   "source": [
    "sess.run(init)"
   ]
  },
  {
   "cell_type": "code",
   "execution_count": 23,
   "metadata": {},
   "outputs": [],
   "source": [
    "def get_target_new_batch(_batch_size):\n",
    "    return np.random.multivariate_normal(_targets_m, np.diag(_targets_v ** 2), (_batch_size, ))"
   ]
  },
  {
   "cell_type": "code",
   "execution_count": 24,
   "metadata": {},
   "outputs": [],
   "source": [
    "_batch_size = 100\n",
    "_targets_m = np.concatenate([ee[name][:3] for name in chain_names], 0) # mean target\n",
    "_batch_foot_ori = np.tile(np.eye(3).flatten(), (int(_batch_size/N_net),2)).reshape(int(_batch_size/N_net),-1)\n",
    "\n",
    "_targets_m = np.concatenate([ee[name][:3] for name in chain_names], 0) # mean target\n",
    "_targets_v = np.array([0.5] * 3 + [0.01] * 2 + [0.] +  [0.01] * 2 + [0.]  )  # variance"
   ]
  },
  {
   "cell_type": "raw",
   "metadata": {
    "jupyter": {
     "outputs_hidden": false
    }
   },
   "source": [
    "alpha = .7\n",
    "for i in range(2000):\n",
    "    try:\n",
    "        for j in range(5):\n",
    "            # train discriminative_network\n",
    "            _x = get_batch(cut=8000, _batch_size=_batch_size)\n",
    "            \n",
    "            feed_dict = {\n",
    "                lmbda_target: .05,\n",
    "                lmbda_foot_ori: .05,\n",
    "                lmbda_constraints: 5.,\n",
    "                eps_var: 1.,\n",
    "                p_target_std: 0.01,\n",
    "                p_foot_ori_std: 0.01,\n",
    "                batch_x: _x,\n",
    "                batch_size: _batch_size,\n",
    "                rate : 0.002 * alpha,\n",
    "            }\n",
    "            \n",
    "            # from data\n",
    "            feed_dict[batch_target] = get_target_new_batch(_batch_size=int(_batch_size/N_net))\n",
    "\n",
    "            _ = sess.run([train_d], feed_dict=feed_dict)\n",
    "        \n",
    "        feed_dict[rate] = .001 * alpha\n",
    "        feed_dict[batch_foot_ori] = _batch_foot_ori\n",
    "        \n",
    "        # train generative_network\n",
    "        _,  _loss, _loss_d,  _loss_target, _loss_constraints = sess.run(\n",
    "            [train, loss, loss_d,  loss_target, cost_constraints], feed_dict=feed_dict)\n",
    "        \n",
    "        if not i % 10:\n",
    "            display.clear_output(wait=True)\n",
    "            print('Step %i\\t, loss gen %f, loss disc %f,  loss target %f, loss constraints %f' % (i, _loss, _loss_d ,_loss_target, _loss_constraints))\n",
    "    except KeyboardInterrupt:\n",
    "        break"
   ]
  },
  {
   "cell_type": "markdown",
   "metadata": {},
   "source": [
    "#### To save model"
   ]
  },
  {
   "cell_type": "raw",
   "metadata": {},
   "source": [
    "saver = tf1.train.Saver()\n",
    "\n",
    "save_path = saver.save(sess, \"data/talos_foot_fixed_with_data_ensemble2.ckpt\")"
   ]
  },
  {
   "cell_type": "markdown",
   "metadata": {},
   "source": [
    "#### To load model"
   ]
  },
  {
   "cell_type": "code",
   "execution_count": 25,
   "metadata": {},
   "outputs": [
    {
     "name": "stdout",
     "output_type": "stream",
     "text": [
      "INFO:tensorflow:Restoring parameters from data/talos_foot_fixed_with_data_ensemble2.ckpt\n"
     ]
    }
   ],
   "source": [
    "saver = tf1.train.Saver()\n",
    "saver.restore(sess, \"data/talos_foot_fixed_with_data_ensemble2.ckpt\")"
   ]
  },
  {
   "cell_type": "markdown",
   "metadata": {},
   "source": [
    "### Visualize the generated samples"
   ]
  },
  {
   "cell_type": "code",
   "execution_count": 26,
   "metadata": {
    "collapsed": false,
    "jupyter": {
     "outputs_hidden": false
    }
   },
   "outputs": [
    {
     "data": {
      "image/png": "[encoded data removed]",
      "text/plain": [
       "<Figure size 432x288 with 2 Axes>"
      ]
     },
     "metadata": {
      "needs_background": "light"
     },
     "output_type": "display_data"
    }
   ],
   "source": [
    "_batch_size = 20\n",
    "feed_dict={batch_size: _batch_size, eps_var:1.}\n",
    "feed_dict[batch_target] = get_target_new_batch(_batch_size=int(_batch_size/N_net))\n",
    "\n",
    "_links, _com , _b_targets = sess.run(\n",
    "[samples_links, samples_com, batch_target], feed_dict\n",
    ")\n",
    "\n",
    "fig, ax = plt.subplots(ncols=2)\n",
    "\n",
    "for i in range(2):\n",
    "    dim = [i, 2]\n",
    "    chain.plot(\n",
    "            _links, feed_dict={}, ax=ax[i],\n",
    "            dim=dim, alpha=0.2, color='k'\n",
    "        )    \n",
    "    ax[i].plot(_com[0, dim[0]], _com[0, dim[1]], 'bx')\n",
    "    \n",
    "    for j, name in enumerate(chain_names):\n",
    "        ax[i].plot(_b_targets[:, j*3 + dim[0]], _b_targets[:, j*3 + dim[1]], 'rx', color='orangered')"
   ]
  },
  {
   "cell_type": "code",
   "execution_count": 27,
   "metadata": {},
   "outputs": [
    {
     "data": {
      "image/png": "[encoded data removed]",
      "text/plain": [
       "<Figure size 864x576 with 2 Axes>"
      ]
     },
     "metadata": {
      "needs_background": "light"
     },
     "output_type": "display_data"
    }
   ],
   "source": [
    "from_dataset = 0\n",
    "n = 10\n",
    "\n",
    "_targets_m = np.concatenate([ee[name][:3] for name in chain_names], 0) # mean target\n",
    "_targets_v = np.array([0.6] * 3 + [0.001]*3 + [0.001] * 3  )  # variance\n",
    "\n",
    "if from_dataset:\n",
    "    _targets = get_target_batch(cut=10000, _batch_size=1) * np.ones((int(n/N_net), 1))\n",
    "else:\n",
    "    _targets = np.random.multivariate_normal(_targets_m, np.diag(_targets_v ** 2), (1, )) * np.ones((int(n/N_net), 1))\n",
    "\n",
    "feed_dict={batch_size: n, batch_target: _targets, eps_var:1.}\n",
    "\n",
    "\n",
    "_links, _com , _b_targets, _samples_q = sess.run(\n",
    "    [samples_links, samples_com, batch_target, samples_q], \n",
    "    feed_dict)\n",
    "\n",
    "fig, ax = plt.subplots(ncols=2, figsize=(12,8))\n",
    "\n",
    "for i in range(2):\n",
    "    dim = [i, 2]\n",
    "    chain.plot(\n",
    "            _links, feed_dict={}, ax=ax[i],\n",
    "            dim=dim, alpha=0.2, color='k'\n",
    "        )    \n",
    "    \n",
    "    for j, name in enumerate(chain_names):\n",
    "        ax[i].plot(_b_targets[:, j*3 + dim[0]], _b_targets[:, j*3 + dim[1]], 'rx', color='orangered')\n",
    "    ax[i].plot(_com[0, dim[0]], _com[0, dim[1]], 'bx')\n",
    "    #ax[i].set_xlim([-.7, .7])\n",
    "    #x[i].set_ylim([-0.1, 1.2])\n",
    "plt.savefig('data/talos_config.png')\n",
    "plt.show()  \n"
   ]
  },
  {
   "cell_type": "raw",
   "metadata": {},
   "source": [
    "fig, ax = plt.subplots(ncols=1, figsize=(12,8))\n",
    "dim = [1, 2]\n",
    "chain.plot(\n",
    "        _links, feed_dict={}, ax=ax,\n",
    "        dim=dim, alpha=0.2, color='k'\n",
    "    )    \n",
    "\n",
    "for j, name in enumerate(chain_names):\n",
    "    ax.plot(_b_targets[:, j*3 + dim[0]], _b_targets[:, j*3 + dim[1]], 'rx', color='orangered')\n",
    "ax.plot(_com[0, dim[0]], _com[0, dim[1]], 'bx')\n",
    "ax.set_xlim([-.9, .7])\n",
    "ax.set_ylim([-0.1, 1.6])\n",
    "plt.axis('off')\n",
    "plt.savefig('data/talos_config6.png', bbox_inches='tight', pad_inches=0)\n",
    "plt.show()  \n"
   ]
  },
  {
   "cell_type": "raw",
   "metadata": {},
   "source": [
    "for sample in _samples_q:\n",
    "    set_q_std(get_pb_config(sample),True)\n",
    "    print(sample[2:9])\n",
    "    input()"
   ]
  },
  {
   "cell_type": "markdown",
   "metadata": {},
   "source": [
    "## Part 2: Use GAN for Projection, IK and Inverse Kinematics"
   ]
  },
  {
   "cell_type": "markdown",
   "metadata": {},
   "source": [
    "### Setup Pybullet"
   ]
  },
  {
   "cell_type": "code",
   "execution_count": 28,
   "metadata": {},
   "outputs": [],
   "source": [
    "import pybullet as p\n",
    "import pybullet_data\n",
    "from utils import *\n",
    "from scipy.optimize import fmin_bfgs\n",
    "from costs import *\n",
    "from robot import *\n",
    "from scipy.optimize import fmin_bfgs\n",
    "from functools import partial"
   ]
  },
  {
   "cell_type": "code",
   "execution_count": 29,
   "metadata": {},
   "outputs": [],
   "source": [
    "physics_client_id = p.connect(p.GUI)\n",
    "\n",
    "p.setPhysicsEngineParameter(enableFileCaching=0)\n",
    "p.setAdditionalSearchPath(pybullet_data.getDataPath())\n",
    "p.configureDebugVisualizer(p.COV_ENABLE_GUI,0)"
   ]
  },
  {
   "cell_type": "code",
   "execution_count": 30,
   "metadata": {},
   "outputs": [],
   "source": [
    "p.resetSimulation()"
   ]
  },
  {
   "cell_type": "markdown",
   "metadata": {},
   "source": [
    "#### Load in pybullet"
   ]
  },
  {
   "cell_type": "code",
   "execution_count": 31,
   "metadata": {},
   "outputs": [],
   "source": [
    "#load robot\n",
    "robot_urdf = rl.datapath + '/urdf/talos_reduced.urdf';\n",
    "robot_id = p.loadURDF(fileName=robot_urdf)\n",
    "dof = p.getNumJoints(robot_id)\n",
    "\n",
    "#load plane\n",
    "plane_id = p.loadURDF('plane.urdf')\n",
    "p.resetBasePositionAndOrientation(plane_id, (0,0,0), np.array([0,0,0,1]))\n",
    "\n",
    "#set default visualization function\n",
    "set_q_std = partial(set_q,robot_id, pb_joint_indices, set_base=True)\n",
    "set_q_std(q0Complete)\n",
    "vis_traj_std = partial(vis_traj, vis_func = set_q_std)"
   ]
  },
  {
   "cell_type": "code",
   "execution_count": 32,
   "metadata": {},
   "outputs": [],
   "source": [
    "_,_, ball_id = create_primitives(radius = 0.1)"
   ]
  },
  {
   "cell_type": "markdown",
   "metadata": {},
   "source": [
    "#### Setup the environment"
   ]
  },
  {
   "cell_type": "raw",
   "metadata": {},
   "source": [
    "save_screenshot(200,200,800, 1000, 'data/task5.png', False)"
   ]
  },
  {
   "cell_type": "code",
   "execution_count": 33,
   "metadata": {},
   "outputs": [],
   "source": [
    "task = 3 #choose 1, 2 or 3\n",
    "brown_color = (165./255, 42/255., 42/255.,1.)\n",
    "brown2_color = (165./255, 65/255., 65/255.,1.)\n",
    "purple_color = (165./255, 100/255., 255/255.,.9)\n",
    "ori = (0,0,0,1)\n",
    "\n",
    "if task == 1:\n",
    "    #task 1\n",
    "    _,_, box_id = create_primitives(shapeType=p.GEOM_BOX, halfExtents=[0.25, 0.4, 0.03], pos = [0.7,0,.95], rgbaColor=brown_color)\n",
    "    col_ids = [plane_id, box_id]\n",
    "elif task == 2:\n",
    "    #task 2\n",
    "    _,_, box_id = create_primitives(shapeType=p.GEOM_BOX, halfExtents=[0.25, 0.4, 0.03], pos= [0.55,0,.8], rgbaColor=brown_color)\n",
    "    _,_, box_id2 = create_primitives(shapeType=p.GEOM_BOX, halfExtents=[0.03, 0.4, 0.12], pos = [0.33,0,.95],  rgbaColor=brown2_color)\n",
    "    col_ids = [plane_id, box_id, box_id2]\n",
    "elif task == 3:\n",
    "        #task3\n",
    "    _,_, box_id =  create_primitives(shapeType=p.GEOM_BOX, halfExtents=[0.25, 0.4, 0.03], pos = [0.7,0,.75], rgbaColor=brown_color)\n",
    "    _,_, box_id2 = create_primitives(shapeType=p.GEOM_BOX, halfExtents=[0.03, 0.4, 0.03], pos = [0.5,0,1.22], rgbaColor=purple_color)\n",
    "    _,_, box_id3 = create_primitives(shapeType=p.GEOM_BOX, halfExtents=[0.03, 0.03, 0.25], pos = [0.5,0.3,1.], rgbaColor=purple_color)\n",
    "    _,_, box_id4 = create_primitives(shapeType=p.GEOM_BOX, halfExtents=[0.03, 0.03, 0.25], pos = [0.5,-0.3,1.], rgbaColor=purple_color)\n",
    "    _,_, box_id5 = create_primitives(shapeType=p.GEOM_BOX, halfExtents=[0.03, 0.03, 0.35], pos = [0.5,0.3,0.4], rgbaColor=brown_color)\n",
    "    _,_, box_id6 = create_primitives(shapeType=p.GEOM_BOX, halfExtents=[0.03, 0.03, 0.35], pos = [0.5,-0.3,.4], rgbaColor=brown_color)\n",
    "    _,_, box_id7 = create_primitives(shapeType=p.GEOM_BOX, halfExtents=[0.03, 0.03, 0.35], pos = [0.9,0.3,0.4], rgbaColor=brown_color)\n",
    "    _,_, box_id8 = create_primitives(shapeType=p.GEOM_BOX, halfExtents=[0.03, 0.03, 0.35], pos = [0.9,-0.3,.4], rgbaColor=brown_color)\n",
    "    col_ids = [plane_id, box_id, box_id2, box_id3, box_id4, box_id5, box_id6]"
   ]
  },
  {
   "cell_type": "markdown",
   "metadata": {},
   "source": [
    "#### Define frame indices"
   ]
  },
  {
   "cell_type": "code",
   "execution_count": 34,
   "metadata": {},
   "outputs": [],
   "source": [
    "pb_frame_names = [p.getJointInfo(robot_id,i)[1] for i in range(dof)]"
   ]
  },
  {
   "cell_type": "code",
   "execution_count": 35,
   "metadata": {},
   "outputs": [],
   "source": [
    "pb_lh_frame_id = pb_frame_names.index(b'gripper_left_joint')\n",
    "pb_rh_frame_id = pb_frame_names.index(b'gripper_right_joint')\n",
    "pb_lf_frame_id = pb_frame_names.index(b'leg_left_sole_fix_joint')\n",
    "pb_rf_frame_id = pb_frame_names.index(b'leg_right_sole_fix_joint')"
   ]
  },
  {
   "cell_type": "markdown",
   "metadata": {},
   "source": [
    "#### Load from pinocchio"
   ]
  },
  {
   "cell_type": "code",
   "execution_count": 36,
   "metadata": {},
   "outputs": [],
   "source": [
    "robot_urdf = rl.datapath + '/urdf/talos_reduced.urdf';\n",
    "rmodel = pin.buildModelFromUrdf(robot_urdf , pin.JointModelFreeFlyer())\n",
    "rdata = rmodel.createData()\n",
    "\n",
    "robot_joint_limits = np.vstack([rmodel.lowerPositionLimit, rmodel.upperPositionLimit])\n",
    "\n",
    "pin_frame_names = [f.name for f in rmodel.frames]\n",
    "lh_frame_id = rmodel.getFrameId('gripper_left_joint')\n",
    "rh_frame_id = rmodel.getFrameId('gripper_right_joint')\n",
    "lf_frame_id = rmodel.getFrameId('leg_left_sole_fix_joint')\n",
    "rf_frame_id = rmodel.getFrameId('leg_right_sole_fix_joint')"
   ]
  },
  {
   "cell_type": "markdown",
   "metadata": {},
   "source": [
    "#### Define target poses"
   ]
  },
  {
   "cell_type": "code",
   "execution_count": 37,
   "metadata": {},
   "outputs": [],
   "source": [
    "#left foot\n",
    "pos_lf, ori_lf = computePose(rmodel,rdata,lf_frame_id,q0Complete)\n",
    "rpy_lf = mat2euler(ori_lf)\n",
    "pose_lf_ref = np.concatenate([pos_lf, rpy_lf])\n",
    "#right foot\n",
    "pos_rf, ori_rf = computePose(rmodel,rdata,rf_frame_id,q0Complete)\n",
    "rpy_rf = mat2euler(ori_rf)\n",
    "pose_rf_ref = np.concatenate([pos_rf, rpy_rf])\n",
    "#left hand\n",
    "pos_lh, ori_lh = computePose(rmodel,rdata,lh_frame_id,q0Complete)\n",
    "pose_lh_ref = np.concatenate([np.array([0.3,0.2, 0.4]), np.array([0,-np.pi/2,0.])])\n",
    "#right hand\n",
    "pos_rh, ori_rh = computePose(rmodel,rdata,rh_frame_id,q0Complete)\n",
    "rpy_rh = mat2euler(ori_rh)\n",
    "pose_rh_ref = np.concatenate([pos_rh, rpy_rh])"
   ]
  },
  {
   "cell_type": "code",
   "execution_count": 125,
   "metadata": {},
   "outputs": [],
   "source": [
    "quat = euler2quat((0,0,np.pi/2))"
   ]
  },
  {
   "cell_type": "code",
   "execution_count": 213,
   "metadata": {},
   "outputs": [],
   "source": [
    "q = q0Complete.copy()\n",
    "#q[3:7] = quat\n",
    "pin.forwardKinematics(rmodel, rdata, q)\n",
    "pin.updateFramePlacements(rmodel, rdata)"
   ]
  },
  {
   "cell_type": "code",
   "execution_count": 214,
   "metadata": {},
   "outputs": [],
   "source": [
    "dq = np.zeros(len(q)-1)\n",
    "dq[2] = 10"
   ]
  },
  {
   "cell_type": "code",
   "execution_count": 215,
   "metadata": {},
   "outputs": [],
   "source": [
    "q2 = pin.integrate(rmodel,q, dq)"
   ]
  },
  {
   "cell_type": "code",
   "execution_count": 222,
   "metadata": {},
   "outputs": [
    {
     "data": {
      "text/plain": [
       "array([0.      , 0.      , 1.019272, 0.      , 0.      , 0.      ,\n",
       "       1.      ])"
      ]
     },
     "execution_count": 222,
     "metadata": {},
     "output_type": "execute_result"
    }
   ],
   "source": [
    "q[:7]"
   ]
  },
  {
   "cell_type": "code",
   "execution_count": 223,
   "metadata": {},
   "outputs": [
    {
     "data": {
      "text/plain": [
       "array([ 0.      ,  0.      , 11.019272,  0.      ,  0.      ,  0.      ,\n",
       "        1.      ])"
      ]
     },
     "execution_count": 223,
     "metadata": {},
     "output_type": "execute_result"
    }
   ],
   "source": [
    "q2[:7]"
   ]
  },
  {
   "cell_type": "code",
   "execution_count": 236,
   "metadata": {},
   "outputs": [
    {
     "name": "stdout",
     "output_type": "stream",
     "text": [
      "[  0.   0. -10.   0.   0.   0.   0.   0.   0.   0.   0.   0.   0.   0.\n",
      "   0.   0.   0.   0.   0.   0.   0.   0.   0.   0.   0.   0.   0.   0.\n",
      "   0.   0.   0.   0.   0.   0.]\n"
     ]
    }
   ],
   "source": [
    "diff1 = pin.difference(rmodel, q2, q)\n",
    "print(diff1)"
   ]
  },
  {
   "cell_type": "code",
   "execution_count": 225,
   "metadata": {},
   "outputs": [],
   "source": [
    "a = pin.dDifference(rmodel, q2, q)"
   ]
  },
  {
   "cell_type": "code",
   "execution_count": 226,
   "metadata": {},
   "outputs": [],
   "source": [
    "np.set_printoptions(precision=6, suppress=True)"
   ]
  },
  {
   "cell_type": "code",
   "execution_count": 227,
   "metadata": {},
   "outputs": [
    {
     "data": {
      "text/plain": [
       "array([[ 1.,  0.,  0.,  0.,  5.,  0.,  0.],\n",
       "       [ 0.,  1.,  0., -5.,  0.,  0.,  0.],\n",
       "       [ 0.,  0.,  1.,  0.,  0.,  0.,  0.],\n",
       "       [ 0.,  0.,  0.,  1.,  0.,  0.,  0.],\n",
       "       [ 0.,  0.,  0.,  0.,  1.,  0.,  0.],\n",
       "       [ 0.,  0.,  0.,  0.,  0.,  1.,  0.],\n",
       "       [ 0.,  0.,  0.,  0.,  0.,  0.,  1.]])"
      ]
     },
     "execution_count": 227,
     "metadata": {},
     "output_type": "execute_result"
    }
   ],
   "source": [
    "a[1][:7, :7]"
   ]
  },
  {
   "cell_type": "code",
   "execution_count": 261,
   "metadata": {},
   "outputs": [],
   "source": [
    "dq2 = np.zeros(34)\n",
    "dq2[4] = np.pi\n",
    "q3 = pin.integrate(rmodel,q, dq2)"
   ]
  },
  {
   "cell_type": "code",
   "execution_count": 263,
   "metadata": {},
   "outputs": [
    {
     "data": {
      "text/plain": [
       "array([15.707963,  0.      , -0.      , -0.      ,  3.141593, -0.      ,\n",
       "        0.      ,  0.      ,  0.      ,  0.      ,  0.      ,  0.      ,\n",
       "        0.      ,  0.      ,  0.      ,  0.      ,  0.      ,  0.      ,\n",
       "        0.      ,  0.      ,  0.      ,  0.      ,  0.      ,  0.      ,\n",
       "        0.      ,  0.      ,  0.      ,  0.      ,  0.      ,  0.      ,\n",
       "        0.      ,  0.      ,  0.      ,  0.      ])"
      ]
     },
     "execution_count": 263,
     "metadata": {},
     "output_type": "execute_result"
    }
   ],
   "source": [
    "diff2"
   ]
  },
  {
   "cell_type": "code",
   "execution_count": null,
   "metadata": {},
   "outputs": [],
   "source": []
  },
  {
   "cell_type": "code",
   "execution_count": 264,
   "metadata": {},
   "outputs": [
    {
     "name": "stdout",
     "output_type": "stream",
     "text": [
      "[15.707963  0.       10.       -0.        3.141593 -0.        0.\n",
      "  0.        0.        0.        0.        0.        0.        0.\n",
      "  0.        0.        0.        0.        0.        0.        0.\n",
      "  0.        0.        0.        0.        0.        0.        0.\n",
      "  0.        0.        0.        0.        0.        0.      ]\n"
     ]
    }
   ],
   "source": [
    "diff2 = pin.difference(rmodel, q2, q3)\n",
    "print(diff2-diff1)"
   ]
  },
  {
   "cell_type": "markdown",
   "metadata": {},
   "source": [
    "### Define Projector & IK solver"
   ]
  },
  {
   "cell_type": "code",
   "execution_count": 38,
   "metadata": {},
   "outputs": [],
   "source": [
    "lf_cost = CostFrameRPYFloatingBase(rmodel, rdata, pose_lf_ref,lf_frame_id, sel_vector=np.array([1,1,1,1,1,1]))\n",
    "rf_cost = CostFrameRPYFloatingBase(rmodel, rdata, pose_rf_ref,rf_frame_id, sel_vector=np.array([1,1,1,1,1,1]))\n",
    "bound_cost = CostBound(robot_joint_limits)\n",
    "posture_cost = CostPosture(rmodel, rdata, q0Complete)\n",
    "com_bounds = np.array([[-0.1,-0.1,0.6],[0.1, 0.1, 1.1]])\n",
    "cost_com_bounds = CostCOMBounds(rmodel, rdata, com_bounds)\n",
    "cost_sum = CostSum()\n",
    "\n",
    "cost_sum.addCost(lf_cost, 20., 'lf_pose', 1e-5)\n",
    "cost_sum.addCost(rf_cost, 20.,'rf_pose', 1e-5)\n",
    "cost_sum.addCost(bound_cost, 10., 'com_limit', 1e-4)\n",
    "cost_sum.addCost(cost_com_bounds, 10., 'joint_limit', 1e-4)\n",
    "cost_sum.addCost(posture_cost, .01, 'posture', 1e3)\n",
    "\n",
    "robot_projector_old = TalosCostProjector(cost_sum)\n",
    "\n",
    "\n",
    "rh_cost = CostFrameRPYFloatingBase(rmodel, rdata, pose_rh_ref,rh_frame_id, sel_vector=np.array([1,1,1,0,0,0]))\n",
    "\n",
    "cost_sum2 = CostSum()\n",
    "cost_sum2.addCost(rh_cost, 20., 'rh_pose', 1e-3)\n",
    "cost_sum2.addCost(lf_cost, 20., 'lf_pose', 1e-5)\n",
    "cost_sum2.addCost(rf_cost, 20.,'rf_pose', 1e-5)\n",
    "cost_sum2.addCost(bound_cost, 10., 'com_limit', 1e-4)\n",
    "cost_sum2.addCost(cost_com_bounds, 10., 'joint_limit', 1e-4)\n",
    "cost_sum2.addCost(posture_cost, .01, 'posture', 1e3)\n",
    "\n",
    "robot_ik_solver_old = TalosCostProjector(cost_sum2)"
   ]
  },
  {
   "cell_type": "markdown",
   "metadata": {},
   "source": [
    "### Define new projector & IK solver"
   ]
  },
  {
   "cell_type": "markdown",
   "metadata": {},
   "source": [
    "#### Define target poses"
   ]
  },
  {
   "cell_type": "code",
   "execution_count": 39,
   "metadata": {},
   "outputs": [],
   "source": [
    "for i in range(robot_joint_limits.shape[0]):\n",
    "    for j in range(robot_joint_limits.shape[1]):\n",
    "        if robot_joint_limits[i,j] < -1e10: robot_joint_limits[i,j] = -1e10\n",
    "        if robot_joint_limits[i,j] > 1e10: robot_joint_limits[i,j] = 1e10"
   ]
  },
  {
   "cell_type": "code",
   "execution_count": 40,
   "metadata": {},
   "outputs": [],
   "source": [
    "from costs_pseudo import *"
   ]
  },
  {
   "cell_type": "code",
   "execution_count": 41,
   "metadata": {},
   "outputs": [],
   "source": [
    "#left foot\n",
    "w_lf = mat2w(ori_lf)\n",
    "pose_lf_ref_new = pin.SE3(ori_lf, pos_lf)\n",
    "#right foot\n",
    "w_rf = mat2w(ori_rf)\n",
    "pose_rf_ref_new = pin.SE3(ori_rf, pos_rf)\n",
    "#right hand\n",
    "w_rh = mat2w(ori_rh)\n",
    "pose_rh_ref_new = pos_rh"
   ]
  },
  {
   "cell_type": "code",
   "execution_count": 135,
   "metadata": {},
   "outputs": [],
   "source": [
    "# lf_cost_new = CostFrameRPYFloatingBaseNew(rmodel, rdata, pose_lf_ref,lf_frame_id, sel_vector=np.array([1,1,1,1,1,1]))\n",
    "# rf_cost_new = CostFrameRPYFloatingBaseNew(rmodel, rdata, pose_rf_ref,rf_frame_id, sel_vector=np.array([1,1,1,1,1,1]))\n",
    "# rh_cost_new = CostFrameTranslationFloatingBaseNew(rmodel, rdata, pose_rh_ref[:3],rh_frame_id, weight=np.array([1,1,1]))\n",
    "lf_cost_new = CostFrameSE3FloatingBaseNew(rmodel, rdata, pose_lf_ref_new,lf_frame_id, weight=np.array([1.,1.,1.,1.,1.,1.]))\n",
    "rf_cost_new = CostFrameSE3FloatingBaseNew(rmodel, rdata, pose_rf_ref_new,rf_frame_id, weight=np.array([1.,1.,1.,1.,1.,1.]))\n",
    "rh_cost_new = CostFrameTranslationFloatingBaseNew(rmodel, rdata, pose_rh_ref_new,rh_frame_id, weight=np.array([1.,1.,1.]))\n",
    "cost_com_bounds_new = CostCOMBoundsNew(rmodel, rdata, com_bounds, 1e-12)\n",
    "bound_cost_new = CostBoundNew(robot_joint_limits, 1e-12)\n",
    "posture_cost_new = CostPostureNew(rmodel, rdata, q0Complete)"
   ]
  },
  {
   "cell_type": "code",
   "execution_count": 136,
   "metadata": {},
   "outputs": [],
   "source": [
    "cost_sum_new = CostSumNew(rmodel, rdata)\n",
    "cost_sum_new2 = CostSumNew(rmodel, rdata)\n",
    "cost_sum_new_ik = CostSumNew(rmodel, rdata)"
   ]
  },
  {
   "cell_type": "code",
   "execution_count": 137,
   "metadata": {},
   "outputs": [],
   "source": [
    "cost_sum_new_ik.addCost(lf_cost_new, 20., 'lf_pose', 1e-4)\n",
    "cost_sum_new_ik.addCost(rf_cost_new, 20.,'rf_pose', 1e-4)\n",
    "cost_sum_new_ik.addCost(cost_com_bounds_new, 20., 'com_limit', 1e-3)\n",
    "cost_sum_new_ik.addCost(bound_cost_new, 20., 'joint_limit', 1e-3)\n",
    "cost_sum_new_ik.addCost(rh_cost_new, 20.,'rh_pose', 1e-3)"
   ]
  },
  {
   "cell_type": "code",
   "execution_count": 138,
   "metadata": {},
   "outputs": [],
   "source": [
    "cost_sum_new.addCost(lf_cost_new, 20., 'lf_pose', 1e-4)\n",
    "cost_sum_new.addCost(rf_cost_new, 20.,'rf_pose', 1e-4)\n",
    "cost_sum_new.addCost(cost_com_bounds_new, 20., 'com_limit', 1e-3)\n",
    "cost_sum_new.addCost(bound_cost_new, 20., 'joint_limit', 1e-3)"
   ]
  },
  {
   "cell_type": "code",
   "execution_count": 139,
   "metadata": {},
   "outputs": [],
   "source": [
    "cost_sum_new2.addCost(posture_cost_new, 1. , 'posture', 1e3)"
   ]
  },
  {
   "cell_type": "raw",
   "metadata": {},
   "source": [
    "cost_sum_new.addCost(posture_cost_new, 0.01 , 'posture', 1e3)"
   ]
  },
  {
   "cell_type": "code",
   "execution_count": 140,
   "metadata": {},
   "outputs": [],
   "source": [
    "robot_projector = TalosCostProjectorNew(cost_sum_new, cost2 = cost_sum_new2)"
   ]
  },
  {
   "cell_type": "code",
   "execution_count": 141,
   "metadata": {},
   "outputs": [],
   "source": [
    "robot_ik_solver = TalosCostProjectorNew(cost_sum_new_ik, cost2 = cost_sum_new2)"
   ]
  },
  {
   "cell_type": "markdown",
   "metadata": {},
   "source": [
    "#### Using GAN sampler"
   ]
  },
  {
   "cell_type": "code",
   "execution_count": 49,
   "metadata": {},
   "outputs": [],
   "source": [
    "class GANSampler():\n",
    "    def __init__(self, target_sampler):\n",
    "        self.target_sampler = target_sampler\n",
    "    \n",
    "    def sample(self,N = 1, _poses = None, var = 1., idx_input = None):\n",
    "        if _poses is None:\n",
    "            _poses = self.target_sampler.sample(N)\n",
    "        self.poses = _poses\n",
    "        _foot_poses = np.tile(np.concatenate([pose_rf_ref[:3], pose_lf_ref[:3]]), (N,1))\n",
    "        _targets = np.hstack([_poses, _foot_poses])\n",
    "        feed_dict={batch_size: N*N_net, batch_target: _targets, eps_var:var}\n",
    "        feed_dict[batch_foot_ori] = _batch_foot_ori\n",
    "\n",
    "        _samples_q = sess.run([samples_q],feed_dict)\n",
    "        _samples_q = _samples_q[0]\n",
    "        qnew = []\n",
    "        for i in range(N):\n",
    "            #samples from N_net networks\n",
    "            if idx_input is None:\n",
    "                idx = np.random.randint(N_net)\n",
    "            else:\n",
    "                idx = idx_input\n",
    "            q = _samples_q[idx*N + i]\n",
    "            qnew += [get_pb_config(q)]\n",
    "        return np.array(qnew)"
   ]
  },
  {
   "cell_type": "code",
   "execution_count": 50,
   "metadata": {},
   "outputs": [],
   "source": [
    "#define standard sampler\n",
    "base_sampler = sampler(com_bounds.copy())\n",
    "joint_sampler = sampler(robot_joint_limits[:,7:])\n",
    "rob_sampler = talos_sampler(base_sampler, np.array([0,0,0,1]), joint_sampler)\n",
    "\n",
    "#define GAN sampler\n",
    "target_bounds = np.array([[-0.6, -.6, 0.3], [0.8, .6, 1.4]])\n",
    "#target_bounds = np.array([[0.2, -.6, 0.3], [0.8, .6, 1.4]])\n",
    "target_sampler = sampler( target_bounds)\n",
    "gan_sampler = GANSampler(target_sampler)"
   ]
  },
  {
   "cell_type": "markdown",
   "metadata": {},
   "source": [
    "#### Try GAN sampler\n"
   ]
  },
  {
   "cell_type": "code",
   "execution_count": 51,
   "metadata": {},
   "outputs": [],
   "source": [
    "#q = gan_sampler.sample(_poses = np.array([[-0.2, -0.3, 1.]]))[0]\n",
    "q = gan_sampler.sample()[0]\n",
    "set_q_std(q)"
   ]
  },
  {
   "cell_type": "markdown",
   "metadata": {},
   "source": [
    "#### Follow a given EE trajectory"
   ]
  },
  {
   "cell_type": "raw",
   "metadata": {},
   "source": [
    "ps = []\n",
    "for theta in np.linspace(0, np.pi*2, 36):\n",
    "    p1 = 0.3*np.array([0, np.cos(theta), np.sin(theta)]) + np.array([0.5, -0.4, 1.])\n",
    "    ps += [p1]\n",
    "for theta in np.linspace(0, np.pi*2, 36):\n",
    "    p1 = 0.3*np.array([0, 2-np.cos(theta), np.sin(theta)]) + np.array([0.5, -0.4, 1.])\n",
    "    ps += [p1]\n",
    "ps = np.array(ps)"
   ]
  },
  {
   "cell_type": "raw",
   "metadata": {},
   "source": [
    "#Far targets\n",
    "ps = []\n",
    "radius = 0.5\n",
    "for theta in np.linspace(0, np.pi*2, 36):\n",
    "    p1 = radius*np.array([0, np.cos(theta), np.sin(theta)]) + np.array([0.5, -0.4, 1.8])\n",
    "    ps += [p1]\n",
    "for theta in np.linspace(0, np.pi*2, 36):\n",
    "    p1 = radius*np.array([0, 2-np.cos(theta), np.sin(theta)]) + np.array([0.5, -0.4, 1.8])\n",
    "    ps += [p1]\n",
    "ps = np.array(ps)"
   ]
  },
  {
   "cell_type": "raw",
   "metadata": {},
   "source": [
    "#Far targets(2) \n",
    "ps = []\n",
    "radius = 0.8\n",
    "for theta in np.linspace(0, np.pi*2, 36):\n",
    "    p1 = radius*np.array([0, .7*np.cos(theta), np.sin(2*theta)]) + np.array([0.5, -0.4, 1.6])\n",
    "    ps += [p1]\n",
    "for theta in np.linspace(0, np.pi*2, 36):\n",
    "    p1 = radius*np.array([0, .7*(2-np.cos(theta)), np.sin(2*theta)]) + np.array([0.5, -0.4, 1.6])\n",
    "    ps += [p1]\n",
    "ps = np.array(ps)"
   ]
  },
  {
   "cell_type": "raw",
   "metadata": {},
   "source": [
    "idx_input  = 2\n",
    "qs = gan_sampler.sample(_poses = ps, N=len(ps), var = .0001, idx_input=idx_input)\n",
    "for i,q in enumerate(qs):\n",
    "    set_q_std(q)\n",
    "    p.resetBasePositionAndOrientation(ball_id, ps[i], (0,0,0,1))\n",
    "    time.sleep(0.2)"
   ]
  },
  {
   "cell_type": "raw",
   "metadata": {},
   "source": [
    "q_close = np.array([-0.01100142, -0.0747997 ,  0.95310938,  0.        ,  0.        ,\n",
    "        0.        ,  1.        , -0.01000166,  0.11020724, -0.49437532,\n",
    "        1.0760715 , -0.57671666, -0.1086676 ,  0.0049327 ,  0.10999085,\n",
    "       -0.50528753,  1.07838607, -0.58307761, -0.10690951,  0.16975221,\n",
    "        0.32189626,  0.26478308,  0.21237946, -0.02245768, -0.53339952,\n",
    "       -0.01620336, -0.00303702,  0.11936416,  0.26552096, -2.2997756 ,\n",
    "        1.00543284, -1.25439608, -1.61113083,  0.29231372, -0.04697266])"
   ]
  },
  {
   "cell_type": "raw",
   "metadata": {},
   "source": [
    "q_far = np.array([ 0.04103775,  0.1964407 ,  1.05502129,  0.        ,  0.        ,\n",
    "        0.        ,  1.        , -0.04928768, -0.24164499, -0.21000421,\n",
    "        0.59417385, -0.37170336,  0.24227996,  0.04179901, -0.23928671,\n",
    "       -0.24472946,  0.61942613, -0.40359005,  0.24146192,  1.25808883,\n",
    "       -0.15155017,  0.30867577,  0.09503055, -0.06392758, -0.45389444,\n",
    "       -0.02390311, -0.0213194 ,  0.12784614,  0.13721168, -2.67722201,\n",
    "       -0.29348588, -1.06836987, -3.04860067,  0.26383305, -1.18585384])\n",
    "set_q_std(q_far)"
   ]
  },
  {
   "cell_type": "raw",
   "metadata": {},
   "source": [
    "save_screenshot(250, 250, 750, 850, 'data/target_far.png', False)"
   ]
  },
  {
   "cell_type": "raw",
   "metadata": {},
   "source": [
    "make_animation(qs, ps, 'data/video_follow_traj_far' + str(idx_input) + '.mp4')"
   ]
  },
  {
   "cell_type": "raw",
   "metadata": {},
   "source": [
    "#### Set Camera POV"
   ]
  },
  {
   "cell_type": "raw",
   "metadata": {},
   "source": [
    "p.resetDebugVisualizerCamera( cameraDistance=2., cameraYaw=90, cameraPitch=-20, cameraTargetPosition=[0,0,1])"
   ]
  },
  {
   "cell_type": "raw",
   "metadata": {},
   "source": [
    "p.resetDebugVisualizerCamera( cameraDistance=1.8, cameraYaw=0, cameraPitch=-20, cameraTargetPosition=[0,0,1])"
   ]
  },
  {
   "cell_type": "raw",
   "metadata": {},
   "source": [
    "#### Try random"
   ]
  },
  {
   "cell_type": "raw",
   "metadata": {},
   "source": [
    "N = 10\n",
    "target_samples = target_sampler.sample(N = N)\n",
    "samples = gan_sampler.sample(_poses = target_samples, N=len(target_samples), var=0.1)\n",
    "idx = 0\n",
    "for i in range(N):\n",
    "    p.resetBasePositionAndOrientation(ball_id, target_samples[i], (0,0,0,1))\n",
    "    for j in range(2):\n",
    "        save_screenshot(200, 200, 800, 1000, 'data/temp'+str(idx)+'.png', to_show=False)\n",
    "        idx +=1\n",
    "    set_q_std(samples[i])\n",
    "    for j in range(4):\n",
    "        save_screenshot(200, 200, 800, 1000, 'data/temp'+str(idx)+'.png', to_show=False)\n",
    "        idx +=1\n",
    "\n",
    "os.system('ffmpeg -r 4 -start_number 0 -i data/temp%d.png -c:v libx264 -r 30 -pix_fmt yuv420p ' + 'data/video_random_talos.mp4')\n",
    "os.system('rm data/temp*')"
   ]
  },
  {
   "cell_type": "raw",
   "metadata": {},
   "source": [
    "def make_animation(qs,targets, filename='data/videos.mp4'):\n",
    "    for i,q in enumerate(qs):\n",
    "        p.resetBasePositionAndOrientation(ball_id, targets[i], (0,0,0,1))\n",
    "        set_q_std(q)\n",
    "        save_screenshot(200, 200, 800, 1000, 'data/temp'+str(i)+'.png', to_show=False)\n",
    "    #make into videos\n",
    "    os.system('ffmpeg -r 10 -start_number 0 -i data/temp%d.png -c:v libx264 -r 30 -pix_fmt yuv420p ' + filename)\n",
    "    os.system('rm data/temp*')"
   ]
  },
  {
   "cell_type": "markdown",
   "metadata": {},
   "source": [
    "#### Compare the projector"
   ]
  },
  {
   "cell_type": "code",
   "execution_count": 206,
   "metadata": {},
   "outputs": [],
   "source": [
    "robot_projector.mu = 1e-4\n",
    "robot_projector.mu_ext = 1e-6\n",
    "robot_projector.alpha2 = 1"
   ]
  },
  {
   "cell_type": "code",
   "execution_count": 207,
   "metadata": {
    "scrolled": true
   },
   "outputs": [
    {
     "name": "stdout",
     "output_type": "stream",
     "text": [
      "0.5 0.5\n",
      "0.25 0.5\n",
      "0.5 3.814697265625e-06\n",
      "0.5 1.52587890625e-05\n",
      "0.5 0.015625\n",
      "0.5 0.03125\n",
      "0.5 0.25\n",
      "0.5 0.0625\n",
      "0.5 0.5\n",
      "0.5 6.103515625e-05\n",
      "0.25 3.814697265625e-06\n",
      "0.125 7.62939453125e-06\n",
      "0.25 7.62939453125e-06\n",
      "0.125 7.62939453125e-06\n",
      "0.0625 7.62939453125e-06\n",
      "0.03125 1.52587890625e-05\n",
      "0.0625 6.103515625e-05\n",
      "0.015625 6.103515625e-05\n",
      "0.015625 6.103515625e-05\n",
      "0.03125 1.52587890625e-05\n",
      "0.0625 3.0517578125e-05\n",
      "0.00390625 1.52587890625e-05\n",
      "0.00390625 3.0517578125e-05\n",
      "0.001953125 6.103515625e-05\n",
      "0.001953125 0.0001220703125\n",
      "0.00390625 0.00048828125\n",
      "0.0009765625 6.103515625e-05\n",
      "0.0009765625 0.0001220703125\n",
      "0.00048828125 0.0001220703125\n",
      "0.00048828125 0.000244140625\n",
      "0.00048828125 0.0001220703125\n",
      "0.00048828125 0.000244140625\n",
      "0.00048828125 0.0001220703125\n",
      "0.00048828125 0.000244140625\n",
      "0.00048828125 0.0001220703125\n",
      "0.00048828125 0.000244140625\n",
      "0.00048828125 0.0001220703125\n",
      "0.00048828125 0.000244140625\n",
      "0.00048828125 0.0001220703125\n",
      "0.00048828125 0.000244140625\n",
      "0.00048828125 0.0001220703125\n",
      "0.00048828125 0.000244140625\n",
      "0.00048828125 0.0001220703125\n",
      "0.00048828125 0.000244140625\n",
      "0.00048828125 0.0001220703125\n",
      "0.00048828125 0.000244140625\n",
      "0.00048828125 0.0001220703125\n",
      "0.00048828125 0.000244140625\n",
      "0.00048828125 0.0001220703125\n",
      "0.00048828125 0.000244140625\n",
      "0.0009765625 6.103515625e-05\n",
      "0.001953125 0.0001220703125\n",
      "0.0009765625 0.0001220703125\n",
      "0.0009765625 0.0001220703125\n",
      "0.0009765625 0.0001220703125\n",
      "0.0009765625 0.000244140625\n",
      "0.5 0.5\n",
      "0.5 3.0517578125e-05\n",
      "0.5 0.03125\n",
      "0.5 0.0625\n",
      "0.5 0.5\n",
      "0.5 0.5\n",
      "0.5 3.0517578125e-05\n",
      "0.5 0.0625\n",
      "0.5 0.0625\n",
      "0.5 0.015625\n",
      "0.5 0.5\n",
      "0.5 0.5\n",
      "0.5 2.9802322387695312e-08\n",
      "0.5 0.25\n",
      "0.5 7.62939453125e-06\n",
      "0.5 0.03125\n",
      "0.5 0.00390625\n",
      "0.5 0.25\n",
      "0.5 0.5\n",
      "0.5 0.5\n",
      "0.5 0.125\n",
      "0.5 0.0625\n",
      "0.5 1.9073486328125e-06\n",
      "0.5 0.125\n",
      "0.5 1.9073486328125e-06\n",
      "0.5 0.00390625\n",
      "0.5 0.015625\n",
      "0.5 0.5\n",
      "0.5 7.62939453125e-06\n",
      "0.5 1.9073486328125e-06\n",
      "0.5 6.103515625e-05\n",
      "0.5 0.125\n",
      "0.5 0.0001220703125\n",
      "0.5 1.52587890625e-05\n",
      "0.5 0.000244140625\n",
      "0.5 0.125\n",
      "0.5 0.03125\n",
      "0.5 0.03125\n",
      "0.5 0.5\n",
      "0.5 0.5\n",
      "0.5 6.103515625e-05\n",
      "0.5 0.015625\n",
      "0.5 1.52587890625e-05\n",
      "0.5 0.5\n",
      "0.5 0.25\n",
      "0.5 0.03125\n",
      "0.5 0.03125\n",
      "0.5 0.015625\n",
      "0.5 2.384185791015625e-07\n",
      "0.5 0.5\n",
      "0.5 0.125\n",
      "0.5 0.25\n",
      "0.5 0.125\n",
      "0.5 9.5367431640625e-07\n",
      "0.5 0.5\n",
      "0.5 7.62939453125e-06\n",
      "0.5 3.0517578125e-05\n",
      "0.5 0.015625\n",
      "0.5 0.015625\n",
      "0.5 0.5\n",
      "0.5 0.5\n",
      "0.5 0.03125\n",
      "0.5 0.03125\n",
      "0.5 0.5\n",
      "0.5 0.5\n",
      "0.5 1.9073486328125e-06\n",
      "0.5 6.103515625e-05\n",
      "0.5 0.015625\n",
      "0.5 9.5367431640625e-07\n",
      "0.5 1.9073486328125e-06\n",
      "0.5 1.9073486328125e-06\n",
      "0.5 0.001953125\n",
      "0.5 0.015625\n",
      "0.5 1.9073486328125e-06\n",
      "0.5 2.384185791015625e-07\n",
      "0.5 0.25\n",
      "0.5 0.0078125\n",
      "0.5 4.76837158203125e-07\n",
      "0.5 1.9073486328125e-06\n",
      "0.5 0.125\n",
      "0.5 3.0517578125e-05\n",
      "0.5 0.5\n",
      "0.5 9.5367431640625e-07\n",
      "0.5 0.03125\n",
      "0.5 0.015625\n",
      "0.5 0.03125\n",
      "0.5 0.5\n",
      "0.5 3.0517578125e-05\n",
      "0.5 0.25\n",
      "0.5 0.25\n",
      "0.5 9.5367431640625e-07\n",
      "0.5 4.76837158203125e-07\n",
      "0.5 1.9073486328125e-06\n",
      "0.5 1.52587890625e-05\n",
      "0.5 0.03125\n",
      "0.5 0.25\n",
      "0.5 7.62939453125e-06\n",
      "0.5 1.52587890625e-05\n",
      "0.5 3.814697265625e-06\n",
      "0.5 0.000244140625\n",
      "0.5 0.015625\n",
      "0.5 7.62939453125e-06\n",
      "0.5 1.9073486328125e-06\n",
      "0.5 2.9802322387695312e-08\n",
      "0.125 2.9802322387695312e-08\n",
      "0.25 2.9802322387695312e-08\n",
      "1.1920928955078125e-07 1.1920928955078125e-07\n",
      "2.384185791015625e-07 2.9802322387695312e-08\n",
      "1.1920928955078125e-07 1.1920928955078125e-07\n",
      "2.384185791015625e-07 2.9802322387695312e-08\n",
      "1.1920928955078125e-07 1.1920928955078125e-07\n",
      "2.384185791015625e-07 2.9802322387695312e-08\n",
      "1.1920928955078125e-07 1.1920928955078125e-07\n",
      "2.384185791015625e-07 2.9802322387695312e-08\n",
      "1.1920928955078125e-07 1.1920928955078125e-07\n",
      "2.384185791015625e-07 2.9802322387695312e-08\n",
      "1.1920928955078125e-07 1.1920928955078125e-07\n",
      "2.384185791015625e-07 2.9802322387695312e-08\n",
      "1.1920928955078125e-07 1.1920928955078125e-07\n",
      "2.384185791015625e-07 2.9802322387695312e-08\n",
      "1.1920928955078125e-07 1.1920928955078125e-07\n",
      "2.384185791015625e-07 2.9802322387695312e-08\n",
      "1.1920928955078125e-07 1.1920928955078125e-07\n",
      "2.384185791015625e-07 2.9802322387695312e-08\n",
      "1.1920928955078125e-07 1.1920928955078125e-07\n",
      "2.384185791015625e-07 2.9802322387695312e-08\n",
      "1.1920928955078125e-07 1.1920928955078125e-07\n",
      "2.384185791015625e-07 2.9802322387695312e-08\n",
      "1.1920928955078125e-07 1.1920928955078125e-07\n",
      "2.384185791015625e-07 2.9802322387695312e-08\n",
      "1.1920928955078125e-07 1.1920928955078125e-07\n",
      "2.384185791015625e-07 2.9802322387695312e-08\n",
      "1.1920928955078125e-07 1.1920928955078125e-07\n",
      "2.384185791015625e-07 2.9802322387695312e-08\n",
      "1.1920928955078125e-07 1.1920928955078125e-07\n",
      "2.384185791015625e-07 2.9802322387695312e-08\n",
      "1.1920928955078125e-07 1.1920928955078125e-07\n",
      "2.384185791015625e-07 2.9802322387695312e-08\n",
      "1.1920928955078125e-07 1.1920928955078125e-07\n",
      "2.384185791015625e-07 2.9802322387695312e-08\n",
      "1.1920928955078125e-07 1.1920928955078125e-07\n",
      "2.384185791015625e-07 2.9802322387695312e-08\n",
      "1.1920928955078125e-07 1.1920928955078125e-07\n",
      "2.384185791015625e-07 2.9802322387695312e-08\n",
      "1.1920928955078125e-07 1.1920928955078125e-07\n",
      "2.384185791015625e-07 2.9802322387695312e-08\n",
      "1.1920928955078125e-07 1.1920928955078125e-07\n",
      "2.384185791015625e-07 2.9802322387695312e-08\n",
      "1.1920928955078125e-07 1.1920928955078125e-07\n",
      "2.384185791015625e-07 2.9802322387695312e-08\n",
      "1.1920928955078125e-07 1.1920928955078125e-07\n",
      "0.5 0.5\n",
      "0.5 3.0517578125e-05\n",
      "0.5 0.125\n",
      "0.5 0.25\n",
      "0.5 1.9073486328125e-06\n",
      "0.5 0.00390625\n",
      "0.5 0.25\n",
      "0.5 0.0078125\n",
      "0.5 0.0625\n",
      "0.5 0.5\n",
      "0.5 3.814697265625e-06\n",
      "0.5 0.5\n",
      "0.5 0.0009765625\n",
      "0.5 0.03125\n",
      "0.5 0.0625\n",
      "0.5 3.814697265625e-06\n",
      "0.5 3.814697265625e-06\n",
      "0.5 1.52587890625e-05\n",
      "0.5 0.0009765625\n",
      "0.5 0.0001220703125\n",
      "0.5 1.52587890625e-05\n",
      "0.5 0.25\n",
      "0.5 0.00390625\n",
      "0.5 0.0078125\n",
      "0.5 0.0625\n",
      "0.5 0.03125\n",
      "0.5 7.62939453125e-06\n",
      "0.5 7.62939453125e-06\n",
      "0.5 0.0078125\n",
      "0.5 0.03125\n",
      "0.5 0.5\n",
      "0.5 3.814697265625e-06\n",
      "0.5 3.0517578125e-05\n",
      "0.5 0.015625\n",
      "0.5 0.015625\n",
      "0.5 3.814697265625e-06\n",
      "0.5 3.814697265625e-06\n",
      "0.5 1.52587890625e-05\n",
      "0.5 0.00390625\n",
      "0.5 0.001953125\n",
      "0.5 4.76837158203125e-07\n",
      "0.5 7.62939453125e-06\n",
      "0.5 0.03125\n",
      "0.5 0.0078125\n",
      "0.5 0.5\n",
      "0.5 0.25\n",
      "0.5 0.0625\n",
      "0.5 0.25\n",
      "0.5 0.5\n",
      "0.5 0.0078125\n",
      "0.5 0.125\n",
      "0.5 0.125\n",
      "0.5 1.52587890625e-05\n",
      "0.5 3.814697265625e-06\n",
      "0.5 0.5\n",
      "0.5 0.125\n",
      "0.5 0.5\n",
      "0.5 1.9073486328125e-06\n",
      "0.5 0.25\n",
      "0.5 0.015625\n",
      "0.5 0.03125\n",
      "0.5 0.03125\n",
      "0.5 0.5\n",
      "0.5 0.000244140625\n",
      "0.5 0.125\n",
      "0.5 0.5\n",
      "0.5 0.25\n",
      "0.5 0.0625\n",
      "0.5 0.0625\n",
      "0.5 0.5\n",
      "0.5 7.62939453125e-06\n",
      "0.5 0.5\n",
      "0.5 0.125\n",
      "0.001953125 0.015625\n",
      "0.5 0.0625\n",
      "0.5 0.5\n",
      "0.25 3.0517578125e-05\n",
      "0.5 0.5\n",
      "0.5 0.03125\n",
      "0.5 0.03125\n",
      "0.5 0.5\n",
      "0.5 7.62939453125e-06\n",
      "0.5 0.0009765625\n",
      "0.5 0.0078125\n",
      "0.5 0.0625\n",
      "0.5 0.125\n",
      "0.5 0.125\n",
      "0.5 0.5\n",
      "0.5 0.5\n",
      "0.5 3.0517578125e-05\n",
      "0.5 0.03125\n",
      "0.5 0.5\n",
      "0.5 7.62939453125e-06\n",
      "0.5 3.814697265625e-06\n",
      "0.5 0.001953125\n",
      "0.5 0.000244140625\n",
      "0.5 9.5367431640625e-07\n",
      "0.5 3.814697265625e-06\n",
      "0.5 3.814697265625e-06\n",
      "0.5 0.125\n",
      "0.5 0.03125\n",
      "0.5 0.03125\n",
      "0.5 0.0625\n",
      "0.5 0.5\n",
      "0.5 0.25\n",
      "0.5 0.000244140625\n",
      "0.5 0.03125\n",
      "0.5 0.00390625\n",
      "0.5 0.5\n",
      "0.5 0.5\n",
      "0.5 0.5\n",
      "0.5 2.9802322387695312e-08\n",
      "0.5 1.9073486328125e-06\n",
      "0.5 0.25\n",
      "0.5 0.00390625\n",
      "0.5 0.0001220703125\n",
      "0.5 0.00390625\n",
      "0.5 0.125\n",
      "0.5 2.384185791015625e-07\n",
      "0.5 9.5367431640625e-07\n",
      "0.5 3.814697265625e-06\n",
      "0.5 0.00048828125\n",
      "0.5 0.00390625\n",
      "0.5 0.5\n",
      "0.5 7.62939453125e-06\n",
      "0.5 0.5\n",
      "0.5 0.25\n",
      "0.5 6.103515625e-05\n",
      "0.5 0.0078125\n",
      "0.5 1.9073486328125e-06\n",
      "0.5 2.384185791015625e-07\n",
      "0.5 2.9802322387695312e-08\n",
      "0.5 4.76837158203125e-07\n",
      "0.5 2.9802322387695312e-08\n",
      "0.5 7.450580596923828e-09\n",
      "0.5 1.4901161193847656e-08\n",
      "2.384185791015625e-07 1.4901161193847656e-08\n",
      "0.5 1.4901161193847656e-08\n",
      "1.1920928955078125e-07 7.450580596923828e-09\n",
      "0.5 7.450580596923828e-09\n",
      "5.960464477539063e-08 7.450580596923828e-09\n",
      "0.125 7.450580596923828e-09\n",
      "5.960464477539063e-08 7.450580596923828e-09\n",
      "0.5 7.450580596923828e-09\n",
      "5.960464477539063e-08 7.450580596923828e-09\n",
      "0.5 1.4901161193847656e-08\n",
      "5.960464477539063e-08 1.4901161193847656e-08\n",
      "0.25 1.4901161193847656e-08\n",
      "2.384185791015625e-07 1.4901161193847656e-08\n",
      "0.125 2.9802322387695312e-08\n",
      "0.5 1.4901161193847656e-08\n",
      "3.0517578125e-05 1.4901161193847656e-08\n",
      "3.0517578125e-05 1.4901161193847656e-08\n",
      "3.0517578125e-05 1.4901161193847656e-08\n",
      "3.0517578125e-05 1.4901161193847656e-08\n",
      "3.0517578125e-05 1.4901161193847656e-08\n",
      "3.0517578125e-05 1.4901161193847656e-08\n",
      "3.0517578125e-05 1.4901161193847656e-08\n",
      "3.0517578125e-05 1.4901161193847656e-08\n",
      "3.0517578125e-05 1.4901161193847656e-08\n",
      "3.0517578125e-05 1.4901161193847656e-08\n",
      "3.0517578125e-05 1.4901161193847656e-08\n",
      "3.0517578125e-05 1.4901161193847656e-08\n",
      "3.0517578125e-05 1.4901161193847656e-08\n",
      "3.0517578125e-05 1.4901161193847656e-08\n",
      "3.0517578125e-05 1.4901161193847656e-08\n",
      "3.0517578125e-05 1.4901161193847656e-08\n",
      "3.0517578125e-05 1.4901161193847656e-08\n",
      "3.0517578125e-05 1.4901161193847656e-08\n",
      "3.0517578125e-05 1.4901161193847656e-08\n",
      "3.0517578125e-05 1.4901161193847656e-08\n",
      "3.0517578125e-05 1.4901161193847656e-08\n",
      "3.0517578125e-05 1.4901161193847656e-08\n",
      "3.0517578125e-05 1.4901161193847656e-08\n",
      "3.0517578125e-05 1.4901161193847656e-08\n",
      "3.0517578125e-05 1.4901161193847656e-08\n",
      "3.0517578125e-05 1.4901161193847656e-08\n",
      "3.0517578125e-05 1.4901161193847656e-08\n",
      "3.0517578125e-05 1.4901161193847656e-08\n",
      "0.5 0.5\n",
      "0.5 7.62939453125e-06\n",
      "0.5 0.015625\n",
      "0.5 0.03125\n",
      "0.5 1.9073486328125e-06\n",
      "0.5 1.9073486328125e-06\n",
      "0.5 0.00048828125\n",
      "0.5 0.0625\n",
      "0.5 7.62939453125e-06\n",
      "0.5 0.0625\n",
      "0.5 3.814697265625e-06\n",
      "0.5 0.00390625\n",
      "0.5 0.015625\n",
      "0.5 0.25\n",
      "0.5 4.76837158203125e-07\n",
      "0.5 3.814697265625e-06\n",
      "0.5 3.0517578125e-05\n",
      "0.5 0.0078125\n",
      "0.5 0.00390625\n",
      "0.5 0.015625\n",
      "0.5 0.5\n",
      "0.5 1.52587890625e-05\n",
      "0.5 0.03125\n",
      "0.5 0.0625\n",
      "0.5 0.5\n",
      "0.5 0.5\n",
      "0.5 9.5367431640625e-07\n",
      "0.5 0.5\n",
      "0.5 0.25\n",
      "0.5 0.5\n",
      "0.5 1.1920928955078125e-07\n",
      "0.5 5.960464477539063e-08\n",
      "0.5 2.9802322387695312e-08\n",
      "0.5 1.4901161193847656e-08\n",
      "0.5 1.4901161193847656e-08\n",
      "0.5 1.4901161193847656e-08\n",
      "0.5 1.4901161193847656e-08\n",
      "0.5 1.4901161193847656e-08\n",
      "0.5 1.4901161193847656e-08\n",
      "0.5 1.1920928955078125e-07\n",
      "0.5 3.725290298461914e-09\n",
      "0.5 1.1920928955078125e-07\n",
      "4.76837158203125e-07 1.4901161193847656e-08\n",
      "2.384185791015625e-07 7.450580596923828e-09\n",
      "4.76837158203125e-07 1.4901161193847656e-08\n",
      "2.384185791015625e-07 7.450580596923828e-09\n",
      "4.76837158203125e-07 1.4901161193847656e-08\n",
      "2.384185791015625e-07 7.450580596923828e-09\n",
      "4.76837158203125e-07 1.4901161193847656e-08\n",
      "2.384185791015625e-07 7.450580596923828e-09\n",
      "4.76837158203125e-07 1.4901161193847656e-08\n",
      "2.384185791015625e-07 7.450580596923828e-09\n",
      "4.76837158203125e-07 1.4901161193847656e-08\n",
      "2.384185791015625e-07 7.450580596923828e-09\n",
      "4.76837158203125e-07 1.4901161193847656e-08\n",
      "2.384185791015625e-07 7.450580596923828e-09\n",
      "4.76837158203125e-07 1.4901161193847656e-08\n",
      "2.384185791015625e-07 7.450580596923828e-09\n",
      "4.76837158203125e-07 1.4901161193847656e-08\n",
      "2.384185791015625e-07 7.450580596923828e-09\n",
      "4.76837158203125e-07 1.4901161193847656e-08\n",
      "2.384185791015625e-07 7.450580596923828e-09\n",
      "4.76837158203125e-07 1.4901161193847656e-08\n",
      "2.384185791015625e-07 7.450580596923828e-09\n",
      "4.76837158203125e-07 1.4901161193847656e-08\n",
      "2.384185791015625e-07 7.450580596923828e-09\n",
      "4.76837158203125e-07 1.4901161193847656e-08\n",
      "2.384185791015625e-07 7.450580596923828e-09\n",
      "4.76837158203125e-07 1.4901161193847656e-08\n",
      "2.384185791015625e-07 7.450580596923828e-09\n",
      "4.76837158203125e-07 1.4901161193847656e-08\n",
      "2.384185791015625e-07 7.450580596923828e-09\n",
      "4.76837158203125e-07 1.4901161193847656e-08\n",
      "2.384185791015625e-07 7.450580596923828e-09\n",
      "4.76837158203125e-07 1.4901161193847656e-08\n",
      "2.384185791015625e-07 7.450580596923828e-09\n",
      "4.76837158203125e-07 1.4901161193847656e-08\n",
      "2.384185791015625e-07 7.450580596923828e-09\n",
      "4.76837158203125e-07 1.4901161193847656e-08\n",
      "0.5 0.5\n",
      "0.5 4.76837158203125e-07\n",
      "0.5 1.52587890625e-05\n",
      "0.5 0.015625\n",
      "0.5 4.76837158203125e-07\n",
      "0.5 4.76837158203125e-07\n",
      "0.5 3.814697265625e-06\n",
      "0.5 0.00390625\n",
      "0.5 0.015625\n",
      "0.5 0.5\n",
      "0.5 0.5\n",
      "0.5 0.015625\n",
      "0.5 0.03125\n",
      "0.5 0.0625\n",
      "0.5 0.0078125\n",
      "0.5 0.5\n",
      "0.5 0.5\n",
      "0.5 0.125\n",
      "0.5 0.03125\n",
      "0.5 0.5\n",
      "0.5 0.5\n",
      "0.5 0.25\n",
      "0.5 0.001953125\n",
      "0.5 7.62939453125e-06\n",
      "0.5 9.5367431640625e-07\n",
      "0.5 0.5\n",
      "0.25 7.62939453125e-06\n",
      "0.5 7.62939453125e-06\n",
      "0.5 3.814697265625e-06\n",
      "0.25 7.62939453125e-06\n",
      "0.125 7.62939453125e-06\n",
      "0.25 0.015625\n",
      "0.125 0.125\n",
      "0.125 0.0001220703125\n",
      "0.125 3.814697265625e-06\n",
      "0.125 3.0517578125e-05\n",
      "0.0625 7.62939453125e-06\n",
      "0.0625 6.103515625e-05\n",
      "0.0625 7.62939453125e-06\n",
      "0.125 6.103515625e-05\n",
      "0.03125 6.103515625e-05\n",
      "0.0078125 0.00048828125\n",
      "0.0078125 3.0517578125e-05\n",
      "0.0078125 0.0001220703125\n",
      "0.001953125 0.0001220703125\n",
      "0.0001220703125 0.0009765625\n",
      "0.000244140625 0.0009765625\n",
      "0.000244140625 0.001953125\n",
      "0.00048828125 0.001953125\n",
      "0.00048828125 0.001953125\n",
      "0.00048828125 0.001953125\n",
      "0.000244140625 0.001953125\n",
      "0.000244140625 0.001953125\n",
      "0.000244140625 0.00390625\n",
      "0.0009765625 0.0078125\n",
      "0.0009765625 0.00390625\n",
      "0.0001220703125 0.000244140625\n",
      "0.00390625 0.0625\n",
      "0.0078125 0.0078125\n",
      "0.00390625 0.0009765625\n",
      "0.00390625 0.000244140625\n",
      "0.00390625 0.0001220703125\n",
      "0.001953125 0.000244140625\n",
      "0.0009765625 0.0001220703125\n",
      "0.0009765625 0.000244140625\n",
      "0.00048828125 0.0001220703125\n",
      "0.000244140625 0.00048828125\n",
      "0.000244140625 0.0001220703125\n",
      "0.000244140625 0.00048828125\n",
      "0.0001220703125 0.000244140625\n",
      "6.103515625e-05 0.0009765625\n",
      "6.103515625e-05 0.0009765625\n",
      "6.103515625e-05 0.0009765625\n",
      "0.5 0.5\n",
      "0.5 0.5\n",
      "0.5 0.0009765625\n",
      "0.5 0.25\n",
      "0.5 0.5\n",
      "0.5 0.5\n",
      "0.5 0.5\n",
      "0.5 0.015625\n",
      "0.5 0.0001220703125\n",
      "0.5 0.5\n",
      "0.5 0.5\n",
      "0.5 0.25\n",
      "0.5 0.25\n",
      "0.5 3.814697265625e-06\n",
      "0.5 0.0001220703125\n",
      "0.5 6.103515625e-05\n",
      "0.5 0.5\n",
      "0.5 0.5\n",
      "0.5 4.76837158203125e-07\n",
      "0.5 1.9073486328125e-06\n",
      "0.5 1.52587890625e-05\n",
      "0.5 1.52587890625e-05\n",
      "0.5 7.62939453125e-06\n",
      "0.5 0.03125\n",
      "0.5 0.03125\n",
      "0.5 0.00048828125\n",
      "0.5 4.76837158203125e-07\n",
      "0.5 2.384185791015625e-07\n",
      "0.5 0.0625\n",
      "0.5 0.015625\n",
      "0.5 0.0009765625\n",
      "0.5 0.5\n",
      "0.5 9.5367431640625e-07\n",
      "0.25 9.5367431640625e-07\n",
      "0.5 4.76837158203125e-07\n",
      "0.5 3.814697265625e-06\n",
      "0.25 0.00390625\n",
      "0.125 1.52587890625e-05\n",
      "0.5 0.00390625\n",
      "0.5 0.015625\n",
      "0.5 0.0078125\n",
      "0.5 0.5\n",
      "0.5 6.103515625e-05\n",
      "0.5 0.125\n",
      "0.5 0.125\n",
      "0.5 9.5367431640625e-07\n",
      "0.5 2.384185791015625e-07\n",
      "0.5 3.814697265625e-06\n",
      "0.5 0.0009765625\n",
      "0.5 0.015625\n",
      "0.5 0.5\n",
      "0.5 4.76837158203125e-07\n",
      "0.5 0.0625\n",
      "0.5 0.125\n",
      "0.5 0.03125\n",
      "0.5 0.5\n",
      "0.5 7.62939453125e-06\n",
      "0.5 0.5\n",
      "0.5 0.0625\n",
      "0.5 0.5\n",
      "0.5 1.52587890625e-05\n",
      "0.5 0.25\n",
      "0.5 0.000244140625\n",
      "0.5 0.125\n",
      "0.5 0.125\n",
      "0.5 0.125\n",
      "0.5 0.0625\n",
      "0.5 0.03125\n",
      "0.5 0.5\n",
      "0.5 4.76837158203125e-07\n",
      "0.5 1.9073486328125e-06\n",
      "0.5 0.5\n",
      "0.5 0.0009765625\n",
      "0.5 0.015625\n",
      "0.5 0.015625\n",
      "0.5 0.03125\n",
      "0.5 0.03125\n",
      "0.5 0.125\n",
      "0.5 0.5\n",
      "0.5 0.125\n",
      "0.5 0.001953125\n",
      "0.5 0.015625\n",
      "0.5 0.0078125\n",
      "0.5 0.5\n",
      "0.5 7.62939453125e-06\n",
      "0.5 0.03125\n",
      "0.5 3.0517578125e-05\n",
      "0.5 0.015625\n",
      "0.5 9.5367431640625e-07\n",
      "0.5 1.9073486328125e-06\n",
      "0.5 0.015625\n",
      "0.5 0.015625\n",
      "0.5 7.62939453125e-06\n",
      "0.125 0.5\n",
      "0.125 0.5\n",
      "0.5 0.5\n",
      "0.5 3.814697265625e-06\n",
      "0.5 7.62939453125e-06\n",
      "0.5 0.0001220703125\n",
      "0.5 0.00048828125\n",
      "0.0625 0.001953125\n",
      "0.25 0.001953125\n",
      "0.25 0.001953125\n",
      "0.5 0.00390625\n",
      "0.5 0.0078125\n",
      "0.5 0.015625\n",
      "0.5 0.5\n",
      "0.5 6.103515625e-05\n",
      "0.5 0.0009765625\n",
      "0.5 0.125\n",
      "0.5 0.0625\n",
      "0.5 0.5\n",
      "0.5 0.5\n",
      "0.5 1.9073486328125e-06\n",
      "0.5 0.5\n",
      "0.5 0.00390625\n",
      "0.5 7.62939453125e-06\n",
      "0.5 0.125\n",
      "0.125 9.5367431640625e-07\n",
      "0.25 1.9073486328125e-06\n",
      "0.5 6.103515625e-05\n",
      "0.5 0.015625\n",
      "0.5 1.9073486328125e-06\n",
      "0.5 5.960464477539063e-08\n",
      "0.25 0.5\n",
      "0.25 4.76837158203125e-07\n",
      "0.25 0.5\n",
      "0.125 0.0625\n",
      "0.125 9.5367431640625e-07\n",
      "0.25 3.814697265625e-06\n",
      "0.125 1.9073486328125e-06\n",
      "0.0625 7.62939453125e-06\n",
      "0.0625 1.9073486328125e-06\n",
      "0.0625 3.814697265625e-06\n",
      "0.03125 3.814697265625e-06\n",
      "0.03125 0.015625\n",
      "0.001953125 1.52587890625e-05\n",
      "0.00390625 6.103515625e-05\n",
      "0.00390625 1.52587890625e-05\n",
      "0.001953125 0.25\n",
      "0.00390625 0.03125\n",
      "0.0078125 7.62939453125e-06\n",
      "0.0078125 0.0078125\n",
      "0.00390625 7.62939453125e-06\n",
      "0.00390625 6.103515625e-05\n",
      "0.0009765625 3.0517578125e-05\n",
      "1.52587890625e-05 0.0001220703125\n",
      "0.0009765625 0.03125\n",
      "0.001953125 0.000244140625\n",
      "0.0009765625 0.0001220703125\n",
      "0.0009765625 0.03125\n",
      "0.0009765625 0.03125\n",
      "0.0009765625 1.52587890625e-05\n",
      "0.001953125 0.000244140625\n",
      "0.0009765625 6.103515625e-05\n",
      "0.0009765625 0.0625\n",
      "0.001953125 0.0001220703125\n",
      "0.001953125 3.0517578125e-05\n",
      "0.001953125 0.0001220703125\n",
      "0.0009765625 3.0517578125e-05\n",
      "0.0009765625 0.125\n",
      "0.001953125 0.0001220703125\n",
      "0.001953125 1.52587890625e-05\n",
      "0.00390625 6.103515625e-05\n",
      "0.00390625 1.52587890625e-05\n",
      "0.00390625 6.103515625e-05\n",
      "0.00390625 1.52587890625e-05\n",
      "0.00390625 3.0517578125e-05\n",
      "0.00390625 1.52587890625e-05\n",
      "0.001953125 6.103515625e-05\n",
      "0.001953125 1.52587890625e-05\n",
      "0.001953125 6.103515625e-05\n",
      "0.5 3.814697265625e-06\n",
      "0.5 3.0517578125e-05\n",
      "0.5 0.03125\n",
      "0.5 0.03125\n",
      "0.5 0.03125\n",
      "0.5 7.62939453125e-06\n",
      "0.5 0.00048828125\n",
      "0.5 0.015625\n",
      "0.5 1.9073486328125e-06\n",
      "0.5 7.62939453125e-06\n",
      "0.5 0.0009765625\n",
      "0.5 0.00048828125\n",
      "0.5 0.015625\n",
      "0.5 0.03125\n",
      "0.5 0.03125\n",
      "0.5 0.5\n",
      "0.5 7.62939453125e-06\n",
      "0.5 0.5\n",
      "0.5 0.0001220703125\n",
      "0.5 9.5367431640625e-07\n",
      "0.5 1.9073486328125e-06\n",
      "0.5 0.125\n",
      "0.5 0.0078125\n",
      "0.5 0.03125\n",
      "0.5 0.5\n",
      "0.5 0.5\n",
      "0.5 0.5\n",
      "0.125 0.03125\n",
      "0.0625 0.015625\n",
      "0.03125 0.015625\n",
      "0.03125 0.015625\n",
      "0.015625 0.0078125\n",
      "0.0078125 0.0078125\n",
      "0.0078125 0.0078125\n",
      "0.0078125 0.0078125\n",
      "0.0078125 0.0078125\n",
      "0.0078125 0.0078125\n",
      "0.0078125 0.0078125\n",
      "0.0078125 0.0078125\n",
      "0.0078125 0.0078125\n",
      "0.0078125 0.0078125\n",
      "0.0078125 0.0078125\n",
      "0.0078125 0.0078125\n",
      "0.0078125 0.0078125\n",
      "0.0078125 0.0078125\n",
      "0.0078125 0.0078125\n",
      "0.0078125 0.0078125\n",
      "0.0078125 0.015625\n",
      "0.015625 0.015625\n",
      "0.015625 0.015625\n",
      "0.015625 0.0078125\n",
      "0.0078125 0.00390625\n",
      "0.00390625 0.001953125\n",
      "0.001953125 0.0009765625\n",
      "0.0009765625 0.000244140625\n",
      "0.000244140625 6.103515625e-05\n",
      "6.103515625e-05 0.0078125\n",
      "0.00390625 0.015625\n",
      "0.0078125 0.015625\n",
      "0.0078125 0.015625\n",
      "0.0078125 0.015625\n",
      "0.00390625 0.015625\n",
      "0.00390625 0.015625\n",
      "0.00390625 0.015625\n",
      "0.00390625 0.03125\n",
      "0.0078125 0.03125\n",
      "0.0078125 0.03125\n",
      "0.0078125 0.03125\n",
      "0.0078125 0.0625\n",
      "0.0078125 0.0625\n",
      "0.0078125 0.125\n",
      "0.015625 0.25\n",
      "0.015625 0.5\n",
      "0.015625 0.5\n",
      "0.5 0.25\n",
      "0.5 0.5\n",
      "0.5 0.25\n",
      "0.5 0.5\n",
      "0.5 0.5\n",
      "0.5 0.5\n",
      "0.5 0.03125\n",
      "0.5 0.00048828125\n",
      "0.5 0.5\n",
      "0.5 3.814697265625e-06\n",
      "0.5 0.25\n",
      "0.5 0.0625\n",
      "0.5 0.125\n",
      "0.5 3.814697265625e-06\n",
      "0.5 3.814697265625e-06\n",
      "0.5 0.25\n",
      "0.5 0.015625\n",
      "0.5 0.03125\n",
      "0.5 7.62939453125e-06\n",
      "0.5 0.5\n",
      "0.25 2.384185791015625e-07\n",
      "0.5 0.0625\n",
      "0.5 0.0078125\n",
      "0.5 0.015625\n",
      "0.5 0.25\n",
      "0.5 0.5\n",
      "0.5 1.9073486328125e-06\n",
      "0.5 0.125\n",
      "0.5 0.25\n",
      "0.5 2.384185791015625e-07\n",
      "0.5 1.4901161193847656e-08\n",
      "0.25 2.9802322387695312e-08\n",
      "0.5 1.4901161193847656e-08\n",
      "0.125 1.4901161193847656e-08\n",
      "0.5 1.4901161193847656e-08\n",
      "0.0625 1.4901161193847656e-08\n",
      "0.001953125 1.4901161193847656e-08\n",
      "0.000244140625 1.4901161193847656e-08\n",
      "7.62939453125e-06 1.4901161193847656e-08\n",
      "9.5367431640625e-07 1.4901161193847656e-08\n",
      "1.1920928955078125e-07 1.4901161193847656e-08\n",
      "1.1920928955078125e-07 1.4901161193847656e-08\n",
      "1.1920928955078125e-07 1.4901161193847656e-08\n",
      "1.1920928955078125e-07 1.4901161193847656e-08\n",
      "1.1920928955078125e-07 1.4901161193847656e-08\n",
      "1.1920928955078125e-07 1.4901161193847656e-08\n",
      "1.1920928955078125e-07 1.4901161193847656e-08\n",
      "1.1920928955078125e-07 1.4901161193847656e-08\n",
      "1.1920928955078125e-07 1.4901161193847656e-08\n",
      "1.1920928955078125e-07 1.4901161193847656e-08\n",
      "1.1920928955078125e-07 1.4901161193847656e-08\n",
      "1.1920928955078125e-07 1.4901161193847656e-08\n",
      "1.1920928955078125e-07 1.4901161193847656e-08\n",
      "1.1920928955078125e-07 1.4901161193847656e-08\n",
      "1.1920928955078125e-07 1.4901161193847656e-08\n",
      "1.1920928955078125e-07 1.4901161193847656e-08\n",
      "1.1920928955078125e-07 1.4901161193847656e-08\n",
      "1.1920928955078125e-07 1.4901161193847656e-08\n",
      "1.1920928955078125e-07 1.4901161193847656e-08\n",
      "1.1920928955078125e-07 1.4901161193847656e-08\n",
      "1.1920928955078125e-07 1.4901161193847656e-08\n",
      "1.1920928955078125e-07 1.4901161193847656e-08\n",
      "1.1920928955078125e-07 1.4901161193847656e-08\n",
      "1.1920928955078125e-07 1.4901161193847656e-08\n",
      "1.1920928955078125e-07 1.4901161193847656e-08\n",
      "1.1920928955078125e-07 1.4901161193847656e-08\n",
      "1.1920928955078125e-07 1.4901161193847656e-08\n",
      "1.1920928955078125e-07 1.4901161193847656e-08\n",
      "1.1920928955078125e-07 1.4901161193847656e-08\n",
      "1.1920928955078125e-07 1.4901161193847656e-08\n",
      "1.1920928955078125e-07 1.4901161193847656e-08\n",
      "1.1920928955078125e-07 1.4901161193847656e-08\n",
      "1.1920928955078125e-07 1.4901161193847656e-08\n",
      "1.1920928955078125e-07 1.4901161193847656e-08\n",
      "1.1920928955078125e-07 1.4901161193847656e-08\n",
      "1.1920928955078125e-07 1.4901161193847656e-08\n",
      "1.1920928955078125e-07 1.4901161193847656e-08\n",
      "1.1920928955078125e-07 1.4901161193847656e-08\n",
      "1.1920928955078125e-07 1.4901161193847656e-08\n",
      "0.5 9.5367431640625e-07\n",
      "0.25 3.814697265625e-06\n",
      "0.5 0.25\n",
      "0.5 0.0625\n",
      "0.5 0.03125\n",
      "0.5 0.5\n",
      "0.5 3.0517578125e-05\n",
      "0.5 0.0001220703125\n",
      "0.5 0.03125\n",
      "0.5 0.125\n",
      "0.5 4.76837158203125e-07\n",
      "0.5 1.52587890625e-05\n",
      "0.5 0.00390625\n",
      "0.5 0.03125\n",
      "0.5 0.5\n",
      "0.5 7.62939453125e-06\n",
      "0.5 0.25\n",
      "0.5 0.0625\n",
      "0.5 0.0625\n",
      "0.5 0.5\n",
      "0.5 1.52587890625e-05\n",
      "0.5 0.5\n",
      "0.5 7.62939453125e-06\n",
      "0.5 0.00390625\n",
      "0.5 0.03125\n",
      "0.5 0.5\n",
      "0.5 0.5\n",
      "0.5 0.5\n",
      "0.5 0.00390625\n",
      "0.5 0.0009765625\n",
      "0.5 0.5\n",
      "0.5 0.5\n",
      "0.5 0.0009765625\n",
      "0.5 0.25\n",
      "0.5 0.0078125\n",
      "0.5 0.25\n",
      "0.5 0.5\n",
      "0.5 0.5\n",
      "0.5 0.25\n",
      "0.5 0.5\n",
      "0.5 0.00048828125\n",
      "0.5 0.015625\n",
      "0.5 0.5\n",
      "0.5 0.0625\n",
      "0.5 0.5\n",
      "0.5 0.25\n",
      "0.5 0.5\n",
      "0.5 0.5\n",
      "0.5 0.5\n",
      "0.5 0.5\n",
      "0.5 0.5\n",
      "0.5 0.03125\n",
      "0.5 0.5\n",
      "0.5 0.5\n",
      "0.5 0.5\n",
      "0.5 0.5\n",
      "0.5 0.5\n",
      "0.5 0.5\n",
      "0.5 0.5\n",
      "0.5 0.5\n",
      "0.5 0.5\n",
      "0.5 0.5\n",
      "0.5 0.5\n",
      "0.5 0.5\n",
      "0.5 0.5\n",
      "0.5 0.5\n",
      "0.5 0.5\n",
      "0.5 0.5\n",
      "0.5 0.5\n",
      "0.5 0.5\n",
      "0.5 0.5\n",
      "0.5 0.5\n",
      "0.5 0.5\n",
      "0.5 0.5\n",
      "0.5 0.015625\n",
      "0.5 0.5\n",
      "0.5 0.5\n",
      "0.5 0.5\n",
      "0.5 0.5\n",
      "0.5 0.0625\n",
      "0.5 0.5\n",
      "0.5 0.0078125\n",
      "0.5 0.5\n",
      "0.5 0.5\n",
      "0.5 0.5\n",
      "0.5 0.001953125\n",
      "0.5 0.125\n",
      "0.5 0.03125\n",
      "0.5 0.25\n",
      "0.5 0.001953125\n",
      "0.5 0.0078125\n",
      "0.5 0.5\n",
      "0.5 0.5\n",
      "0.5 0.5\n",
      "0.5 6.103515625e-05\n",
      "0.5 0.25\n",
      "0.5 0.00048828125\n",
      "0.5 0.0078125\n",
      "0.5 0.5\n",
      "0.5 0.0009765625\n",
      "0.5 0.00390625\n",
      "0.5 0.5\n",
      "0.5 0.5\n",
      "0.5 0.5\n",
      "0.5 0.5\n",
      "0.5 0.5\n",
      "0.5 0.5\n",
      "0.5 0.015625\n",
      "0.5 0.5\n",
      "0.5 0.5\n",
      "0.5 0.0625\n",
      "0.5 0.5\n",
      "0.5 0.5\n",
      "0.5 0.0001220703125\n",
      "0.5 0.25\n",
      "0.5 0.0001220703125\n",
      "0.5 0.0078125\n",
      "0.5 0.015625\n",
      "0.5 0.5\n",
      "0.5 0.5\n",
      "0.5 0.5\n",
      "0.5 0.0625\n",
      "0.5 0.5\n",
      "0.5 0.5\n",
      "0.5 0.00048828125\n",
      "0.5 0.5\n",
      "0.5 0.5\n",
      "0.5 0.0078125\n",
      "0.5 0.5\n",
      "0.5 0.5\n",
      "0.5 0.5\n",
      "0.5 0.5\n",
      "0.5 0.001953125\n",
      "0.5 0.5\n",
      "0.5 0.5\n",
      "0.5 0.5\n",
      "0.5 0.5\n",
      "0.5 0.5\n",
      "0.5 0.5\n",
      "0.5 0.5\n",
      "0.5 0.015625\n",
      "0.5 0.5\n",
      "0.5 0.5\n",
      "0.5 0.5\n",
      "0.5 0.5\n",
      "0.5 0.5\n",
      "0.5 0.00390625\n",
      "0.5 0.25\n",
      "0.5 0.125\n",
      "0.5 0.5\n",
      "0.5 0.25\n",
      "0.5 0.125\n",
      "0.5 0.5\n",
      "0.5 0.5\n",
      "0.5 0.5\n",
      "0.5 0.5\n",
      "0.5 0.5\n",
      "0.5 0.5\n",
      "0.5 0.5\n",
      "0.5 0.125\n",
      "0.5 0.5\n",
      "0.5 0.125\n",
      "0.5 0.00390625\n",
      "0.5 0.001953125\n",
      "0.5 0.03125\n",
      "0.5 0.5\n",
      "0.5 0.015625\n",
      "0.5 0.5\n",
      "0.5 0.00390625\n",
      "0.5 0.00390625\n",
      "0.5 0.001953125\n",
      "0.5 0.001953125\n",
      "0.5 0.5\n",
      "0.5 0.5\n",
      "0.5 0.5\n",
      "0.5 0.0078125\n",
      "0.5 0.5\n",
      "0.5 0.5\n",
      "0.5 0.5\n",
      "0.5 0.5\n",
      "0.5 0.5\n",
      "0.5 0.5\n",
      "0.5 0.5\n",
      "0.5 0.5\n",
      "0.5 0.5\n",
      "0.5 0.5\n",
      "0.5 0.5\n",
      "0.5 0.5\n",
      "0.5 0.0625\n",
      "0.5 0.5\n",
      "0.5 0.5\n",
      "0.5 0.5\n",
      "0.5 0.5\n",
      "0.5 0.000244140625\n",
      "0.5 0.03125\n",
      "0.5 0.5\n",
      "0.5 0.5\n",
      "0.5 0.125\n",
      "0.5 0.5\n",
      "0.5 0.5\n",
      "0.5 0.5\n",
      "0.5 0.0078125\n",
      "0.5 0.25\n",
      "0.5 0.5\n",
      "0.5 0.5\n",
      "0.5 0.5\n",
      "0.5 0.5\n",
      "0.5 0.5\n",
      "0.5 0.5\n",
      "0.5 0.0625\n",
      "0.5 0.5\n",
      "0.5 0.25\n",
      "0.5 0.00390625\n",
      "0.5 0.5\n",
      "0.5 0.5\n",
      "0.5 0.5\n",
      "0.5 0.015625\n",
      "0.5 0.125\n",
      "0.5 0.00390625\n",
      "0.5 0.00390625\n",
      "0.5 0.03125\n"
     ]
    }
   ],
   "source": [
    "methods = [rob_sampler, gan_sampler]\n",
    "method_names = ['Random', 'GAN']\n",
    "# methods = [gan_sampler]\n",
    "# method_names = [ 'GAN']\n",
    "samples = gan_sampler.sample(1000)\n",
    "\n",
    "N = 100\n",
    "\n",
    "data = dict()\n",
    "for m in range(len(methods)):\n",
    "    comp_times = []\n",
    "    success = []\n",
    "    fevals = []\n",
    "    for i in range(N):\n",
    "        #idx = np.random.randint(500)\n",
    "        idx = i\n",
    "        if method_names[m] == 'GAN':\n",
    "            q = samples[idx]\n",
    "        else:\n",
    "            q = rob_sampler.sample().flatten()\n",
    "        tic = time.time()\n",
    "        res = robot_projector.project(q)\n",
    "        toc = time.time()\n",
    "        comp_times += [toc-tic]\n",
    "        success += [res['stat']]\n",
    "        fevals += [res['nfev']]\n",
    "    data[method_names[m]] = [comp_times, success, fevals]"
   ]
  },
  {
   "cell_type": "code",
   "execution_count": 208,
   "metadata": {},
   "outputs": [
    {
     "name": "stdout",
     "output_type": "stream",
     "text": [
      "& Random & 92.0 &  37.7 $\\pm$ 78.9 &  15.4 $\\pm$ 7.5 &  5.3 $\\pm$ 1.7\\\\ \n",
      "& GAN & 100.0 &  3.8 $\\pm$ 1.7 &  3.8 $\\pm$ 1.7 &  2.0 $\\pm$ 0.4\\\\ \n"
     ]
    }
   ],
   "source": [
    "for m in range(len(methods[:2])):\n",
    "    print('& ' + method_names[m], end=' ')\n",
    "    comp_times, success, fevals = data[method_names[m]]\n",
    "    comp_times = np.array(comp_times)\n",
    "    fevals = np.array(fevals)\n",
    "\n",
    "    print('& {0:.1f} &  {1:.1f} $\\pm$ {2:.1f} &  {3:.1f} $\\pm$ {4:.1f} &  {5:.1f} $\\pm$ {6:.1f}'.format(np.sum(success)*100./N, np.mean(comp_times)*1000, np.std(comp_times)*1000, np.mean(comp_times[success])*1000, np.std(comp_times[success])*1000,np.mean(fevals[success]), np.std(fevals[success])), end = ''),\n",
    "    print('\\\\\\\\ ')"
   ]
  },
  {
   "cell_type": "markdown",
   "metadata": {},
   "source": [
    "### Compare the IK solver"
   ]
  },
  {
   "cell_type": "code",
   "execution_count": 63,
   "metadata": {},
   "outputs": [],
   "source": [
    "ik_target_bounds = np.array([[0.3, -.4, 0.6], [0.8, .4, 1.1]])\n",
    "#target_bounds = np.array([[0.2, -.6, 0.3], [0.8, .6, 1.4]])\n",
    "ik_target_sampler = sampler( ik_target_bounds)"
   ]
  },
  {
   "cell_type": "code",
   "execution_count": 70,
   "metadata": {},
   "outputs": [],
   "source": [
    "robot_ik_solver.alpha2 = 0.1"
   ]
  },
  {
   "cell_type": "code",
   "execution_count": 64,
   "metadata": {},
   "outputs": [],
   "source": [
    "targets = data_target[:2000,:3]\n",
    "targets = ik_target_sampler.sample(2000)\n",
    "samples = gan_sampler.sample(N=2000, _poses=targets, var = 0.1)"
   ]
  },
  {
   "cell_type": "code",
   "execution_count": 71,
   "metadata": {},
   "outputs": [],
   "source": [
    "N = 100\n",
    "data = dict()\n",
    "for m in range(len(methods)):\n",
    "    comp_times = []\n",
    "    success = []\n",
    "    fevals = []\n",
    "    for i in range(N):\n",
    "        idx = i\n",
    "        if method_names[m] == 'GAN':\n",
    "            q = samples[idx]\n",
    "        else:\n",
    "            q = rob_sampler.sample().flatten()\n",
    "        tic = time.time()\n",
    "        robot_ik_solver.cost.costs['rh_pose'].cost.desired_pose[:3] = targets[i]\n",
    "        res = robot_ik_solver.project(q)\n",
    "        toc = time.time()\n",
    "        comp_times += [toc-tic]\n",
    "        success += [res['stat']]\n",
    "        fevals += [res['nfev']]\n",
    "        data[method_names[m]] = [comp_times, success, fevals]\n",
    "clear_output()"
   ]
  },
  {
   "cell_type": "code",
   "execution_count": 72,
   "metadata": {},
   "outputs": [
    {
     "name": "stdout",
     "output_type": "stream",
     "text": [
      "& Random & 83.0 &  48.9 $\\pm$ 49.6 &  29.3 $\\pm$ 23.9 &  16.0 $\\pm$ 10.6\\\\ \n",
      "& GAN & 100.0 &  3.3 $\\pm$ 0.4 &  3.3 $\\pm$ 0.4 &  2.1 $\\pm$ 0.2\\\\ \n"
     ]
    }
   ],
   "source": [
    "for m in range(len(methods[:2])):\n",
    "    print('& ' + method_names[m], end=' ')\n",
    "    comp_times, success, fevals = data[method_names[m]]\n",
    "    comp_times = np.array(comp_times)\n",
    "    fevals = np.array(fevals)\n",
    "\n",
    "    print('& {0:.1f} &  {1:.1f} $\\pm$ {2:.1f} &  {3:.1f} $\\pm$ {4:.1f} &  {5:.1f} $\\pm$ {6:.1f}'.format(np.sum(success)*100./N, np.mean(comp_times)*1000, np.std(comp_times)*1000, np.mean(comp_times[success])*1000, np.std(comp_times[success])*1000,np.mean(fevals[success]), np.std(fevals[success])), end = ''),\n",
    "    print('\\\\\\\\ ')"
   ]
  },
  {
   "cell_type": "markdown",
   "metadata": {},
   "source": [
    "***"
   ]
  },
  {
   "cell_type": "markdown",
   "metadata": {},
   "source": [
    "## c-RRT with Talos"
   ]
  },
  {
   "cell_type": "code",
   "execution_count": 209,
   "metadata": {},
   "outputs": [],
   "source": [
    "rob_col_checker = col_checker(robot_id, pb_joint_indices, col_ids, omit_indices=[ 50, 57], floating_base = True) #omit the collision of the plane with the feet\n",
    "rob_interpolator = interpolator()"
   ]
  },
  {
   "cell_type": "code",
   "execution_count": 210,
   "metadata": {},
   "outputs": [],
   "source": [
    "rrt = cRRT(rmodel.nq, rob_sampler, rob_col_checker, rob_interpolator, robot_projector)\n",
    "\n",
    "ganrrt = cRRT(rmodel.nq, gan_sampler, rob_col_checker, rob_interpolator, robot_projector)\n",
    "\n",
    "hybrid_sampler = HybridSampler(rob_sampler, gan_sampler, p_random=0.2)\n",
    "hybridrrt = cRRT(rmodel.nq, hybrid_sampler, rob_col_checker, rob_interpolator, robot_projector)"
   ]
  },
  {
   "cell_type": "code",
   "execution_count": 211,
   "metadata": {},
   "outputs": [],
   "source": [
    "rrt_old = cRRT(rmodel.nq, rob_sampler, rob_col_checker, rob_interpolator, robot_projector_old)\n",
    "\n",
    "ganrrt_old = cRRT(rmodel.nq, gan_sampler, rob_col_checker, rob_interpolator, robot_projector_old)\n",
    "\n",
    "# hybrid_sampler = HybridSampler(rob_sampler, gan_sampler, p_random=0.2)\n",
    "# hybridrrt = cRRT(rmodel.nq, hybrid_sampler, rob_col_checker, rob_interpolator, robot_projector)"
   ]
  },
  {
   "cell_type": "markdown",
   "metadata": {},
   "source": [
    "#### Get initial state"
   ]
  },
  {
   "cell_type": "code",
   "execution_count": 148,
   "metadata": {},
   "outputs": [],
   "source": [
    "if task == 1:\n",
    "    #Task 1\n",
    "    init_bounds = np.array([[0.55, -0.25, 1.1], [0.85, 0.25, 1.3]])\n",
    "    goal_bounds = np.array([[0.55, -0.25, .4], [0.85, 0.25, .8]])\n",
    "elif task == 2:\n",
    "    init_bounds = np.array([[0.3, -0.25, 1.], [0.7, 0.25, 1.3]])\n",
    "    goal_bounds = np.array([[0.3, -0.25, .4], [0.7, 0.25, .8]])\n",
    "elif task == 3:\n",
    "    init_bounds = np.array([[0.55, -0.25, .8], [0.7, 0.25, 1.1]])\n",
    "    goal_bounds = np.array([[0.55, -0.25, .3], [0.7, 0.25, .6]])\n",
    "init_sampler = sampler(init_bounds)\n",
    "goal_sampler = sampler(goal_bounds)"
   ]
  },
  {
   "cell_type": "markdown",
   "metadata": {},
   "source": [
    "#### Try sampling the tasks"
   ]
  },
  {
   "cell_type": "raw",
   "metadata": {},
   "source": [
    "_, _, ball_id = create_primitives(radius = 0.05)"
   ]
  },
  {
   "cell_type": "raw",
   "metadata": {},
   "source": [
    "goal_pos = init_sampler.sample()[0]\n",
    "p.resetBasePositionAndOrientation(ball_id, goal_pos, (0,0,0,1))"
   ]
  },
  {
   "cell_type": "markdown",
   "metadata": {},
   "source": [
    "#### Sample initial and goal configurations"
   ]
  },
  {
   "cell_type": "code",
   "execution_count": 232,
   "metadata": {},
   "outputs": [],
   "source": [
    "def get_valid_config(pos_sampler, goal_pose = None, max_try = 50):\n",
    "    is_collide = True\n",
    "    status = False\n",
    "    i = 0\n",
    "    while is_collide or status is False and i < max_try:\n",
    "        i+=1\n",
    "        if goal_pose is None: \n",
    "            goal_pos = pos_sampler.sample()\n",
    "        else:\n",
    "            goal_pos = goal_pose.copy()\n",
    "        #goal_pos = np.array([0.6, -0.1, .9])[None,:]\n",
    "        #sample = gan_sampler.sample(_poses=goal_pos, var=1.)[0]\n",
    "        sample = rob_sampler.sample()[0]\n",
    "        set_q_std(sample)\n",
    "        rh_cost_new.desired_pose[:3] = goal_pos[0]\n",
    "        res = robot_ik_solver.project(sample.flatten())\n",
    "        start_state = res['q']\n",
    "        status = res['stat']\n",
    "        is_collide = rob_col_checker.check_collision(start_state.flatten())\n",
    "            \n",
    "            \n",
    "    set_q_std(start_state)\n",
    "    clear_output()\n",
    "    return start_state, goal_pos\n",
    "\n",
    "def get_multiple_configs(pos_sampler, N = 1, R = 1):\n",
    "    samples_set = []\n",
    "    for i in range(N):\n",
    "        print(i)\n",
    "        sample, goal_pos = get_valid_config(pos_sampler)\n",
    "        samples = [sample]\n",
    "        for j in range(R-1):\n",
    "            sample, goal_pos = get_valid_config(pos_sampler, goal_pos)\n",
    "            samples += [sample]\n",
    "        samples_set += [samples]\n",
    "    clear_output()\n",
    "    return samples_set"
   ]
  },
  {
   "cell_type": "code",
   "execution_count": 246,
   "metadata": {},
   "outputs": [],
   "source": [
    "cost_com_bounds_new.margin = 1e-3"
   ]
  },
  {
   "cell_type": "code",
   "execution_count": 247,
   "metadata": {},
   "outputs": [],
   "source": [
    "bound_cost_new.margin = 1e-3"
   ]
  },
  {
   "cell_type": "code",
   "execution_count": 257,
   "metadata": {
    "scrolled": true
   },
   "outputs": [
    {
     "data": {
      "text/plain": [
       "'\\nfor qs in init_configs:\\n    for q in qs:\\n        set_q_std(q)\\n        input()\\nclear_output()\\n\\nfor qs in goal_configs:\\n    for q in qs:\\n        set_q_std(q)\\n        input()\\nclear_output()\\n'"
      ]
     },
     "execution_count": 257,
     "metadata": {},
     "output_type": "execute_result"
    }
   ],
   "source": [
    "is_generate_data = True\n",
    "N = 5 #number of initial configurations\n",
    "K = 5 #number of goal configurations per task\n",
    "\n",
    "if is_generate_data:\n",
    "    init_configs = get_multiple_configs(init_sampler, N = N)\n",
    "    goal_configs = get_multiple_configs(goal_sampler, N = N, R = K)\n",
    "\n",
    "    data_configs = dict()\n",
    "    data_configs['init'] = init_configs\n",
    "    data_configs['goal'] = goal_configs\n",
    "    np.save('data/task1' + str(task) + '_configs.npy', data_configs)\n",
    "else:\n",
    "    data_configs = np.load('data/task1' + str(task) + '_configs.npy', allow_pickle=True).tolist()\n",
    "    init_configs = data_configs['init']\n",
    "    goal_configs = data_configs['goal']\n",
    "\n",
    "'''\n",
    "for qs in init_configs:\n",
    "    for q in qs:\n",
    "        set_q_std(q)\n",
    "        input()\n",
    "clear_output()\n",
    "\n",
    "for qs in goal_configs:\n",
    "    for q in qs:\n",
    "        set_q_std(q)\n",
    "        input()\n",
    "clear_output()\n",
    "'''\n"
   ]
  },
  {
   "cell_type": "code",
   "execution_count": 258,
   "metadata": {},
   "outputs": [],
   "source": [
    "for qs in goal_configs:\n",
    "    for q in qs[0:2]:\n",
    "        set_q_std(q)\n",
    "        input()\n",
    "        clear_output()"
   ]
  },
  {
   "cell_type": "code",
   "execution_count": 224,
   "metadata": {},
   "outputs": [],
   "source": [
    "for qs in init_configs:\n",
    "    for q in qs[0:2]:\n",
    "        set_q_std(q)\n",
    "        input()\n",
    "        clear_output()"
   ]
  },
  {
   "cell_type": "markdown",
   "metadata": {},
   "source": [
    "## Planning comparison"
   ]
  },
  {
   "cell_type": "code",
   "execution_count": 259,
   "metadata": {},
   "outputs": [],
   "source": [
    "robot_projector.mu = 1e-4"
   ]
  },
  {
   "cell_type": "code",
   "execution_count": 260,
   "metadata": {},
   "outputs": [
    {
     "data": {
      "text/plain": [
       "1e-06"
      ]
     },
     "execution_count": 260,
     "metadata": {},
     "output_type": "execute_result"
    }
   ],
   "source": [
    "robot_projector.mu_ext"
   ]
  },
  {
   "cell_type": "code",
   "execution_count": 261,
   "metadata": {},
   "outputs": [],
   "source": [
    "robot_projector.alpha2 = 1"
   ]
  },
  {
   "cell_type": "code",
   "execution_count": 272,
   "metadata": {
    "scrolled": true
   },
   "outputs": [],
   "source": [
    "gan_result = dict()\n",
    "std_result = dict()\n",
    "hybrid_result = dict()\n",
    "results = [gan_result, std_result, hybrid_result]\n",
    "for result in results:\n",
    "    result['comp_times'] = []\n",
    "    result['nfevs'] = []\n",
    "    result['retry'] = []\n",
    "    result['nexts'] = []\n",
    "    result['success'] = []\n",
    "    result['path'] = []\n",
    "\n",
    "i=0"
   ]
  },
  {
   "cell_type": "code",
   "execution_count": 273,
   "metadata": {},
   "outputs": [],
   "source": [
    "set_q_std(start_state)"
   ]
  },
  {
   "cell_type": "code",
   "execution_count": 274,
   "metadata": {
    "scrolled": true
   },
   "outputs": [
    {
     "name": "stdout",
     "output_type": "stream",
     "text": [
      "5 12.493552803993225 1.1463059782981873 nan\n",
      "5 4 4 0.0\n",
      "0.5 0.5\n",
      "0.5 0.5\n",
      "0.5 0.125\n",
      "0.5 0.25\n",
      "0.5 0.5\n",
      "0.5 0.5\n",
      "0.5 0.25\n",
      "0.5 0.125\n",
      "0.5 0.25\n",
      "0.5 0.5\n",
      "0.5 0.03125\n",
      "0.5 0.5\n",
      "0.5 0.5\n",
      "0.5 0.5\n",
      "0.5 0.5\n",
      "0.5 0.5\n",
      "0.5 0.000244140625\n",
      "0.5 0.0001220703125\n",
      "0.5 0.015625\n",
      "0.5 0.03125\n",
      "0.001953125 0.0625\n",
      "0.0078125 0.125\n",
      "0.001953125 0.125\n",
      "0.001953125 0.125\n",
      "0.001953125 0.25\n",
      "0.001953125 0.5\n",
      "0.001953125 0.03125\n",
      "0.0078125 0.5\n",
      "0.0078125 0.5\n",
      "0.0078125 0.5\n",
      "0.03125 0.03125\n",
      "0.03125 0.0625\n",
      "0.00390625 0.0078125\n",
      "0.015625 0.125\n",
      "0.03125 0.5\n",
      "0.015625 0.0625\n",
      "0.015625 0.5\n",
      "0.0078125 0.0625\n",
      "0.0078125 0.5\n",
      "0.00390625 0.5\n",
      "0.00390625 0.5\n",
      "0.00390625 0.5\n",
      "0.00390625 0.5\n",
      "0.00390625 0.5\n",
      "0.00390625 0.5\n",
      "0.00390625 0.5\n",
      "0.00390625 0.5\n",
      "0.00390625 0.5\n",
      "0.00390625 0.5\n",
      "0.00390625 0.5\n",
      "0.00390625 0.5\n",
      "0.00390625 0.5\n",
      "0.00390625 0.5\n",
      "0.00390625 0.5\n",
      "0.00390625 0.5\n",
      "0.00390625 0.5\n",
      "0.001953125 0.5\n",
      "0.00390625 0.5\n",
      "0.001953125 0.5\n",
      "0.001953125 0.5\n",
      "0.001953125 0.5\n",
      "0.001953125 0.5\n",
      "0.001953125 0.5\n",
      "0.001953125 0.5\n",
      "0.001953125 0.125\n",
      "0.001953125 0.5\n",
      "0.5 3.0517578125e-05\n",
      "0.5 6.103515625e-05\n",
      "0.5 0.0009765625\n",
      "0.5 0.25\n",
      "0.5 0.25\n",
      "0.015625 0.125\n",
      "0.015625 0.125\n",
      "0.015625 0.25\n",
      "0.03125 0.25\n",
      "0.0078125 0.5\n",
      "0.0078125 0.5\n",
      "0.0078125 0.5\n",
      "0.00390625 0.5\n",
      "0.0009765625 0.5\n",
      "0.0009765625 0.5\n",
      "0.0009765625 0.5\n",
      "0.0009765625 0.5\n",
      "0.0009765625 0.5\n",
      "0.0009765625 0.5\n",
      "0.0009765625 0.5\n",
      "0.0009765625 0.5\n",
      "0.0009765625 0.5\n",
      "0.0009765625 0.5\n",
      "0.0009765625 0.5\n",
      "0.0009765625 0.5\n",
      "0.0009765625 0.5\n",
      "0.0009765625 0.5\n",
      "0.0009765625 0.5\n",
      "0.0009765625 0.5\n",
      "0.0009765625 0.5\n",
      "0.0009765625 0.5\n",
      "0.0009765625 0.5\n",
      "0.0009765625 0.5\n",
      "0.0009765625 0.5\n",
      "0.0009765625 0.5\n",
      "0.0009765625 0.5\n",
      "0.0009765625 0.5\n",
      "0.0009765625 0.5\n",
      "0.001953125 0.5\n",
      "0.001953125 0.5\n",
      "0.001953125 0.5\n",
      "0.001953125 0.5\n",
      "0.001953125 0.5\n",
      "0.001953125 0.5\n",
      "0.001953125 0.5\n",
      "0.001953125 0.5\n",
      "0.001953125 0.5\n",
      "0.001953125 0.5\n",
      "0.001953125 0.5\n",
      "0.001953125 0.5\n",
      "0.5 0.5\n",
      "0.5 0.25\n",
      "0.5 0.5\n",
      "0.5 0.25\n",
      "0.5 0.5\n",
      "0.5 0.5\n",
      "0.5 0.5\n",
      "0.5 0.5\n",
      "0.5 0.5\n",
      "0.5 0.5\n",
      "0.5 0.5\n",
      "0.5 0.5\n",
      "0.5 0.5\n",
      "0.5 0.0009765625\n",
      "0.125 3.0517578125e-05\n",
      "0.015625 0.0625\n",
      "0.03125 0.125\n",
      "0.0625 0.5\n",
      "0.25 0.5\n",
      "0.5 0.0078125\n",
      "0.5 0.125\n",
      "0.5 0.125\n",
      "0.5 0.25\n",
      "0.5 0.5\n",
      "0.5 0.5\n",
      "0.5 0.5\n",
      "0.5 0.5\n",
      "0.5 0.5\n",
      "0.5 0.000244140625\n",
      "0.5 0.03125\n",
      "0.5 0.125\n",
      "0.5 0.25\n",
      "0.5 0.5\n",
      "0.5 0.5\n",
      "0.5 0.5\n",
      "0.5 0.5\n",
      "0.5 0.0078125\n",
      "0.5 6.103515625e-05\n",
      "0.5 0.125\n",
      "0.5 0.0625\n",
      "0.5 0.0625\n",
      "0.5 0.5\n",
      "0.5 0.5\n",
      "0.5 0.25\n",
      "0.5 0.5\n",
      "0.5 0.5\n",
      "0.5 0.0078125\n",
      "0.03125 0.03125\n",
      "0.03125 0.03125\n",
      "0.03125 0.015625\n",
      "0.03125 0.015625\n",
      "0.0625 0.03125\n",
      "0.0625 0.125\n",
      "0.0625 0.015625\n",
      "0.0625 0.015625\n",
      "0.015625 0.03125\n",
      "0.125 0.125\n",
      "0.0625 0.0625\n",
      "0.125 0.0625\n",
      "0.0625 0.125\n",
      "0.03125 0.25\n",
      "0.015625 0.125\n",
      "0.125 0.5\n",
      "0.5 0.0625\n",
      "0.00390625 0.5\n",
      "0.00390625 0.5\n",
      "0.00390625 0.5\n",
      "0.00390625 0.25\n",
      "0.00390625 0.5\n"
     ]
    },
    {
     "ename": "LinAlgError",
     "evalue": "SVD did not converge",
     "output_type": "error",
     "traceback": [
      "\u001b[0;31m---------------------------------------------------------------------------\u001b[0m",
      "\u001b[0;31mLinAlgError\u001b[0m                               Traceback (most recent call last)",
      "\u001b[0;32m<ipython-input-274-487e6cd85f87>\u001b[0m in \u001b[0;36m<module>\u001b[0;34m\u001b[0m\n\u001b[1;32m      8\u001b[0m \u001b[0;34m\u001b[0m\u001b[0m\n\u001b[1;32m      9\u001b[0m \u001b[0;31m#         #plan using crrt\u001b[0m\u001b[0;34m\u001b[0m\u001b[0;34m\u001b[0m\u001b[0;34m\u001b[0m\u001b[0m\n\u001b[0;32m---> 10\u001b[0;31m         \u001b[0mpath\u001b[0m\u001b[0;34m,\u001b[0m \u001b[0mnfevs\u001b[0m\u001b[0;34m,\u001b[0m \u001b[0mnexts\u001b[0m\u001b[0;34m,\u001b[0m \u001b[0msuccess\u001b[0m\u001b[0;34m,\u001b[0m \u001b[0mretry\u001b[0m\u001b[0;34m,\u001b[0m \u001b[0mt\u001b[0m  \u001b[0;34m=\u001b[0m \u001b[0mrrt\u001b[0m\u001b[0;34m.\u001b[0m\u001b[0mplan\u001b[0m\u001b[0;34m(\u001b[0m\u001b[0mstart_state\u001b[0m\u001b[0;34m,\u001b[0m\u001b[0mgoal_states\u001b[0m\u001b[0;34m,\u001b[0m \u001b[0mmax_extension_steps\u001b[0m\u001b[0;34m=\u001b[0m\u001b[0;36m500\u001b[0m\u001b[0;34m)\u001b[0m\u001b[0;34m\u001b[0m\u001b[0;34m\u001b[0m\u001b[0m\n\u001b[0m\u001b[1;32m     11\u001b[0m         \u001b[0mclear_output\u001b[0m\u001b[0;34m(\u001b[0m\u001b[0;34m)\u001b[0m\u001b[0;34m\u001b[0m\u001b[0;34m\u001b[0m\u001b[0m\n\u001b[1;32m     12\u001b[0m         \u001b[0mstd_result\u001b[0m\u001b[0;34m[\u001b[0m\u001b[0;34m'comp_times'\u001b[0m\u001b[0;34m]\u001b[0m \u001b[0;34m+=\u001b[0m \u001b[0;34m[\u001b[0m\u001b[0mt\u001b[0m\u001b[0;34m]\u001b[0m\u001b[0;34m\u001b[0m\u001b[0;34m\u001b[0m\u001b[0m\n",
      "\u001b[0;32m~/git/publications/learning_distribution_gan/tf_robot_learning/notebooks/motion_planning_sampling/robot.py\u001b[0m in \u001b[0;36mplan\u001b[0;34m(self, q_init, q_goals, max_extension_steps, n_retry)\u001b[0m\n\u001b[1;32m    375\u001b[0m             \u001b[0mext_steps\u001b[0m \u001b[0;34m=\u001b[0m \u001b[0;36m0\u001b[0m\u001b[0;34m\u001b[0m\u001b[0;34m\u001b[0m\u001b[0m\n\u001b[1;32m    376\u001b[0m             \u001b[0;32mwhile\u001b[0m \u001b[0mext_steps\u001b[0m \u001b[0;34m<\u001b[0m \u001b[0mmax_extension_steps\u001b[0m\u001b[0;34m:\u001b[0m\u001b[0;34m\u001b[0m\u001b[0;34m\u001b[0m\u001b[0m\n\u001b[0;32m--> 377\u001b[0;31m                 \u001b[0msuccess\u001b[0m\u001b[0;34m,\u001b[0m \u001b[0mrrt_func_calls_\u001b[0m \u001b[0;34m=\u001b[0m \u001b[0mself\u001b[0m\u001b[0;34m.\u001b[0m\u001b[0mstep_plan\u001b[0m\u001b[0;34m(\u001b[0m\u001b[0;34m)\u001b[0m\u001b[0;34m\u001b[0m\u001b[0;34m\u001b[0m\u001b[0m\n\u001b[0m\u001b[1;32m    378\u001b[0m                 \u001b[0mrrt_func_calls\u001b[0m \u001b[0;34m+=\u001b[0m \u001b[0mrrt_func_calls_\u001b[0m\u001b[0;34m\u001b[0m\u001b[0;34m\u001b[0m\u001b[0m\n\u001b[1;32m    379\u001b[0m                 \u001b[0mext_steps\u001b[0m \u001b[0;34m+=\u001b[0m \u001b[0;36m1\u001b[0m\u001b[0;34m\u001b[0m\u001b[0;34m\u001b[0m\u001b[0m\n",
      "\u001b[0;32m~/git/publications/learning_distribution_gan/tf_robot_learning/notebooks/motion_planning_sampling/robot.py\u001b[0m in \u001b[0;36mstep_plan\u001b[0;34m(self)\u001b[0m\n\u001b[1;32m    337\u001b[0m         \u001b[0;31m# sample random state\u001b[0m\u001b[0;34m\u001b[0m\u001b[0;34m\u001b[0m\u001b[0;34m\u001b[0m\u001b[0m\n\u001b[1;32m    338\u001b[0m         \u001b[0mnfevs\u001b[0m \u001b[0;34m=\u001b[0m \u001b[0;36m0\u001b[0m\u001b[0;34m\u001b[0m\u001b[0;34m\u001b[0m\u001b[0m\n\u001b[0;32m--> 339\u001b[0;31m         \u001b[0mself\u001b[0m\u001b[0;34m.\u001b[0m\u001b[0mrandom_sample\u001b[0m\u001b[0;34m,\u001b[0m \u001b[0mnfev\u001b[0m \u001b[0;34m=\u001b[0m \u001b[0mself\u001b[0m\u001b[0;34m.\u001b[0m\u001b[0msample\u001b[0m\u001b[0;34m(\u001b[0m\u001b[0;32mFalse\u001b[0m\u001b[0;34m)\u001b[0m\u001b[0;34m\u001b[0m\u001b[0;34m\u001b[0m\u001b[0m\n\u001b[0m\u001b[1;32m    340\u001b[0m         \u001b[0mself\u001b[0m\u001b[0;34m.\u001b[0m\u001b[0mrandom_sample\u001b[0m \u001b[0;34m=\u001b[0m \u001b[0mself\u001b[0m\u001b[0;34m.\u001b[0m\u001b[0mrandom_sample\u001b[0m\u001b[0;34m.\u001b[0m\u001b[0mflatten\u001b[0m\u001b[0;34m(\u001b[0m\u001b[0;34m)\u001b[0m\u001b[0;34m\u001b[0m\u001b[0;34m\u001b[0m\u001b[0m\n\u001b[1;32m    341\u001b[0m         \u001b[0mnfevs\u001b[0m \u001b[0;34m+=\u001b[0m \u001b[0mnfev\u001b[0m\u001b[0;34m\u001b[0m\u001b[0;34m\u001b[0m\u001b[0m\n",
      "\u001b[0;32m~/git/publications/learning_distribution_gan/tf_robot_learning/notebooks/motion_planning_sampling/robot.py\u001b[0m in \u001b[0;36msample\u001b[0;34m(self, get_valid)\u001b[0m\n\u001b[1;32m    292\u001b[0m \u001b[0;31m#                 status = True\u001b[0m\u001b[0;34m\u001b[0m\u001b[0;34m\u001b[0m\u001b[0;34m\u001b[0m\u001b[0m\n\u001b[1;32m    293\u001b[0m \u001b[0;31m#                 nfev = 0\u001b[0m\u001b[0;34m\u001b[0m\u001b[0;34m\u001b[0m\u001b[0;34m\u001b[0m\u001b[0m\n\u001b[0;32m--> 294\u001b[0;31m                 \u001b[0mproj_sample\u001b[0m\u001b[0;34m,\u001b[0m \u001b[0mnfev\u001b[0m\u001b[0;34m,\u001b[0m \u001b[0mstatus\u001b[0m \u001b[0;34m=\u001b[0m \u001b[0mself\u001b[0m\u001b[0;34m.\u001b[0m\u001b[0mproject\u001b[0m\u001b[0;34m(\u001b[0m\u001b[0msample\u001b[0m\u001b[0;34m.\u001b[0m\u001b[0mflatten\u001b[0m\u001b[0;34m(\u001b[0m\u001b[0;34m)\u001b[0m\u001b[0;34m)\u001b[0m\u001b[0;34m\u001b[0m\u001b[0;34m\u001b[0m\u001b[0m\n\u001b[0m\u001b[1;32m    295\u001b[0m             \u001b[0;31m#proj_sample, nfev = sample.flatten(), 0\u001b[0m\u001b[0;34m\u001b[0m\u001b[0;34m\u001b[0m\u001b[0;34m\u001b[0m\u001b[0m\n\u001b[1;32m    296\u001b[0m         \u001b[0;32mreturn\u001b[0m \u001b[0mproj_sample\u001b[0m\u001b[0;34m,\u001b[0m \u001b[0mnfev\u001b[0m\u001b[0;34m\u001b[0m\u001b[0;34m\u001b[0m\u001b[0m\n",
      "\u001b[0;32m~/git/publications/learning_distribution_gan/tf_robot_learning/notebooks/motion_planning_sampling/robot.py\u001b[0m in \u001b[0;36mproject\u001b[0;34m(self, q, disp, maxiter)\u001b[0m\n\u001b[1;32m    275\u001b[0m \u001b[0;34m\u001b[0m\u001b[0m\n\u001b[1;32m    276\u001b[0m     \u001b[0;32mdef\u001b[0m \u001b[0mproject\u001b[0m\u001b[0;34m(\u001b[0m\u001b[0mself\u001b[0m\u001b[0;34m,\u001b[0m \u001b[0mq\u001b[0m\u001b[0;34m,\u001b[0m \u001b[0mdisp\u001b[0m\u001b[0;34m=\u001b[0m\u001b[0;36m1\u001b[0m\u001b[0;34m,\u001b[0m \u001b[0mmaxiter\u001b[0m\u001b[0;34m=\u001b[0m\u001b[0;36m50\u001b[0m\u001b[0;34m)\u001b[0m\u001b[0;34m:\u001b[0m\u001b[0;34m\u001b[0m\u001b[0;34m\u001b[0m\u001b[0m\n\u001b[0;32m--> 277\u001b[0;31m         \u001b[0mres\u001b[0m \u001b[0;34m=\u001b[0m \u001b[0mself\u001b[0m\u001b[0;34m.\u001b[0m\u001b[0mprojector\u001b[0m\u001b[0;34m.\u001b[0m\u001b[0mproject\u001b[0m\u001b[0;34m(\u001b[0m\u001b[0mq\u001b[0m\u001b[0;34m,\u001b[0m \u001b[0mdisp\u001b[0m\u001b[0;34m=\u001b[0m\u001b[0mdisp\u001b[0m\u001b[0;34m,\u001b[0m \u001b[0mmaxiter\u001b[0m\u001b[0;34m=\u001b[0m\u001b[0mmaxiter\u001b[0m\u001b[0;34m)\u001b[0m\u001b[0;34m\u001b[0m\u001b[0;34m\u001b[0m\u001b[0m\n\u001b[0m\u001b[1;32m    278\u001b[0m         \u001b[0;32mreturn\u001b[0m \u001b[0mres\u001b[0m\u001b[0;34m[\u001b[0m\u001b[0;34m'q'\u001b[0m\u001b[0;34m]\u001b[0m\u001b[0;34m,\u001b[0m \u001b[0mres\u001b[0m\u001b[0;34m[\u001b[0m\u001b[0;34m'nfev'\u001b[0m\u001b[0;34m]\u001b[0m\u001b[0;34m,\u001b[0m \u001b[0mres\u001b[0m\u001b[0;34m[\u001b[0m\u001b[0;34m'stat'\u001b[0m\u001b[0;34m]\u001b[0m\u001b[0;34m\u001b[0m\u001b[0;34m\u001b[0m\u001b[0m\n\u001b[1;32m    279\u001b[0m \u001b[0;34m\u001b[0m\u001b[0m\n",
      "\u001b[0;32m~/git/publications/learning_distribution_gan/tf_robot_learning/notebooks/motion_planning_sampling/costs_pseudo.py\u001b[0m in \u001b[0;36mproject\u001b[0;34m(self, q, maxiter, ftol, gtol, disp)\u001b[0m\n\u001b[1;32m    352\u001b[0m \u001b[0;34m\u001b[0m\u001b[0m\n\u001b[1;32m    353\u001b[0m         \u001b[0;32mfor\u001b[0m \u001b[0mi\u001b[0m \u001b[0;32min\u001b[0m \u001b[0mrange\u001b[0m\u001b[0;34m(\u001b[0m\u001b[0mmaxiter\u001b[0m\u001b[0;34m)\u001b[0m\u001b[0;34m:\u001b[0m\u001b[0;34m\u001b[0m\u001b[0;34m\u001b[0m\u001b[0m\n\u001b[0;32m--> 354\u001b[0;31m             \u001b[0mq\u001b[0m\u001b[0;34m,\u001b[0m \u001b[0mstatus\u001b[0m \u001b[0;34m=\u001b[0m \u001b[0mself\u001b[0m\u001b[0;34m.\u001b[0m\u001b[0mstep\u001b[0m\u001b[0;34m(\u001b[0m\u001b[0mq\u001b[0m\u001b[0;34m)\u001b[0m\u001b[0;34m\u001b[0m\u001b[0;34m\u001b[0m\u001b[0m\n\u001b[0m\u001b[1;32m    355\u001b[0m             \u001b[0;32mif\u001b[0m \u001b[0mstatus\u001b[0m \u001b[0;32mis\u001b[0m \u001b[0;32mTrue\u001b[0m\u001b[0;34m:\u001b[0m \u001b[0;32mbreak\u001b[0m\u001b[0;34m\u001b[0m\u001b[0;34m\u001b[0m\u001b[0m\n\u001b[1;32m    356\u001b[0m         res = {'stat': status, 'q': self.cost.qs[-1], 'qs': self.cost.qs, 'nfev': i+1,\n",
      "\u001b[0;32m~/git/publications/learning_distribution_gan/tf_robot_learning/notebooks/motion_planning_sampling/costs_pseudo.py\u001b[0m in \u001b[0;36mstep\u001b[0;34m(self, q, max_iter, line_search)\u001b[0m\n\u001b[1;32m    407\u001b[0m     \u001b[0;32mdef\u001b[0m \u001b[0mstep\u001b[0m\u001b[0;34m(\u001b[0m\u001b[0mself\u001b[0m\u001b[0;34m,\u001b[0m \u001b[0mq\u001b[0m\u001b[0;34m,\u001b[0m \u001b[0mmax_iter\u001b[0m \u001b[0;34m=\u001b[0m \u001b[0;36m20\u001b[0m\u001b[0;34m,\u001b[0m \u001b[0mline_search\u001b[0m \u001b[0;34m=\u001b[0m \u001b[0;32mTrue\u001b[0m\u001b[0;34m)\u001b[0m\u001b[0;34m:\u001b[0m\u001b[0;34m\u001b[0m\u001b[0;34m\u001b[0m\u001b[0m\n\u001b[1;32m    408\u001b[0m         \u001b[0;31m#find step direction\u001b[0m\u001b[0;34m\u001b[0m\u001b[0;34m\u001b[0m\u001b[0;34m\u001b[0m\u001b[0m\n\u001b[0;32m--> 409\u001b[0;31m         \u001b[0mdq1\u001b[0m\u001b[0;34m,\u001b[0m \u001b[0mr2\u001b[0m\u001b[0;34m,\u001b[0m \u001b[0mJ2\u001b[0m\u001b[0;34m,\u001b[0m \u001b[0mJ2_pinv\u001b[0m\u001b[0;34m,\u001b[0m \u001b[0mN1\u001b[0m \u001b[0;34m=\u001b[0m \u001b[0mself\u001b[0m\u001b[0;34m.\u001b[0m\u001b[0mfind_direction\u001b[0m\u001b[0;34m(\u001b[0m\u001b[0mq\u001b[0m\u001b[0;34m)\u001b[0m\u001b[0;34m\u001b[0m\u001b[0;34m\u001b[0m\u001b[0m\n\u001b[0m\u001b[1;32m    410\u001b[0m         \u001b[0;31m#line search\u001b[0m\u001b[0;34m\u001b[0m\u001b[0;34m\u001b[0m\u001b[0;34m\u001b[0m\u001b[0m\n\u001b[1;32m    411\u001b[0m         \u001b[0;32mif\u001b[0m \u001b[0mline_search\u001b[0m\u001b[0;34m:\u001b[0m\u001b[0;34m\u001b[0m\u001b[0;34m\u001b[0m\u001b[0m\n",
      "\u001b[0;32m~/git/publications/learning_distribution_gan/tf_robot_learning/notebooks/motion_planning_sampling/costs_pseudo.py\u001b[0m in \u001b[0;36mfind_direction\u001b[0;34m(self, q)\u001b[0m\n\u001b[1;32m    397\u001b[0m         \u001b[0mrcond2\u001b[0m \u001b[0;34m=\u001b[0m \u001b[0mself\u001b[0m\u001b[0;34m.\u001b[0m\u001b[0mmu_ext\u001b[0m \u001b[0;31m#+  self.mu*r2.T.dot(r2)\u001b[0m\u001b[0;34m\u001b[0m\u001b[0;34m\u001b[0m\u001b[0m\n\u001b[1;32m    398\u001b[0m         \u001b[0mJ2\u001b[0m \u001b[0;34m=\u001b[0m \u001b[0mself\u001b[0m\u001b[0;34m.\u001b[0m\u001b[0mcost2\u001b[0m\u001b[0;34m.\u001b[0m\u001b[0mcalcDiff\u001b[0m\u001b[0;34m(\u001b[0m\u001b[0mq\u001b[0m\u001b[0;34m)\u001b[0m\u001b[0;34m\u001b[0m\u001b[0;34m\u001b[0m\u001b[0m\n\u001b[0;32m--> 399\u001b[0;31m         \u001b[0mJ2_pinv\u001b[0m \u001b[0;34m=\u001b[0m \u001b[0mnp\u001b[0m\u001b[0;34m.\u001b[0m\u001b[0mlinalg\u001b[0m\u001b[0;34m.\u001b[0m\u001b[0mpinv\u001b[0m\u001b[0;34m(\u001b[0m\u001b[0mJ2\u001b[0m\u001b[0;34m.\u001b[0m\u001b[0mdot\u001b[0m\u001b[0;34m(\u001b[0m\u001b[0mN1\u001b[0m\u001b[0;34m)\u001b[0m\u001b[0;34m,\u001b[0m \u001b[0mrcond\u001b[0m \u001b[0;34m=\u001b[0m \u001b[0mrcond2\u001b[0m\u001b[0;34m)\u001b[0m\u001b[0;34m\u001b[0m\u001b[0;34m\u001b[0m\u001b[0m\n\u001b[0m\u001b[1;32m    400\u001b[0m         \u001b[0;31m#dq2 = np.linalg.lstsq(J2.dot(N1), r2 - J2.dot(dq1), rcond=rcond2)[0]\u001b[0m\u001b[0;34m\u001b[0m\u001b[0;34m\u001b[0m\u001b[0;34m\u001b[0m\u001b[0m\n\u001b[1;32m    401\u001b[0m         \u001b[0;31m#dq2 = N1.dot(dq2)\u001b[0m\u001b[0;34m\u001b[0m\u001b[0;34m\u001b[0m\u001b[0;34m\u001b[0m\u001b[0m\n",
      "\u001b[0;32m<__array_function__ internals>\u001b[0m in \u001b[0;36mpinv\u001b[0;34m(*args, **kwargs)\u001b[0m\n",
      "\u001b[0;32m~/miniconda3/envs/tf3/lib/python3.8/site-packages/numpy/linalg/linalg.py\u001b[0m in \u001b[0;36mpinv\u001b[0;34m(a, rcond, hermitian)\u001b[0m\n\u001b[1;32m   1959\u001b[0m         \u001b[0;32mreturn\u001b[0m \u001b[0mwrap\u001b[0m\u001b[0;34m(\u001b[0m\u001b[0mres\u001b[0m\u001b[0;34m)\u001b[0m\u001b[0;34m\u001b[0m\u001b[0;34m\u001b[0m\u001b[0m\n\u001b[1;32m   1960\u001b[0m     \u001b[0ma\u001b[0m \u001b[0;34m=\u001b[0m \u001b[0ma\u001b[0m\u001b[0;34m.\u001b[0m\u001b[0mconjugate\u001b[0m\u001b[0;34m(\u001b[0m\u001b[0;34m)\u001b[0m\u001b[0;34m\u001b[0m\u001b[0;34m\u001b[0m\u001b[0m\n\u001b[0;32m-> 1961\u001b[0;31m     \u001b[0mu\u001b[0m\u001b[0;34m,\u001b[0m \u001b[0ms\u001b[0m\u001b[0;34m,\u001b[0m \u001b[0mvt\u001b[0m \u001b[0;34m=\u001b[0m \u001b[0msvd\u001b[0m\u001b[0;34m(\u001b[0m\u001b[0ma\u001b[0m\u001b[0;34m,\u001b[0m \u001b[0mfull_matrices\u001b[0m\u001b[0;34m=\u001b[0m\u001b[0;32mFalse\u001b[0m\u001b[0;34m,\u001b[0m \u001b[0mhermitian\u001b[0m\u001b[0;34m=\u001b[0m\u001b[0mhermitian\u001b[0m\u001b[0;34m)\u001b[0m\u001b[0;34m\u001b[0m\u001b[0;34m\u001b[0m\u001b[0m\n\u001b[0m\u001b[1;32m   1962\u001b[0m \u001b[0;34m\u001b[0m\u001b[0m\n\u001b[1;32m   1963\u001b[0m     \u001b[0;31m# discard small singular values\u001b[0m\u001b[0;34m\u001b[0m\u001b[0;34m\u001b[0m\u001b[0;34m\u001b[0m\u001b[0m\n",
      "\u001b[0;32m<__array_function__ internals>\u001b[0m in \u001b[0;36msvd\u001b[0;34m(*args, **kwargs)\u001b[0m\n",
      "\u001b[0;32m~/miniconda3/envs/tf3/lib/python3.8/site-packages/numpy/linalg/linalg.py\u001b[0m in \u001b[0;36msvd\u001b[0;34m(a, full_matrices, compute_uv, hermitian)\u001b[0m\n\u001b[1;32m   1624\u001b[0m \u001b[0;34m\u001b[0m\u001b[0m\n\u001b[1;32m   1625\u001b[0m         \u001b[0msignature\u001b[0m \u001b[0;34m=\u001b[0m \u001b[0;34m'D->DdD'\u001b[0m \u001b[0;32mif\u001b[0m \u001b[0misComplexType\u001b[0m\u001b[0;34m(\u001b[0m\u001b[0mt\u001b[0m\u001b[0;34m)\u001b[0m \u001b[0;32melse\u001b[0m \u001b[0;34m'd->ddd'\u001b[0m\u001b[0;34m\u001b[0m\u001b[0;34m\u001b[0m\u001b[0m\n\u001b[0;32m-> 1626\u001b[0;31m         \u001b[0mu\u001b[0m\u001b[0;34m,\u001b[0m \u001b[0ms\u001b[0m\u001b[0;34m,\u001b[0m \u001b[0mvh\u001b[0m \u001b[0;34m=\u001b[0m \u001b[0mgufunc\u001b[0m\u001b[0;34m(\u001b[0m\u001b[0ma\u001b[0m\u001b[0;34m,\u001b[0m \u001b[0msignature\u001b[0m\u001b[0;34m=\u001b[0m\u001b[0msignature\u001b[0m\u001b[0;34m,\u001b[0m \u001b[0mextobj\u001b[0m\u001b[0;34m=\u001b[0m\u001b[0mextobj\u001b[0m\u001b[0;34m)\u001b[0m\u001b[0;34m\u001b[0m\u001b[0;34m\u001b[0m\u001b[0m\n\u001b[0m\u001b[1;32m   1627\u001b[0m         \u001b[0mu\u001b[0m \u001b[0;34m=\u001b[0m \u001b[0mu\u001b[0m\u001b[0;34m.\u001b[0m\u001b[0mastype\u001b[0m\u001b[0;34m(\u001b[0m\u001b[0mresult_t\u001b[0m\u001b[0;34m,\u001b[0m \u001b[0mcopy\u001b[0m\u001b[0;34m=\u001b[0m\u001b[0;32mFalse\u001b[0m\u001b[0;34m)\u001b[0m\u001b[0;34m\u001b[0m\u001b[0;34m\u001b[0m\u001b[0m\n\u001b[1;32m   1628\u001b[0m         \u001b[0ms\u001b[0m \u001b[0;34m=\u001b[0m \u001b[0ms\u001b[0m\u001b[0;34m.\u001b[0m\u001b[0mastype\u001b[0m\u001b[0;34m(\u001b[0m\u001b[0m_realType\u001b[0m\u001b[0;34m(\u001b[0m\u001b[0mresult_t\u001b[0m\u001b[0;34m)\u001b[0m\u001b[0;34m,\u001b[0m \u001b[0mcopy\u001b[0m\u001b[0;34m=\u001b[0m\u001b[0;32mFalse\u001b[0m\u001b[0;34m)\u001b[0m\u001b[0;34m\u001b[0m\u001b[0;34m\u001b[0m\u001b[0m\n",
      "\u001b[0;32m~/miniconda3/envs/tf3/lib/python3.8/site-packages/numpy/linalg/linalg.py\u001b[0m in \u001b[0;36m_raise_linalgerror_svd_nonconvergence\u001b[0;34m(err, flag)\u001b[0m\n\u001b[1;32m    104\u001b[0m \u001b[0;34m\u001b[0m\u001b[0m\n\u001b[1;32m    105\u001b[0m \u001b[0;32mdef\u001b[0m \u001b[0m_raise_linalgerror_svd_nonconvergence\u001b[0m\u001b[0;34m(\u001b[0m\u001b[0merr\u001b[0m\u001b[0;34m,\u001b[0m \u001b[0mflag\u001b[0m\u001b[0;34m)\u001b[0m\u001b[0;34m:\u001b[0m\u001b[0;34m\u001b[0m\u001b[0;34m\u001b[0m\u001b[0m\n\u001b[0;32m--> 106\u001b[0;31m     \u001b[0;32mraise\u001b[0m \u001b[0mLinAlgError\u001b[0m\u001b[0;34m(\u001b[0m\u001b[0;34m\"SVD did not converge\"\u001b[0m\u001b[0;34m)\u001b[0m\u001b[0;34m\u001b[0m\u001b[0;34m\u001b[0m\u001b[0m\n\u001b[0m\u001b[1;32m    107\u001b[0m \u001b[0;34m\u001b[0m\u001b[0m\n\u001b[1;32m    108\u001b[0m \u001b[0;32mdef\u001b[0m \u001b[0m_raise_linalgerror_lstsq\u001b[0m\u001b[0;34m(\u001b[0m\u001b[0merr\u001b[0m\u001b[0;34m,\u001b[0m \u001b[0mflag\u001b[0m\u001b[0;34m)\u001b[0m\u001b[0;34m:\u001b[0m\u001b[0;34m\u001b[0m\u001b[0;34m\u001b[0m\u001b[0m\n",
      "\u001b[0;31mLinAlgError\u001b[0m: SVD did not converge"
     ]
    }
   ],
   "source": [
    "for qs in init_configs[:5]:\n",
    "    start_state = qs[0]\n",
    "    for goal_states in goal_configs[:1]:\n",
    "        i+=1\n",
    "        print(i, np.mean(std_result['comp_times']), np.mean(gan_result['comp_times']), np.mean(hybrid_result['comp_times']))\n",
    "        print(i, np.sum(std_result['success']), np.sum(gan_result['success']), np.sum(hybrid_result['success']))\n",
    "        \n",
    "        \n",
    "#         #plan using crrt\n",
    "        path, nfevs, nexts, success, retry, t  = rrt.plan(start_state,goal_states, max_extension_steps=500)\n",
    "        clear_output()\n",
    "        std_result['comp_times'] += [t]\n",
    "        std_result['nfevs'] += [nfevs]\n",
    "        std_result['retry'] += [retry]\n",
    "        std_result['nexts'] += [nexts]\n",
    "        std_result['success'] += [success]\n",
    "        std_result['path'] += [path]\n",
    "        \n",
    "        \n",
    "        #plan using ganrrt\n",
    "        path, nfevs, nexts, success, retry, t  = ganrrt.plan(start_state,goal_states, max_extension_steps=500)\n",
    "        clear_output()\n",
    "        gan_result['comp_times'] += [t]\n",
    "        gan_result['nfevs'] += [nfevs]\n",
    "        gan_result['retry'] += [retry]\n",
    "        gan_result['nexts'] += [nexts]\n",
    "        gan_result['success'] += [success]\n",
    "        gan_result['path'] += [path]\n",
    "        \n",
    "#         #plan using hybridrrt\n",
    "#         path, nfevs, nexts, success, retry, t  = hybridrrt.plan(start_state,goal_states, max_extension_steps=500)\n",
    "#         clear_output()\n",
    "#         hybrid_result['comp_times'] += [t]\n",
    "#         hybrid_result['nfevs'] += [nfevs]\n",
    "#         hybrid_result['retry'] += [retry]\n",
    "#         hybrid_result['nexts'] += [nexts]\n",
    "#         hybrid_result['success'] += [success]\n",
    "#         hybrid_result['path'] += [path]\n",
    "        \n",
    "        if i % 20 == 0:\n",
    "            data = dict()\n",
    "            data['random'] = std_result\n",
    "            data['gan'] = gan_result\n",
    "            data['hybrid'] = hybrid_result\n",
    "            np.save('data/task3_temp.npy', data)"
   ]
  },
  {
   "cell_type": "code",
   "execution_count": 276,
   "metadata": {},
   "outputs": [
    {
     "name": "stdout",
     "output_type": "stream",
     "text": [
      "& Random & 100.0 & 12.49 $\\pm$ 2.68 & 1841.0 $\\pm$ 344.2 & 101.0 $\\pm$ 23.1 \\\\\n",
      "& GAN & 100.0 & 1.15 $\\pm$ 1.10 & 219.5 $\\pm$ 220.7 & 35.8 $\\pm$ 43.8 \\\\\n"
     ]
    }
   ],
   "source": [
    "print('& Random & {0:.1f} & {1:.2f} $\\pm$ {2:.2f} & {3:.1f} $\\pm$ {4:.1f} & {5:.1f} $\\pm$ {6:.1f} \\\\\\\\'.format(np.sum(std_result['success'])*100./len(std_result['success']), np.mean(std_result['comp_times']), np.std(std_result['comp_times']), np.mean(std_result['nfevs']), np.std(std_result['nfevs']), np.mean(std_result['nexts']), np.std(std_result['nexts'])))\n",
    "\n",
    "print('& GAN & {0:.1f} & {1:.2f} $\\pm$ {2:.2f} & {3:.1f} $\\pm$ {4:.1f} & {5:.1f} $\\pm$ {6:.1f} \\\\\\\\'.format(np.sum(gan_result['success'])*100./len(gan_result['success']), np.mean(gan_result['comp_times']), np.std(gan_result['comp_times']), np.mean(gan_result['nfevs']), np.std(gan_result['nfevs']), np.mean(gan_result['nexts']), np.std(gan_result['nexts'])))\n",
    "\n",
    "#print('& Hybrid & {0:.1f} & {1:.2f} $\\pm$ {2:.2f} & {3:.1f} $\\pm$ {4:.1f} & {5:.1f} $\\pm$ {6:.1f} \\\\\\\\'.format(np.sum(hybrid_result['success'])*100./len(hybrid_result['success']), np.mean(hybrid_result['comp_times']), np.std(hybrid_result['comp_times']), np.mean(hybrid_result['nfevs']), np.std(hybrid_result['nfevs']), np.mean(hybrid_result['nexts']), np.std(hybrid_result['nexts'])))"
   ]
  },
  {
   "cell_type": "code",
   "execution_count": 111,
   "metadata": {},
   "outputs": [
    {
     "name": "stdout",
     "output_type": "stream",
     "text": [
      "& Random & 100.0 & 16.13 $\\pm$ 12.06 & 4904.6 $\\pm$ 3544.2 & 346.7 $\\pm$ 269.1 \\\\\n",
      "& GAN & 96.0 & 4.14 $\\pm$ 4.82 & 1038.5 $\\pm$ 1208.2 & 129.2 $\\pm$ 142.7 \\\\\n"
     ]
    }
   ],
   "source": [
    "print('& Random & {0:.1f} & {1:.2f} $\\pm$ {2:.2f} & {3:.1f} $\\pm$ {4:.1f} & {5:.1f} $\\pm$ {6:.1f} \\\\\\\\'.format(np.sum(std_result['success'])*100./len(std_result['success']), np.mean(std_result['comp_times']), np.std(std_result['comp_times']), np.mean(std_result['nfevs']), np.std(std_result['nfevs']), np.mean(std_result['nexts']), np.std(std_result['nexts'])))\n",
    "\n",
    "print('& GAN & {0:.1f} & {1:.2f} $\\pm$ {2:.2f} & {3:.1f} $\\pm$ {4:.1f} & {5:.1f} $\\pm$ {6:.1f} \\\\\\\\'.format(np.sum(gan_result['success'])*100./len(gan_result['success']), np.mean(gan_result['comp_times']), np.std(gan_result['comp_times']), np.mean(gan_result['nfevs']), np.std(gan_result['nfevs']), np.mean(gan_result['nexts']), np.std(gan_result['nexts'])))\n",
    "\n",
    "#print('& Hybrid & {0:.1f} & {1:.2f} $\\pm$ {2:.2f} & {3:.1f} $\\pm$ {4:.1f} & {5:.1f} $\\pm$ {6:.1f} \\\\\\\\'.format(np.sum(hybrid_result['success'])*100./len(hybrid_result['success']), np.mean(hybrid_result['comp_times']), np.std(hybrid_result['comp_times']), np.mean(hybrid_result['nfevs']), np.std(hybrid_result['nfevs']), np.mean(hybrid_result['nexts']), np.std(hybrid_result['nexts'])))"
   ]
  },
  {
   "cell_type": "code",
   "execution_count": 284,
   "metadata": {},
   "outputs": [],
   "source": [
    "trajs = std_result['path']"
   ]
  },
  {
   "cell_type": "code",
   "execution_count": 288,
   "metadata": {},
   "outputs": [],
   "source": [
    "vis_traj_std(trajs[3])"
   ]
  },
  {
   "cell_type": "code",
   "execution_count": null,
   "metadata": {},
   "outputs": [],
   "source": [
    "data = dict()\n",
    "data['random'] = std_result\n",
    "data['gan'] = gan_result\n",
    "data['hybrid'] = hybrid_result\n",
    "np.save('data/task' + str(task) + '3.npy', data)"
   ]
  },
  {
   "cell_type": "markdown",
   "metadata": {},
   "source": [
    "## Test one by one"
   ]
  },
  {
   "cell_type": "code",
   "execution_count": 1584,
   "metadata": {},
   "outputs": [],
   "source": [
    "robot_projector.alpha2 = 0.01"
   ]
  },
  {
   "cell_type": "code",
   "execution_count": 1356,
   "metadata": {},
   "outputs": [],
   "source": [
    "cost_com_bounds_new.margin = 1e-12"
   ]
  },
  {
   "cell_type": "code",
   "execution_count": 1357,
   "metadata": {},
   "outputs": [],
   "source": [
    "bound_cost_new.margin = 1e-12"
   ]
  },
  {
   "cell_type": "code",
   "execution_count": 1201,
   "metadata": {},
   "outputs": [],
   "source": [
    "q = rrt.sample(False)[0]\n",
    "set_q_std(q)"
   ]
  },
  {
   "cell_type": "code",
   "execution_count": 1558,
   "metadata": {},
   "outputs": [
    {
     "name": "stdout",
     "output_type": "stream",
     "text": [
      "Solution found!\n"
     ]
    }
   ],
   "source": [
    "path, nfevs, nexts, success, retry, t  = rrt.plan(start_state,goal_states, max_extension_steps=500)\n"
   ]
  },
  {
   "cell_type": "code",
   "execution_count": 1281,
   "metadata": {},
   "outputs": [
    {
     "name": "stdout",
     "output_type": "stream",
     "text": [
      "Solution found!\n"
     ]
    }
   ],
   "source": [
    "path, nfevs, nexts, success, retry, t  = ganrrt.plan(start_state,goal_states, max_extension_steps=500)\n"
   ]
  },
  {
   "cell_type": "code",
   "execution_count": 760,
   "metadata": {},
   "outputs": [
    {
     "name": "stdout",
     "output_type": "stream",
     "text": [
      "Solution found!\n"
     ]
    }
   ],
   "source": [
    "path, nfevs, nexts, success, retry, t  = ganrrt_old.plan(start_state,goal_states, max_extension_steps=500)\n"
   ]
  },
  {
   "cell_type": "code",
   "execution_count": 1551,
   "metadata": {},
   "outputs": [],
   "source": [
    "sel_rrt = rrt"
   ]
  },
  {
   "cell_type": "code",
   "execution_count": 1552,
   "metadata": {},
   "outputs": [],
   "source": [
    "set_q_std(start_state)"
   ]
  },
  {
   "cell_type": "code",
   "execution_count": 1553,
   "metadata": {},
   "outputs": [],
   "source": [
    "sel_rrt.init_plan(start_state, goal_states)"
   ]
  },
  {
   "cell_type": "code",
   "execution_count": null,
   "metadata": {},
   "outputs": [],
   "source": [
    "for i in range(250):\n",
    "    print(i)\n",
    "    sel_rrt.sample(False)"
   ]
  },
  {
   "cell_type": "code",
   "execution_count": 1579,
   "metadata": {},
   "outputs": [],
   "source": [
    "q = sel_rrt.sample(False)[0]\n",
    "set_q_std(q)"
   ]
  },
  {
   "cell_type": "code",
   "execution_count": 1279,
   "metadata": {},
   "outputs": [],
   "source": [
    "set_q_std(start_state)"
   ]
  },
  {
   "cell_type": "code",
   "execution_count": 1271,
   "metadata": {},
   "outputs": [],
   "source": [
    "success = False\n",
    "# sample random state\n",
    "nfevs = 0\n",
    "sel_rrt.random_sample, nfev = sel_rrt.sample(False)\n",
    "sel_rrt.random_sample = sel_rrt.random_sample.flatten()\n",
    "nfevs += nfev"
   ]
  },
  {
   "cell_type": "code",
   "execution_count": 1276,
   "metadata": {},
   "outputs": [],
   "source": [
    "set_q_std(sel_rrt.random_sample)"
   ]
  },
  {
   "cell_type": "code",
   "execution_count": 1277,
   "metadata": {},
   "outputs": [],
   "source": [
    "# find a nearest node\n",
    "nearest_index, nearest_sample = sel_rrt.find_nearest(sel_rrt.random_sample, np.array(sel_rrt.samples))\n",
    "\n",
    "# extend to the random state\n",
    "sel_rrt.next_states, nfev = sel_rrt.extend(nearest_index[0], nearest_sample.flatten(), sel_rrt.random_sample.flatten())\n",
    "nfevs += nfev\n",
    "\n",
    "q_reach_a = sel_rrt.next_states[-1]"
   ]
  },
  {
   "cell_type": "code",
   "execution_count": 1283,
   "metadata": {},
   "outputs": [],
   "source": [
    "next_states = lin_interpolate(nearest_sample.flatten(), sel_rrt.random_sample.flatten(), 10)"
   ]
  },
  {
   "cell_type": "code",
   "execution_count": 1369,
   "metadata": {},
   "outputs": [],
   "source": [
    "robot_projector.cost2 = cost_sum_new2"
   ]
  },
  {
   "cell_type": "code",
   "execution_count": 1382,
   "metadata": {},
   "outputs": [],
   "source": [
    "qr = next_states[5]\n",
    "set_q_std(qr)"
   ]
  },
  {
   "cell_type": "code",
   "execution_count": 1383,
   "metadata": {},
   "outputs": [],
   "source": [
    "qn = robot_projector.project(qr)['q']\n",
    "set_q_std(qn)"
   ]
  },
  {
   "cell_type": "code",
   "execution_count": 1384,
   "metadata": {},
   "outputs": [],
   "source": [
    "qn = robot_projector_old.project(qr)['q']\n",
    "set_q_std(qn)"
   ]
  },
  {
   "cell_type": "code",
   "execution_count": 1326,
   "metadata": {},
   "outputs": [],
   "source": [
    "np.set_printoptions(precision=4, suppress=True)"
   ]
  },
  {
   "cell_type": "code",
   "execution_count": 1327,
   "metadata": {},
   "outputs": [
    {
     "data": {
      "text/plain": [
       "array([ 0.    ,  0.    ,  0.    ,  0.    ,  0.    ,  0.    ,  0.    ,\n",
       "        0.    ,  0.    ,  0.    ,  0.    ,  0.    ,  0.    ,  0.    ,\n",
       "        0.    ,  0.    ,  0.    ,  0.    ,  0.    ,  0.    ,  0.    ,\n",
       "        0.2204,  0.0264,  1.2466, -1.2799, -0.4046,  0.335 ,  0.1439,\n",
       "        0.    ,  0.    ,  0.    ,  0.    ,  0.    ,  0.    ,  0.    ])"
      ]
     },
     "execution_count": 1327,
     "metadata": {},
     "output_type": "execute_result"
    }
   ],
   "source": [
    "posture_cost_new.calc(qr)"
   ]
  },
  {
   "cell_type": "code",
   "execution_count": 1328,
   "metadata": {},
   "outputs": [
    {
     "data": {
      "text/plain": [
       "array([-0.041 ,  0.005 , -0.0467, -0.    ,  0.    ,  0.    , -0.    ,\n",
       "        0.    , -0.0006, -0.1747,  0.1747, -0.    ,  0.0006, -0.    ,\n",
       "       -0.0006, -0.1747,  0.1747,  0.    ,  0.0006,  0.    , -0.    ,\n",
       "        0.2141,  0.0229,  1.2314, -1.2648, -0.4001,  0.3311,  0.1425,\n",
       "        0.0042,  0.0032,  0.0021,  0.0012, -0.0002, -0.0001,  0.0004])"
      ]
     },
     "execution_count": 1328,
     "metadata": {},
     "output_type": "execute_result"
    }
   ],
   "source": [
    "posture_cost_new.calc(qn)"
   ]
  },
  {
   "cell_type": "code",
   "execution_count": 1290,
   "metadata": {},
   "outputs": [],
   "source": [
    "vis_traj_std(next_states,dt=0.2)"
   ]
  },
  {
   "cell_type": "code",
   "execution_count": 1278,
   "metadata": {},
   "outputs": [
    {
     "name": "stdout",
     "output_type": "stream",
     "text": [
      "[array([ 3.20226108e-02,  1.65663674e-02,  7.03648479e-01, -5.59028698e-15,\n",
      "        3.28627324e-16,  3.83218370e-15,  1.00000000e+00, -3.91090255e-14,\n",
      "       -5.08358798e-02, -8.80726466e-01,  2.18972647e+00, -1.30900000e+00,\n",
      "        4.91278798e-02,  3.06456040e-14, -5.08358798e-02, -8.80726466e-01,\n",
      "        2.18972647e+00, -1.30900000e+00,  4.91278798e-02,  9.70713178e-01,\n",
      "        7.85398163e-01,  4.67656586e-01,  2.49310385e-01,  2.16892224e+00,\n",
      "       -2.25653634e+00,  1.26940496e-01,  6.96628107e-02,  1.30329520e-01,\n",
      "       -5.07101229e-01, -4.40544447e-01, -6.55917811e-01, -2.33055183e+00,\n",
      "       -2.02062461e+00, -4.03323452e-01,  1.81031073e-01])]\n"
     ]
    }
   ],
   "source": [
    "print(sel_rrt.next_states)"
   ]
  },
  {
   "cell_type": "code",
   "execution_count": 813,
   "metadata": {},
   "outputs": [],
   "source": [
    "vis_traj_std(sel_rrt.next_states)"
   ]
  },
  {
   "cell_type": "code",
   "execution_count": 814,
   "metadata": {},
   "outputs": [],
   "source": [
    "set_q_std(start_state)"
   ]
  },
  {
   "cell_type": "code",
   "execution_count": 815,
   "metadata": {},
   "outputs": [],
   "source": [
    "set_q_std(q_reach_a)"
   ]
  },
  {
   "cell_type": "code",
   "execution_count": 816,
   "metadata": {},
   "outputs": [],
   "source": [
    "# extend to the goal\n",
    "# find the nearest goal\n",
    "nearest_index, nearest_sample = sel_rrt.find_nearest(q_reach_a, np.array(sel_rrt.goal_state))\n",
    "q_goal = nearest_sample.flatten()\n",
    "\n",
    "sel_rrt.next_states_goal, nfev = sel_rrt.extend(len(sel_rrt.samples) - 1, sel_rrt.next_states[-1], q_goal)\n",
    "sel_rrt.q_goal = q_goal\n",
    "nfevs += nfev\n",
    "\n",
    "if np.linalg.norm(sel_rrt.next_states_goal[-1] - q_goal) < 0.001:\n",
    "    print('Solution is found!')\n",
    "    success = True"
   ]
  },
  {
   "cell_type": "code",
   "execution_count": 808,
   "metadata": {},
   "outputs": [],
   "source": [
    "set_q_std(sel_rrt.next_states_goal[0])"
   ]
  },
  {
   "cell_type": "markdown",
   "metadata": {},
   "source": [
    "#### Compare"
   ]
  },
  {
   "cell_type": "code",
   "execution_count": 1241,
   "metadata": {},
   "outputs": [],
   "source": [
    "q = gan_sampler.sample()[0]\n",
    "set_q_std(q)"
   ]
  },
  {
   "cell_type": "code",
   "execution_count": 1242,
   "metadata": {},
   "outputs": [],
   "source": [
    "q1 = robot_projector_old.project(q)['q']\n",
    "set_q_std(q1)"
   ]
  },
  {
   "cell_type": "code",
   "execution_count": 1243,
   "metadata": {},
   "outputs": [],
   "source": [
    "q2 = robot_projector.project(q)['q']\n",
    "set_q_std(q2)"
   ]
  },
  {
   "cell_type": "code",
   "execution_count": 898,
   "metadata": {},
   "outputs": [],
   "source": [
    "robot_projector.alpha2 = 0.2"
   ]
  },
  {
   "cell_type": "code",
   "execution_count": null,
   "metadata": {},
   "outputs": [],
   "source": []
  },
  {
   "cell_type": "code",
   "execution_count": null,
   "metadata": {},
   "outputs": [],
   "source": []
  },
  {
   "cell_type": "code",
   "execution_count": 93,
   "metadata": {},
   "outputs": [],
   "source": [
    "q = rob_sampler.sample()[0]"
   ]
  },
  {
   "cell_type": "code",
   "execution_count": 100,
   "metadata": {},
   "outputs": [],
   "source": [
    "set_q_std(q)"
   ]
  },
  {
   "cell_type": "code",
   "execution_count": 102,
   "metadata": {},
   "outputs": [],
   "source": [
    "q1 = robot_projector_old.project(q)['q']\n",
    "set_q_std(q1)"
   ]
  },
  {
   "cell_type": "code",
   "execution_count": 103,
   "metadata": {},
   "outputs": [],
   "source": [
    "q2 = robot_projector.project(q)['q']\n",
    "set_q_std(q2)"
   ]
  },
  {
   "cell_type": "code",
   "execution_count": 106,
   "metadata": {},
   "outputs": [
    {
     "data": {
      "text/plain": [
       "6.804617699193703"
      ]
     },
     "execution_count": 106,
     "metadata": {},
     "output_type": "execute_result"
    }
   ],
   "source": [
    "np.sum(robot_projector.cost2.calc(q2)**2)"
   ]
  },
  {
   "cell_type": "code",
   "execution_count": 107,
   "metadata": {},
   "outputs": [
    {
     "data": {
      "text/plain": [
       "8.838159374666605"
      ]
     },
     "execution_count": 107,
     "metadata": {},
     "output_type": "execute_result"
    }
   ],
   "source": [
    "posture_cost.calc(q1)"
   ]
  },
  {
   "cell_type": "code",
   "execution_count": null,
   "metadata": {},
   "outputs": [],
   "source": []
  }
 ],
 "metadata": {
  "anaconda-cloud": {},
  "hide_input": false,
  "kernelspec": {
   "display_name": "Python 3",
   "language": "python",
   "name": "python3"
  },
  "language_info": {
   "codemirror_mode": {
    "name": "ipython",
    "version": 3
   },
   "file_extension": ".py",
   "mimetype": "text/x-python",
   "name": "python",
   "nbconvert_exporter": "python",
   "pygments_lexer": "ipython3",
   "version": "3.8.3"
  },
  "latex_envs": {
   "bibliofile": "biblio.bib",
   "cite_by": "apalike",
   "current_citInitial": 1,
   "eqLabelWithNumbers": true,
   "eqNumInitial": 0
  }
 },
 "nbformat": 4,
 "nbformat_minor": 4
}
