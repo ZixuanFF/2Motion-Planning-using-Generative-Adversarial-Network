{
 "cells": [
  {
   "cell_type": "markdown",
   "metadata": {},
   "source": [
    "# Talos Example"
   ]
  },
  {
   "cell_type": "code",
   "execution_count": 1,
   "metadata": {
    "collapsed": false,
    "jupyter": {
     "outputs_hidden": false
    }
   },
   "outputs": [],
   "source": [
    "import tensorflow as tf\n",
    "import tensorflow.compat.v1 as tf1\n",
    "import numpy as np\n",
    "import matplotlib.pyplot as plt\n",
    "\n",
    "from collections import OrderedDict\n",
    "\n",
    "import tf_robot_learning as rl\n",
    "import tf_robot_learning.distributions as ds\n",
    "import os, time\n",
    "from tf_robot_learning import kinematic as tk\n",
    "\n",
    "from IPython.core import display\n",
    "\n",
    "%load_ext autoreload\n",
    "%autoreload 2\n",
    "%matplotlib inline"
   ]
  },
  {
   "cell_type": "markdown",
   "metadata": {},
   "source": [
    "## Part 1: Define and Train GAN"
   ]
  },
  {
   "cell_type": "code",
   "execution_count": 2,
   "metadata": {},
   "outputs": [],
   "source": [
    "sess = tf1.InteractiveSession()\n",
    "tf1.disable_eager_execution()"
   ]
  },
  {
   "cell_type": "markdown",
   "metadata": {},
   "source": [
    "### Define robot"
   ]
  },
  {
   "cell_type": "code",
   "execution_count": 3,
   "metadata": {},
   "outputs": [
    {
     "name": "stdout",
     "output_type": "stream",
     "text": [
      "WARNING:tensorflow:From /home/teguh/miniconda3/envs/tf3/lib/python3.8/site-packages/tensorflow/python/ops/linalg/linear_operator_full_matrix.py:142: calling LinearOperator.__init__ (from tensorflow.python.ops.linalg.linear_operator) with graph_parents is deprecated and will be removed in a future version.\n",
      "Instructions for updating:\n",
      "Do not pass `graph_parents`.  They will  no longer be used.\n"
     ]
    }
   ],
   "source": [
    "urdf = tk.urdf_from_file(rl.datapath + '/urdf/talos_reduced.urdf');\n",
    "display.clear_output()\n",
    "\n",
    "#list of end-effector\n",
    "tips = OrderedDict({\n",
    "    'r_gripper'\t: 'gripper_right_base_link',\n",
    "    'l_gripper'\t: 'gripper_left_base_link',\n",
    "    'r_foot' \t: 'right_sole_link',\n",
    "    'l_foot' \t: 'left_sole_link',\n",
    "})\n",
    "\n",
    "#define the robot as a kinematic chain, loaded from urdf\n",
    "chain_names = ['r_gripper', 'r_foot', 'l_foot'] \n",
    "chain = tk.ChainDict({\n",
    "    name: tk.kdl_chain_from_urdf_model(urdf, 'base_link', tip=tip)\n",
    "    for name, tip in tips.items()\n",
    "})\n",
    "\n",
    "#define the default position and orientation of the end-effector\n",
    "ee = OrderedDict({\n",
    "        'l_gripper': [0.  , 0.29, 0.8 , 1.  , 0.  , 0.  , 0.  , 1.  , 0.  , 0.  , 0.  ,1.  ],\n",
    "        'r_gripper': [0.  , -0.29, 0.8 , 1.  , 0.  , 0.  , 0.  , 1.  , 0.  , 0.  , 0.  ,1.  ],\n",
    "        'l_foot': [-0.02,  0.09, -0.  ,  1.  ,  0.  ,  0.  ,  0.  ,  1.  ,  0.  , 0.  ,  0.  ,  1.  ],\n",
    "        'r_foot': [-0.02,  -0.09, -0.  ,  1.  ,  0.  ,  0.  ,  0.  ,  1.  ,  0.  , 0.  ,  0.  ,  1.  ],\n",
    "})"
   ]
  },
  {
   "cell_type": "markdown",
   "metadata": {},
   "source": [
    "### Load data "
   ]
  },
  {
   "cell_type": "code",
   "execution_count": 4,
   "metadata": {},
   "outputs": [],
   "source": [
    "def param_to_joint_pos(x):\n",
    "    \"\"\"\n",
    "    convert the config parameter x to full robot configurations: joint angles, base position and orientation\n",
    "    \"\"\"\n",
    "    return x[..., :chain.nb_joint],\\\n",
    "        tf.concat([x[..., chain.nb_joint:chain.nb_joint+3]], -1),\\\n",
    "        tk.rotation.rpy(tf.zeros_like(x[..., -3:]))"
   ]
  },
  {
   "cell_type": "code",
   "execution_count": 5,
   "metadata": {
    "collapsed": false,
    "jupyter": {
     "outputs_hidden": false
    }
   },
   "outputs": [],
   "source": [
    "def q_augmented(q):\n",
    "    \"\"\" Define augmented data transformations: (joint_angles, right foot pose, and left foot pose)\"\"\"\n",
    "    _q, _p, _m = param_to_joint_pos(q)\n",
    "    return tf.concat([\n",
    "            q,\n",
    "            chain.xs(_q, floating_base=(_p, _m), name='r_foot')[:, -1],\n",
    "            chain.xs(_q, floating_base=(_p, _m), name='l_foot')[:, -1]\n",
    "        ], -1)"
   ]
  },
  {
   "cell_type": "code",
   "execution_count": 6,
   "metadata": {
    "collapsed": false,
    "jupyter": {
     "outputs_hidden": false
    }
   },
   "outputs": [],
   "source": [
    "def q_target(q):\n",
    "    \"\"\" Extract the target\"\"\"\n",
    "    _q, _p, _m = param_to_joint_pos(q)\n",
    "    return tf.concat( # orientation of each foot\n",
    "            [chain.xs(_q, floating_base=(_p, _m), name=name)[:, -1, :3] for name in chain_names]\n",
    "            , -1)"
   ]
  },
  {
   "cell_type": "code",
   "execution_count": 7,
   "metadata": {
    "collapsed": false,
    "jupyter": {
     "outputs_hidden": false
    }
   },
   "outputs": [],
   "source": [
    "def q_foot_ori(q):\n",
    "    \"\"\" Extract the foot orientation \"\"\"\n",
    "    _q, _p, _m = param_to_joint_pos(q)\n",
    "    return tf.concat( # position of each end-effector\n",
    "            [chain.xs(_q, floating_base=(_p, _m), name=name)[:, -1, 3:] for name in chain_names[1:]]\n",
    "            , -1)"
   ]
  },
  {
   "cell_type": "code",
   "execution_count": 8,
   "metadata": {},
   "outputs": [],
   "source": [
    "# get mini batch\n",
    "def get_batch(_batch_size=30, cut=None, augmented=True):\n",
    "    if cut is not None: idx = np.random.randint(0, cut, _batch_size)\n",
    "    else: idx = np.random.randint(0, data_augmented.shape[0]-1, _batch_size)\n",
    "    if augmented: return data_augmented[idx]\n",
    "    else: return data[idx]\n",
    "    \n",
    "def get_target_batch(_batch_size=30, cut=None):\n",
    "    if cut is not None: idx = np.random.randint( 0, cut, _batch_size)\n",
    "    else: idx = np.random.randint(0, data_augmented.shape[0]-1, _batch_size)\n",
    "    return data_target[idx]\n"
   ]
  },
  {
   "cell_type": "code",
   "execution_count": 9,
   "metadata": {
    "collapsed": false,
    "jupyter": {
     "outputs_hidden": false
    }
   },
   "outputs": [],
   "source": [
    "q_eval = tf1.placeholder(tf.float32, (None, chain.nb_joint + 3))\n",
    "\n",
    "q_augmented_eval = q_augmented(q_eval)\n",
    "q_target_eval = q_target(q_eval)\n",
    "q_foot_ori_eval = q_foot_ori(q_eval)"
   ]
  },
  {
   "cell_type": "code",
   "execution_count": 10,
   "metadata": {},
   "outputs": [],
   "source": [
    "#load the dataset\n",
    "data = np.load('data/data_two_feet_manual.npy')\n",
    "# compute data through these transformations\n",
    "data_augmented = q_augmented_eval.eval({q_eval: data})\n",
    "data_target = q_target_eval.eval({q_eval: data})"
   ]
  },
  {
   "cell_type": "markdown",
   "metadata": {},
   "source": [
    "## Generator "
   ]
  },
  {
   "cell_type": "code",
   "execution_count": 11,
   "metadata": {},
   "outputs": [],
   "source": [
    "# Network Parameters\n",
    "joint_dim = chain.nb_joint + 3 # the configuration consists of nb_joint= 28 joint angles and 3 base position\n",
    "latent_dim = 30 # dimension of noise\n",
    "N_net = 5\n",
    "target_dim = 9  # size of the target\n",
    "augmented_dim = 2 * 12 + joint_dim # size of augmented data (joint angles + poses of both foot)\n",
    "\n",
    "n_input = latent_dim + target_dim #dimension of the input to the generator\n",
    "batch_size = tf1.placeholder(tf.int32, ())"
   ]
  },
  {
   "cell_type": "markdown",
   "metadata": {},
   "source": [
    "#### Define the generator"
   ]
  },
  {
   "cell_type": "code",
   "execution_count": 12,
   "metadata": {},
   "outputs": [],
   "source": [
    "gen_nn = rl.nn.MLP(\n",
    "    n_input=n_input, n_output=joint_dim, n_hidden=[200, 200],\n",
    "    act_fct=tf.nn.relu, batch_size_svi=N_net\n",
    ")"
   ]
  },
  {
   "cell_type": "markdown",
   "metadata": {},
   "source": [
    "#### Define the generator input"
   ]
  },
  {
   "cell_type": "code",
   "execution_count": 13,
   "metadata": {},
   "outputs": [],
   "source": [
    "# noise to feed generator\n",
    "eps_var = tf1.placeholder(tf.float32, ())\n",
    "eps = tf.random.normal([tf.cast(batch_size/N_net, tf.int32), latent_dim], \n",
    "    dtype=tf.float32, mean=0., stddev=eps_var, name='epsilon')\n",
    "\n",
    "#the input to generator = noise + target\n",
    "batch_target = tf1.placeholder(tf.float32, (None, target_dim))\n",
    "eps_conc = tf.concat([eps, batch_target], axis=-1)"
   ]
  },
  {
   "cell_type": "markdown",
   "metadata": {},
   "source": [
    "#### Define output transformations"
   ]
  },
  {
   "cell_type": "code",
   "execution_count": 14,
   "metadata": {},
   "outputs": [
    {
     "name": "stdout",
     "output_type": "stream",
     "text": [
      "WARNING:tensorflow:From /home/teguh/miniconda3/envs/tf3/lib/python3.8/site-packages/tensorflow/python/ops/resource_variable_ops.py:1659: calling BaseResourceVariable.__init__ (from tensorflow.python.ops.resource_variable_ops) with constraint is deprecated and will be removed in a future version.\n",
      "Instructions for updating:\n",
      "If using Keras pass *_constraint arguments to layers.\n"
     ]
    }
   ],
   "source": [
    "samples_q = tf.reshape(gen_nn.pred(eps_conc) + tf.constant(chain.mean_pose + [0,0,1.08])[None], (-1, joint_dim))\n",
    "\n",
    "samples_qq, samples_p, samples_m = param_to_joint_pos(samples_q)\n",
    "samples_links, _, samples_com = chain.xs(samples_qq, floating_base=(samples_p, samples_m), get_links=True)\n",
    "\n",
    "samples_augmented = q_augmented(samples_q)\n",
    "samples_target = q_target(samples_q)\n",
    "samples_foot_ori = q_foot_ori(samples_q)"
   ]
  },
  {
   "cell_type": "markdown",
   "metadata": {},
   "source": [
    "## Discriminator"
   ]
  },
  {
   "cell_type": "markdown",
   "metadata": {},
   "source": [
    "#### Define the discriminator"
   ]
  },
  {
   "cell_type": "code",
   "execution_count": 15,
   "metadata": {
    "collapsed": false,
    "jupyter": {
     "outputs_hidden": false
    }
   },
   "outputs": [],
   "source": [
    "discr_nn = rl.nn.MLP(\n",
    "    n_input=augmented_dim, n_output=1, n_hidden=[40, 40],\n",
    "    act_fct=tf.nn.relu\n",
    ")\n",
    "\n",
    "#batch data\n",
    "batch_x = tf1.placeholder(tf.float32, (None, augmented_dim))"
   ]
  },
  {
   "cell_type": "markdown",
   "metadata": {},
   "source": [
    "## Define loss functions"
   ]
  },
  {
   "cell_type": "markdown",
   "metadata": {},
   "source": [
    "#### Main loss functions (discriminator vs generator)"
   ]
  },
  {
   "cell_type": "code",
   "execution_count": 16,
   "metadata": {
    "collapsed": false,
    "jupyter": {
     "outputs_hidden": false
    }
   },
   "outputs": [],
   "source": [
    "d_fake = discr_nn.pred(samples_augmented)[:, 0]\n",
    "d_true = discr_nn.pred(batch_x)[:, 0]\n",
    "\n",
    "#discriminator loss function\n",
    "loss_d = tf.nn.sigmoid_cross_entropy_with_logits(labels=tf.ones_like(d_true), logits=d_true) + \\\n",
    "        tf.nn.sigmoid_cross_entropy_with_logits(labels=tf.zeros_like(d_fake), logits=d_fake)\n",
    "loss_d = tf.reduce_sum(loss_d)\n",
    "\n",
    "#generator (basic) loss function\n",
    "loss = tf.nn.sigmoid_cross_entropy_with_logits(\n",
    "    labels=tf.ones_like(d_fake), logits=d_fake)\n",
    "loss = tf.reduce_sum(loss)"
   ]
  },
  {
   "cell_type": "markdown",
   "metadata": {},
   "source": [
    "#### Target loss "
   ]
  },
  {
   "cell_type": "code",
   "execution_count": 17,
   "metadata": {},
   "outputs": [
    {
     "name": "stdout",
     "output_type": "stream",
     "text": [
      "WARNING:tensorflow:From /home/teguh/miniconda3/envs/tf3/lib/python3.8/site-packages/tensorflow_probability/python/bijectors/affine_linear_operator.py:116: LinearOperator.graph_parents (from tensorflow.python.ops.linalg.linear_operator) is deprecated and will be removed in a future version.\n",
      "Instructions for updating:\n",
      "Do not call `graph_parents`.\n"
     ]
    }
   ],
   "source": [
    "p_target_std = tf1.placeholder(tf.float32, ()) \n",
    "\n",
    "p_target = ds.MultivariateNormalFullCovariance(\n",
    "    tf.reshape(tf.ones((N_net, 1,1))*batch_target,(-1, target_dim)), p_target_std**2 * tf.eye(target_dim)\n",
    ")\n",
    "\n",
    "loss_target = tf.reduce_sum(-p_target.log_prob(samples_target))\n",
    "lmbda_target = tf1.placeholder(tf.float32, ())"
   ]
  },
  {
   "cell_type": "markdown",
   "metadata": {},
   "source": [
    "#### Foot orientation loss "
   ]
  },
  {
   "cell_type": "code",
   "execution_count": 18,
   "metadata": {
    "collapsed": false,
    "jupyter": {
     "outputs_hidden": false
    }
   },
   "outputs": [],
   "source": [
    "foot_ori_dim = 18\n",
    "batch_foot_ori = tf1.placeholder(tf.float32, (None, foot_ori_dim))\n",
    "\n",
    "# define a Gaussian distribution that should be tracked by the system\n",
    "p_foot_ori_std = tf1.placeholder(tf.float32, ()) \n",
    "\n",
    "p_foot_ori = ds.MultivariateNormalFullCovariance(\n",
    "    tf.reshape(tf.ones((N_net, 1,1))*batch_foot_ori,(-1, foot_ori_dim)), p_foot_ori_std**2 * tf.eye(foot_ori_dim)\n",
    ")\n",
    "\n",
    "loss_foot_ori = tf.reduce_sum(-p_foot_ori.log_prob(samples_foot_ori))\n",
    "lmbda_foot_ori = tf1.placeholder(tf.float32, ())"
   ]
  },
  {
   "cell_type": "markdown",
   "metadata": {},
   "source": [
    "#### Constraints cost: COM and joint limit"
   ]
  },
  {
   "cell_type": "code",
   "execution_count": 19,
   "metadata": {
    "collapsed": false,
    "jupyter": {
     "outputs_hidden": false
    }
   },
   "outputs": [],
   "source": [
    "#joint limit\n",
    "base_pos_limits = np.array([[-0.1, -0.1, 0.6],[0.1, 0.1, 1.4] ]).T\n",
    "config_limits = np.concatenate([chain.joint_limits, base_pos_limits], axis=0)\n",
    "joint_limits = tf.constant(config_limits, dtype=tf.float32)\n",
    "joint_limits_std = 0.05\n",
    "joint_limits_temp = 1.\n",
    "\n",
    "joint_limits_exp = ds.SoftUniformNormalCdf(\n",
    "    low=joint_limits[:, 0],\n",
    "    high=joint_limits[:, 1],\n",
    "    std=joint_limits_std,\n",
    "    temp=joint_limits_temp,\n",
    "    reduce_axis=-1\n",
    ")\n",
    "\n",
    "joint_limit_constraints = tf.reduce_mean(-joint_limits_exp.log_prob(samples_q[:,:chain.nb_joint+3]))\n",
    "\n",
    "\n",
    "#COM\n",
    "com_limits = 0.1\n",
    "com_limits_std = 0.01\n",
    "\n",
    "com_limits_exp = ds.SoftUniformNormalCdf(\n",
    "    low=-com_limits,\n",
    "    high=com_limits,\n",
    "    std=com_limits_std,\n",
    "    temp=1.,\n",
    "    reduce_axis=-1\n",
    ")\n",
    "\n",
    "com_xy = samples_com[:, :2]\n",
    "center_feet = tf.reduce_mean([\n",
    "        samples_links['r_foot'][:, -1, :2], \n",
    "        samples_links['l_foot'][:, -1, :2]\n",
    "        ], axis=0)\n",
    "\n",
    "cost_constraints = tf.reduce_mean(-com_limits_exp.log_prob(com_xy - center_feet))\n",
    "lmbda_constraints = tf1.placeholder(tf.float32, ())"
   ]
  },
  {
   "cell_type": "markdown",
   "metadata": {},
   "source": [
    "### Overall loss"
   ]
  },
  {
   "cell_type": "code",
   "execution_count": 20,
   "metadata": {},
   "outputs": [],
   "source": [
    "loss_gen = loss +  lmbda_target * loss_target + lmbda_foot_ori*loss_foot_ori + lmbda_constraints * (cost_constraints+joint_limit_constraints) "
   ]
  },
  {
   "cell_type": "markdown",
   "metadata": {},
   "source": [
    "### Optimizer "
   ]
  },
  {
   "cell_type": "code",
   "execution_count": 21,
   "metadata": {
    "collapsed": false,
    "jupyter": {
     "outputs_hidden": false
    }
   },
   "outputs": [],
   "source": [
    "rate = tf1.placeholder(tf.float32, ())\n",
    "opt = tf1.train.AdamOptimizer\n",
    "\n",
    "optimizer = opt(learning_rate=rate)\n",
    "optimizer_d = opt(learning_rate=rate)\n",
    "\n",
    "train = optimizer.minimize(loss_gen, var_list=gen_nn.vec_weights)\n",
    "train_d = optimizer_d.minimize(loss_d, var_list=discr_nn.vec_weights)\n",
    "\n",
    "# Initialize the variables (i.e. assign their default value)\n",
    "init = tf1.global_variables_initializer()"
   ]
  },
  {
   "cell_type": "markdown",
   "metadata": {},
   "source": [
    "## Training model "
   ]
  },
  {
   "cell_type": "code",
   "execution_count": 22,
   "metadata": {
    "collapsed": false,
    "jupyter": {
     "outputs_hidden": false
    }
   },
   "outputs": [],
   "source": [
    "sess.run(init)"
   ]
  },
  {
   "cell_type": "code",
   "execution_count": 23,
   "metadata": {},
   "outputs": [],
   "source": [
    "def get_target_new_batch(_batch_size):\n",
    "    return np.random.multivariate_normal(_targets_m, np.diag(_targets_v ** 2), (_batch_size, ))"
   ]
  },
  {
   "cell_type": "code",
   "execution_count": 24,
   "metadata": {},
   "outputs": [],
   "source": [
    "_batch_size = 100\n",
    "_targets_m = np.concatenate([ee[name][:3] for name in chain_names], 0) # mean target\n",
    "_batch_foot_ori = np.tile(np.eye(3).flatten(), (int(_batch_size/N_net),2)).reshape(int(_batch_size/N_net),-1)\n",
    "\n",
    "_targets_m = np.concatenate([ee[name][:3] for name in chain_names], 0) # mean target\n",
    "_targets_v = np.array([0.5] * 3 + [0.01] * 2 + [0.] +  [0.01] * 2 + [0.]  )  # variance"
   ]
  },
  {
   "cell_type": "raw",
   "metadata": {
    "jupyter": {
     "outputs_hidden": false
    }
   },
   "source": [
    "alpha = .7\n",
    "for i in range(2000):\n",
    "    try:\n",
    "        for j in range(5):\n",
    "            # train discriminative_network\n",
    "            _x = get_batch(cut=8000, _batch_size=_batch_size)\n",
    "            \n",
    "            feed_dict = {\n",
    "                lmbda_target: .05,\n",
    "                lmbda_foot_ori: .05,\n",
    "                lmbda_constraints: 5.,\n",
    "                eps_var: 1.,\n",
    "                p_target_std: 0.01,\n",
    "                p_foot_ori_std: 0.01,\n",
    "                batch_x: _x,\n",
    "                batch_size: _batch_size,\n",
    "                rate : 0.002 * alpha,\n",
    "            }\n",
    "            \n",
    "            # from data\n",
    "            feed_dict[batch_target] = get_target_new_batch(_batch_size=int(_batch_size/N_net))\n",
    "\n",
    "            _ = sess.run([train_d], feed_dict=feed_dict)\n",
    "        \n",
    "        feed_dict[rate] = .001 * alpha\n",
    "        feed_dict[batch_foot_ori] = _batch_foot_ori\n",
    "        \n",
    "        # train generative_network\n",
    "        _,  _loss, _loss_d,  _loss_target, _loss_constraints = sess.run(\n",
    "            [train, loss, loss_d,  loss_target, cost_constraints], feed_dict=feed_dict)\n",
    "        \n",
    "        if not i % 10:\n",
    "            display.clear_output(wait=True)\n",
    "            print('Step %i\\t, loss gen %f, loss disc %f,  loss target %f, loss constraints %f' % (i, _loss, _loss_d ,_loss_target, _loss_constraints))\n",
    "    except KeyboardInterrupt:\n",
    "        break"
   ]
  },
  {
   "cell_type": "markdown",
   "metadata": {},
   "source": [
    "#### To save model"
   ]
  },
  {
   "cell_type": "raw",
   "metadata": {},
   "source": [
    "saver = tf1.train.Saver()\n",
    "\n",
    "save_path = saver.save(sess, \"data/talos_foot_fixed_with_data_ensemble2.ckpt\")"
   ]
  },
  {
   "cell_type": "markdown",
   "metadata": {},
   "source": [
    "#### To load model"
   ]
  },
  {
   "cell_type": "code",
   "execution_count": 25,
   "metadata": {},
   "outputs": [
    {
     "name": "stdout",
     "output_type": "stream",
     "text": [
      "INFO:tensorflow:Restoring parameters from data/talos_foot_fixed_with_data_ensemble2.ckpt\n"
     ]
    }
   ],
   "source": [
    "saver = tf1.train.Saver()\n",
    "saver.restore(sess, \"data/talos_foot_fixed_with_data_ensemble2.ckpt\")"
   ]
  },
  {
   "cell_type": "markdown",
   "metadata": {},
   "source": [
    "### Visualize the generated samples"
   ]
  },
  {
   "cell_type": "code",
   "execution_count": 26,
   "metadata": {
    "collapsed": false,
    "jupyter": {
     "outputs_hidden": false
    }
   },
   "outputs": [
    {
     "data": {
      "image/png": "[encoded data removed]",
      "text/plain": [
       "<Figure size 432x288 with 2 Axes>"
      ]
     },
     "metadata": {
      "needs_background": "light"
     },
     "output_type": "display_data"
    }
   ],
   "source": [
    "_batch_size = 20\n",
    "feed_dict={batch_size: _batch_size, eps_var:1.}\n",
    "feed_dict[batch_target] = get_target_new_batch(_batch_size=int(_batch_size/N_net))\n",
    "\n",
    "_links, _com , _b_targets = sess.run(\n",
    "[samples_links, samples_com, batch_target], feed_dict\n",
    ")\n",
    "\n",
    "fig, ax = plt.subplots(ncols=2)\n",
    "\n",
    "for i in range(2):\n",
    "    dim = [i, 2]\n",
    "    chain.plot(\n",
    "            _links, feed_dict={}, ax=ax[i],\n",
    "            dim=dim, alpha=0.2, color='k'\n",
    "        )    \n",
    "    ax[i].plot(_com[0, dim[0]], _com[0, dim[1]], 'bx')\n",
    "    \n",
    "    for j, name in enumerate(chain_names):\n",
    "        ax[i].plot(_b_targets[:, j*3 + dim[0]], _b_targets[:, j*3 + dim[1]], 'rx', color='orangered')"
   ]
  },
  {
   "cell_type": "code",
   "execution_count": 27,
   "metadata": {},
   "outputs": [
    {
     "data": {
      "image/png": "[encoded data removed]",
      "text/plain": [
       "<Figure size 864x576 with 2 Axes>"
      ]
     },
     "metadata": {
      "needs_background": "light"
     },
     "output_type": "display_data"
    }
   ],
   "source": [
    "from_dataset = 0\n",
    "n = 10\n",
    "\n",
    "_targets_m = np.concatenate([ee[name][:3] for name in chain_names], 0) # mean target\n",
    "_targets_v = np.array([0.6] * 3 + [0.001]*3 + [0.001] * 3  )  # variance\n",
    "\n",
    "if from_dataset:\n",
    "    _targets = get_target_batch(cut=10000, _batch_size=1) * np.ones((int(n/N_net), 1))\n",
    "else:\n",
    "    _targets = np.random.multivariate_normal(_targets_m, np.diag(_targets_v ** 2), (1, )) * np.ones((int(n/N_net), 1))\n",
    "\n",
    "feed_dict={batch_size: n, batch_target: _targets, eps_var:1.}\n",
    "\n",
    "\n",
    "_links, _com , _b_targets, _samples_q = sess.run(\n",
    "    [samples_links, samples_com, batch_target, samples_q], \n",
    "    feed_dict)\n",
    "\n",
    "fig, ax = plt.subplots(ncols=2, figsize=(12,8))\n",
    "\n",
    "for i in range(2):\n",
    "    dim = [i, 2]\n",
    "    chain.plot(\n",
    "            _links, feed_dict={}, ax=ax[i],\n",
    "            dim=dim, alpha=0.2, color='k'\n",
    "        )    \n",
    "    \n",
    "    for j, name in enumerate(chain_names):\n",
    "        ax[i].plot(_b_targets[:, j*3 + dim[0]], _b_targets[:, j*3 + dim[1]], 'rx', color='orangered')\n",
    "    ax[i].plot(_com[0, dim[0]], _com[0, dim[1]], 'bx')\n",
    "    #ax[i].set_xlim([-.7, .7])\n",
    "    #x[i].set_ylim([-0.1, 1.2])\n",
    "plt.savefig('data/talos_config.png')\n",
    "plt.show()  \n"
   ]
  },
  {
   "cell_type": "raw",
   "metadata": {},
   "source": [
    "fig, ax = plt.subplots(ncols=1, figsize=(12,8))\n",
    "dim = [1, 2]\n",
    "chain.plot(\n",
    "        _links, feed_dict={}, ax=ax,\n",
    "        dim=dim, alpha=0.2, color='k'\n",
    "    )    \n",
    "\n",
    "for j, name in enumerate(chain_names):\n",
    "    ax.plot(_b_targets[:, j*3 + dim[0]], _b_targets[:, j*3 + dim[1]], 'rx', color='orangered')\n",
    "ax.plot(_com[0, dim[0]], _com[0, dim[1]], 'bx')\n",
    "ax.set_xlim([-.9, .7])\n",
    "ax.set_ylim([-0.1, 1.6])\n",
    "plt.axis('off')\n",
    "plt.savefig('data/talos_config6.png', bbox_inches='tight', pad_inches=0)\n",
    "plt.show()  \n"
   ]
  },
  {
   "cell_type": "raw",
   "metadata": {},
   "source": [
    "for sample in _samples_q:\n",
    "    set_q_std(get_pb_config(sample),True)\n",
    "    print(sample[2:9])\n",
    "    input()"
   ]
  },
  {
   "cell_type": "markdown",
   "metadata": {},
   "source": [
    "## Part 2: Use GAN for Projection, IK and Inverse Kinematics"
   ]
  },
  {
   "cell_type": "markdown",
   "metadata": {},
   "source": [
    "### Setup Pybullet"
   ]
  },
  {
   "cell_type": "code",
   "execution_count": 28,
   "metadata": {},
   "outputs": [],
   "source": [
    "import pybullet as p\n",
    "import pybullet_data\n",
    "from utils import *\n",
    "from scipy.optimize import fmin_bfgs\n",
    "from costs import *\n",
    "from robot import *\n",
    "from scipy.optimize import fmin_bfgs\n",
    "from functools import partial"
   ]
  },
  {
   "cell_type": "code",
   "execution_count": 29,
   "metadata": {},
   "outputs": [],
   "source": [
    "physics_client_id = p.connect(p.DIRECT)\n",
    "\n",
    "p.setPhysicsEngineParameter(enableFileCaching=0)\n",
    "p.setAdditionalSearchPath(pybullet_data.getDataPath())\n",
    "p.configureDebugVisualizer(p.COV_ENABLE_GUI,0)"
   ]
  },
  {
   "cell_type": "code",
   "execution_count": 30,
   "metadata": {},
   "outputs": [],
   "source": [
    "p.resetSimulation()"
   ]
  },
  {
   "cell_type": "markdown",
   "metadata": {},
   "source": [
    "#### Load in pybullet"
   ]
  },
  {
   "cell_type": "code",
   "execution_count": 31,
   "metadata": {},
   "outputs": [],
   "source": [
    "#load robot\n",
    "robot_urdf = rl.datapath + '/urdf/talos_reduced.urdf';\n",
    "robot_id = p.loadURDF(fileName=robot_urdf)\n",
    "dof = p.getNumJoints(robot_id)\n",
    "\n",
    "#load plane\n",
    "plane_id = p.loadURDF('plane.urdf')\n",
    "p.resetBasePositionAndOrientation(plane_id, (0,0,0), np.array([0,0,0,1]))\n",
    "\n",
    "#set default visualization function\n",
    "set_q_std = partial(set_q,robot_id, pb_joint_indices, set_base=True)\n",
    "set_q_std(q0Complete)\n",
    "vis_traj_std = partial(vis_traj, vis_func = set_q_std)"
   ]
  },
  {
   "cell_type": "code",
   "execution_count": 32,
   "metadata": {},
   "outputs": [],
   "source": [
    "_,_, ball_id = create_primitives(radius = 0.1)"
   ]
  },
  {
   "cell_type": "markdown",
   "metadata": {},
   "source": [
    "#### Setup the environment"
   ]
  },
  {
   "cell_type": "raw",
   "metadata": {},
   "source": [
    "save_screenshot(200,200,800, 1000, 'data/task5.png', False)"
   ]
  },
  {
   "cell_type": "code",
   "execution_count": 33,
   "metadata": {},
   "outputs": [],
   "source": [
    "task = 3 #choose 1, 2 or 3\n",
    "brown_color = (165./255, 42/255., 42/255.,1.)\n",
    "brown2_color = (165./255, 65/255., 65/255.,1.)\n",
    "purple_color = (165./255, 100/255., 255/255.,.9)\n",
    "ori = (0,0,0,1)\n",
    "\n",
    "if task == 1:\n",
    "    #task 1\n",
    "    _,_, box_id = create_primitives(shapeType=p.GEOM_BOX, halfExtents=[0.25, 0.4, 0.03], pos = [0.7,0,.95], rgbaColor=brown_color)\n",
    "    col_ids = [plane_id, box_id]\n",
    "elif task == 2:\n",
    "    #task 2\n",
    "    _,_, box_id = create_primitives(shapeType=p.GEOM_BOX, halfExtents=[0.25, 0.4, 0.03], pos= [0.55,0,.8], rgbaColor=brown_color)\n",
    "    _,_, box_id2 = create_primitives(shapeType=p.GEOM_BOX, halfExtents=[0.03, 0.4, 0.12], pos = [0.33,0,.95],  rgbaColor=brown2_color)\n",
    "    col_ids = [plane_id, box_id, box_id2]\n",
    "elif task == 3:\n",
    "        #task3\n",
    "    _,_, box_id =  create_primitives(shapeType=p.GEOM_BOX, halfExtents=[0.25, 0.4, 0.03], pos = [0.7,0,.75], rgbaColor=brown_color)\n",
    "    _,_, box_id2 = create_primitives(shapeType=p.GEOM_BOX, halfExtents=[0.03, 0.4, 0.03], pos = [0.5,0,1.22], rgbaColor=purple_color)\n",
    "    _,_, box_id3 = create_primitives(shapeType=p.GEOM_BOX, halfExtents=[0.03, 0.03, 0.25], pos = [0.5,0.3,1.], rgbaColor=purple_color)\n",
    "    _,_, box_id4 = create_primitives(shapeType=p.GEOM_BOX, halfExtents=[0.03, 0.03, 0.25], pos = [0.5,-0.3,1.], rgbaColor=purple_color)\n",
    "    _,_, box_id5 = create_primitives(shapeType=p.GEOM_BOX, halfExtents=[0.03, 0.03, 0.35], pos = [0.5,0.3,0.4], rgbaColor=brown_color)\n",
    "    _,_, box_id6 = create_primitives(shapeType=p.GEOM_BOX, halfExtents=[0.03, 0.03, 0.35], pos = [0.5,-0.3,.4], rgbaColor=brown_color)\n",
    "    _,_, box_id7 = create_primitives(shapeType=p.GEOM_BOX, halfExtents=[0.03, 0.03, 0.35], pos = [0.9,0.3,0.4], rgbaColor=brown_color)\n",
    "    _,_, box_id8 = create_primitives(shapeType=p.GEOM_BOX, halfExtents=[0.03, 0.03, 0.35], pos = [0.9,-0.3,.4], rgbaColor=brown_color)\n",
    "    col_ids = [plane_id, box_id, box_id2, box_id3, box_id4, box_id5, box_id6]"
   ]
  },
  {
   "cell_type": "markdown",
   "metadata": {},
   "source": [
    "#### Define frame indices"
   ]
  },
  {
   "cell_type": "code",
   "execution_count": 34,
   "metadata": {},
   "outputs": [],
   "source": [
    "pb_frame_names = [p.getJointInfo(robot_id,i)[1] for i in range(dof)]"
   ]
  },
  {
   "cell_type": "code",
   "execution_count": 35,
   "metadata": {},
   "outputs": [],
   "source": [
    "pb_lh_frame_id = pb_frame_names.index(b'gripper_left_joint')\n",
    "pb_rh_frame_id = pb_frame_names.index(b'gripper_right_joint')\n",
    "pb_lf_frame_id = pb_frame_names.index(b'leg_left_sole_fix_joint')\n",
    "pb_rf_frame_id = pb_frame_names.index(b'leg_right_sole_fix_joint')"
   ]
  },
  {
   "cell_type": "markdown",
   "metadata": {},
   "source": [
    "#### Load from pinocchio"
   ]
  },
  {
   "cell_type": "code",
   "execution_count": 36,
   "metadata": {},
   "outputs": [],
   "source": [
    "robot_urdf = rl.datapath + '/urdf/talos_reduced.urdf';\n",
    "rmodel = pin.buildModelFromUrdf(robot_urdf , pin.JointModelFreeFlyer())\n",
    "rdata = rmodel.createData()\n",
    "\n",
    "robot_joint_limits = np.vstack([rmodel.lowerPositionLimit, rmodel.upperPositionLimit])\n",
    "\n",
    "pin_frame_names = [f.name for f in rmodel.frames]\n",
    "lh_frame_id = rmodel.getFrameId('gripper_left_joint')\n",
    "rh_frame_id = rmodel.getFrameId('gripper_right_joint')\n",
    "lf_frame_id = rmodel.getFrameId('leg_left_sole_fix_joint')\n",
    "rf_frame_id = rmodel.getFrameId('leg_right_sole_fix_joint')"
   ]
  },
  {
   "cell_type": "markdown",
   "metadata": {},
   "source": [
    "#### Define target poses"
   ]
  },
  {
   "cell_type": "code",
   "execution_count": 37,
   "metadata": {},
   "outputs": [],
   "source": [
    "#left foot\n",
    "pos_lf, ori_lf = computePose(rmodel,rdata,lf_frame_id,q0Complete)\n",
    "rpy_lf = mat2euler(ori_lf)\n",
    "pose_lf_ref = np.concatenate([pos_lf, rpy_lf])\n",
    "#right foot\n",
    "pos_rf, ori_rf = computePose(rmodel,rdata,rf_frame_id,q0Complete)\n",
    "rpy_rf = mat2euler(ori_rf)\n",
    "pose_rf_ref = np.concatenate([pos_rf, rpy_rf])\n",
    "#left hand\n",
    "pos_lh, ori_lh = computePose(rmodel,rdata,lh_frame_id,q0Complete)\n",
    "pose_lh_ref = np.concatenate([np.array([0.3,0.2, 0.4]), np.array([0,-np.pi/2,0.])])\n",
    "#right hand\n",
    "pos_rh, ori_rh = computePose(rmodel,rdata,rh_frame_id,q0Complete)\n",
    "rpy_rh = mat2euler(ori_rh)\n",
    "pose_rh_ref = np.concatenate([pos_rh, rpy_rh])"
   ]
  },
  {
   "cell_type": "markdown",
   "metadata": {},
   "source": [
    "### Define Projector & IK solver"
   ]
  },
  {
   "cell_type": "code",
   "execution_count": 38,
   "metadata": {},
   "outputs": [],
   "source": [
    "lf_cost = CostFrameRPYFloatingBase(rmodel, rdata, pose_lf_ref,lf_frame_id, sel_vector=np.array([1,1,1,1,1,1]))\n",
    "rf_cost = CostFrameRPYFloatingBase(rmodel, rdata, pose_rf_ref,rf_frame_id, sel_vector=np.array([1,1,1,1,1,1]))\n",
    "bound_cost = CostBound(robot_joint_limits)\n",
    "posture_cost = CostPosture(rmodel, rdata, q0Complete)\n",
    "com_bounds = np.array([[-0.1,-0.1,0.6],[0.1, 0.1, 1.1]])\n",
    "cost_com_bounds = CostCOMBounds(rmodel, rdata, com_bounds)\n",
    "cost_sum = CostSum()\n",
    "\n",
    "cost_sum.addCost(lf_cost, 20., 'lf_pose', 1e-5)\n",
    "cost_sum.addCost(rf_cost, 20.,'rf_pose', 1e-5)\n",
    "cost_sum.addCost(bound_cost, 10., 'com_limit', 1e-4)\n",
    "cost_sum.addCost(cost_com_bounds, 10., 'joint_limit', 1e-4)\n",
    "cost_sum.addCost(posture_cost, .01, 'posture', 1e3)\n",
    "\n",
    "robot_projector_old = TalosCostProjector(cost_sum)\n",
    "\n",
    "\n",
    "rh_cost = CostFrameRPYFloatingBase(rmodel, rdata, pose_rh_ref,rh_frame_id, sel_vector=np.array([1,1,1,0,0,0]))\n",
    "\n",
    "cost_sum2 = CostSum()\n",
    "cost_sum2.addCost(rh_cost, 20., 'rh_pose', 1e-3)\n",
    "cost_sum2.addCost(lf_cost, 20., 'lf_pose', 1e-5)\n",
    "cost_sum2.addCost(rf_cost, 20.,'rf_pose', 1e-5)\n",
    "cost_sum2.addCost(bound_cost, 10., 'com_limit', 1e-4)\n",
    "cost_sum2.addCost(cost_com_bounds, 10., 'joint_limit', 1e-4)\n",
    "cost_sum2.addCost(posture_cost, .01, 'posture', 1e3)\n",
    "\n",
    "robot_ik_solver_old = TalosCostProjector(cost_sum2)"
   ]
  },
  {
   "cell_type": "markdown",
   "metadata": {},
   "source": [
    "### Define new projector & IK solver"
   ]
  },
  {
   "cell_type": "markdown",
   "metadata": {},
   "source": [
    "#### Define target poses"
   ]
  },
  {
   "cell_type": "code",
   "execution_count": 39,
   "metadata": {},
   "outputs": [],
   "source": [
    "for i in range(robot_joint_limits.shape[0]):\n",
    "    for j in range(robot_joint_limits.shape[1]):\n",
    "        if robot_joint_limits[i,j] < -1e10: robot_joint_limits[i,j] = -1e10\n",
    "        if robot_joint_limits[i,j] > 1e10: robot_joint_limits[i,j] = 1e10"
   ]
  },
  {
   "cell_type": "code",
   "execution_count": 40,
   "metadata": {},
   "outputs": [],
   "source": [
    "from costs_pseudo import *"
   ]
  },
  {
   "cell_type": "code",
   "execution_count": 41,
   "metadata": {},
   "outputs": [],
   "source": [
    "#left foot\n",
    "w_lf = mat2w(ori_lf)\n",
    "pose_lf_ref_new = pin.SE3(ori_lf, pos_lf)\n",
    "#right foot\n",
    "w_rf = mat2w(ori_rf)\n",
    "pose_rf_ref_new = pin.SE3(ori_rf, pos_rf)\n",
    "#right hand\n",
    "w_rh = mat2w(ori_rh)\n",
    "pose_rh_ref_new = pos_rh"
   ]
  },
  {
   "cell_type": "code",
   "execution_count": 42,
   "metadata": {},
   "outputs": [],
   "source": [
    "# lf_cost_new = CostFrameRPYFloatingBaseNew(rmodel, rdata, pose_lf_ref,lf_frame_id, sel_vector=np.array([1,1,1,1,1,1]))\n",
    "# rf_cost_new = CostFrameRPYFloatingBaseNew(rmodel, rdata, pose_rf_ref,rf_frame_id, sel_vector=np.array([1,1,1,1,1,1]))\n",
    "# rh_cost_new = CostFrameTranslationFloatingBaseNew(rmodel, rdata, pose_rh_ref[:3],rh_frame_id, weight=np.array([1,1,1]))\n",
    "lf_cost_new = CostFrameSE3FloatingBaseNew(rmodel, rdata, pose_lf_ref_new,lf_frame_id, weight=np.array([1.,1.,1.,1.,1.,1.]))\n",
    "rf_cost_new = CostFrameSE3FloatingBaseNew(rmodel, rdata, pose_rf_ref_new,rf_frame_id, weight=np.array([1.,1.,1.,1.,1.,1.]))\n",
    "rh_cost_new = CostFrameTranslationFloatingBaseNew(rmodel, rdata, pose_rh_ref_new,rh_frame_id, weight=np.array([1.,1.,1.]))\n",
    "cost_com_bounds_new = CostCOMBoundsNew(rmodel, rdata, com_bounds, 1e-4)\n",
    "bound_cost_new = CostBoundNew(robot_joint_limits, 1e-4)\n",
    "posture_weights = np.ones(34) \n",
    "posture_weights[3:6] *= 10\n",
    "posture_cost_new = CostPostureNew(rmodel, rdata, q0Complete, weights = posture_weights)"
   ]
  },
  {
   "cell_type": "code",
   "execution_count": 43,
   "metadata": {},
   "outputs": [],
   "source": [
    "cost_sum_new = CostSumNew(rmodel, rdata)\n",
    "cost_sum_new2 = CostSumNew(rmodel, rdata)\n",
    "cost_sum_new_ik = CostSumNew(rmodel, rdata)"
   ]
  },
  {
   "cell_type": "code",
   "execution_count": 44,
   "metadata": {},
   "outputs": [],
   "source": [
    "cost_sum_new_ik.addCost(lf_cost_new, 20., 'lf_pose', 1e-4)\n",
    "cost_sum_new_ik.addCost(rf_cost_new, 20.,'rf_pose', 1e-4)\n",
    "cost_sum_new_ik.addCost(cost_com_bounds_new, 20., 'com_limit', 1e-3)\n",
    "cost_sum_new_ik.addCost(bound_cost_new, 20., 'joint_limit', 1e-3)\n",
    "cost_sum_new_ik.addCost(rh_cost_new, 20.,'rh_pose', 1e-3)"
   ]
  },
  {
   "cell_type": "code",
   "execution_count": 45,
   "metadata": {},
   "outputs": [],
   "source": [
    "cost_sum_new.addCost(lf_cost_new, 20., 'lf_pose', 1e-4)\n",
    "cost_sum_new.addCost(rf_cost_new, 20.,'rf_pose', 1e-4)\n",
    "cost_sum_new.addCost(cost_com_bounds_new, 20., 'com_limit', 1e-3)\n",
    "cost_sum_new.addCost(bound_cost_new, 20., 'joint_limit', 1e-3)"
   ]
  },
  {
   "cell_type": "code",
   "execution_count": 46,
   "metadata": {},
   "outputs": [],
   "source": [
    "cost_sum_new2.addCost(posture_cost_new, 1. , 'posture', 1e3)"
   ]
  },
  {
   "cell_type": "code",
   "execution_count": 47,
   "metadata": {},
   "outputs": [],
   "source": [
    "robot_projector = TalosCostProjectorNew(cost_sum_new, rmodel, cost2 = cost_sum_new2, bounds = robot_joint_limits)\n",
    "\n",
    "robot_ik_solver = TalosCostProjectorNew(cost_sum_new_ik, rmodel, cost2 = cost_sum_new2, bounds = robot_joint_limits)"
   ]
  },
  {
   "cell_type": "markdown",
   "metadata": {},
   "source": [
    "#### Using GAN sampler"
   ]
  },
  {
   "cell_type": "code",
   "execution_count": 48,
   "metadata": {},
   "outputs": [],
   "source": [
    "class GANSampler():\n",
    "    def __init__(self, target_sampler):\n",
    "        self.target_sampler = target_sampler\n",
    "    \n",
    "    def sample(self,N = 1, _poses = None, var = 1., idx_input = None):\n",
    "        if _poses is None:\n",
    "            _poses = self.target_sampler.sample(N)\n",
    "        self.poses = _poses\n",
    "        _foot_poses = np.tile(np.concatenate([pose_rf_ref[:3], pose_lf_ref[:3]]), (N,1))\n",
    "        _targets = np.hstack([_poses, _foot_poses])\n",
    "        feed_dict={batch_size: N*N_net, batch_target: _targets, eps_var:var}\n",
    "        feed_dict[batch_foot_ori] = _batch_foot_ori\n",
    "\n",
    "        _samples_q = sess.run([samples_q],feed_dict)\n",
    "        _samples_q = _samples_q[0]\n",
    "        qnew = []\n",
    "        for i in range(N):\n",
    "            #samples from N_net networks\n",
    "            if idx_input is None:\n",
    "                idx = np.random.randint(N_net)\n",
    "            else:\n",
    "                idx = idx_input\n",
    "            q = _samples_q[idx*N + i]\n",
    "            qnew += [get_pb_config(q)]\n",
    "        return np.array(qnew)"
   ]
  },
  {
   "cell_type": "code",
   "execution_count": 49,
   "metadata": {},
   "outputs": [],
   "source": [
    "#define standard sampler\n",
    "base_sampler = sampler(com_bounds.copy())\n",
    "joint_sampler = sampler(robot_joint_limits[:,7:])\n",
    "rob_sampler = talos_sampler(base_sampler, np.array([0,0,0,1]), joint_sampler, q0Complete)\n",
    "\n",
    "#define GAN sampler\n",
    "target_bounds = np.array([[-0.6, -.6, 0.3], [0.8, .6, 1.4]])\n",
    "#target_bounds = np.array([[0.2, -.6, 0.3], [0.8, .6, 1.4]])\n",
    "target_sampler = sampler( target_bounds)\n",
    "gan_sampler = GANSampler(target_sampler)"
   ]
  },
  {
   "cell_type": "markdown",
   "metadata": {},
   "source": [
    "#### Try GAN sampler\n"
   ]
  },
  {
   "cell_type": "code",
   "execution_count": 50,
   "metadata": {},
   "outputs": [],
   "source": [
    "#q = gan_sampler.sample(_poses = np.array([[-0.2, -0.3, 1.]]))[0]\n",
    "q = gan_sampler.sample()[0]\n",
    "set_q_std(q)"
   ]
  },
  {
   "cell_type": "markdown",
   "metadata": {},
   "source": [
    "#### Compare the projector"
   ]
  },
  {
   "cell_type": "code",
   "execution_count": 77,
   "metadata": {},
   "outputs": [],
   "source": [
    "robot_projector.mu = 1e-4\n",
    "robot_projector.mu_ext = 1e-6\n",
    "robot_projector.alpha2 = 1."
   ]
  },
  {
   "cell_type": "code",
   "execution_count": 116,
   "metadata": {},
   "outputs": [],
   "source": [
    "robot_projector.alpha_fac = 0.2"
   ]
  },
  {
   "cell_type": "code",
   "execution_count": 117,
   "metadata": {
    "scrolled": true
   },
   "outputs": [],
   "source": [
    "methods = [rob_sampler, gan_sampler]\n",
    "method_names = ['Random', 'GAN']\n",
    "# methods = [gan_sampler]\n",
    "# method_names = [ 'GAN']\n",
    "samples = gan_sampler.sample(5000)\n",
    "\n",
    "N = 500\n",
    "\n",
    "data = dict()\n",
    "for m in range(len(methods)):\n",
    "    comp_times = []\n",
    "    success = []\n",
    "    fevals = []\n",
    "    qs = []\n",
    "    for i in range(N):\n",
    "        #idx = np.random.randint(500)\n",
    "        idx = i\n",
    "        if method_names[m] == 'GAN':\n",
    "            q = samples[idx]\n",
    "        else:\n",
    "            q = rob_sampler.sample().flatten()\n",
    "        tic = time.time()\n",
    "        res = robot_projector.project(q)\n",
    "        toc = time.time()\n",
    "        comp_times += [toc-tic]\n",
    "        success += [res['stat']]\n",
    "        fevals += [res['nfev']]\n",
    "        qs += [res['q']]\n",
    "#         if res['stat'] is False:\n",
    "#             print('fail')\n",
    "#             break\n",
    "    data[method_names[m]] = [comp_times, success, fevals, qs]"
   ]
  },
  {
   "cell_type": "code",
   "execution_count": 118,
   "metadata": {},
   "outputs": [
    {
     "name": "stdout",
     "output_type": "stream",
     "text": [
      "& Random & 83.2 &  22.0 $\\pm$ 24.8 &  11.9 $\\pm$ 10.3 &  9.6 $\\pm$ 7.6\\\\ \n",
      "& GAN & 100.0 &  2.3 $\\pm$ 1.3 &  2.3 $\\pm$ 1.3 &  2.1 $\\pm$ 1.0\\\\ \n"
     ]
    }
   ],
   "source": [
    "for m in range(len(methods[:2])):\n",
    "    print('& ' + method_names[m], end=' ')\n",
    "    comp_times, success, fevals, qs = data[method_names[m]]\n",
    "    comp_times = np.array(comp_times)\n",
    "    fevals = np.array(fevals)\n",
    "\n",
    "    print('& {0:.1f} &  {1:.1f} $\\pm$ {2:.1f} &  {3:.1f} $\\pm$ {4:.1f} &  {5:.1f} $\\pm$ {6:.1f}'.format(np.sum(success)*100./N, np.mean(comp_times)*1000, np.std(comp_times)*1000, np.mean(comp_times[success])*1000, np.std(comp_times[success])*1000,np.mean(fevals[success]), np.std(fevals[success])), end = ''),\n",
    "    print('\\\\\\\\ ')"
   ]
  },
  {
   "cell_type": "markdown",
   "metadata": {},
   "source": [
    "### Compare the IK solver"
   ]
  },
  {
   "cell_type": "code",
   "execution_count": 92,
   "metadata": {},
   "outputs": [],
   "source": [
    "ik_target_bounds = np.array([[0.3, -.4, 0.6], [0.8, .4, 1.1]])\n",
    "#target_bounds = np.array([[0.2, -.6, 0.3], [0.8, .6, 1.4]])\n",
    "ik_target_sampler = sampler( ik_target_bounds)"
   ]
  },
  {
   "cell_type": "code",
   "execution_count": 112,
   "metadata": {},
   "outputs": [],
   "source": [
    "robot_ik_solver.mu = 1e-4\n",
    "robot_ik_solver.mu_ext = 1e-6\n",
    "robot_ik_solver.alpha2 = 1\n",
    "robot_ik_solver.alpha_fac = 0.2"
   ]
  },
  {
   "cell_type": "code",
   "execution_count": 113,
   "metadata": {},
   "outputs": [],
   "source": [
    "#targets = data_target[:2000,:3]\n",
    "targets = ik_target_sampler.sample(2000)\n",
    "samples = gan_sampler.sample(N=2000, _poses=targets, var = 0.1)"
   ]
  },
  {
   "cell_type": "code",
   "execution_count": 114,
   "metadata": {
    "scrolled": true
   },
   "outputs": [],
   "source": [
    "methods = [rob_sampler, gan_sampler]\n",
    "method_names = ['Random', 'GAN']\n",
    "# methods = [rob_sampler]\n",
    "# method_names = [ 'Random']\n",
    "# methods = [gan_sampler]\n",
    "# method_names = [ 'GAN']\n",
    "\n",
    "N = 500\n",
    "data = dict()\n",
    "for m in range(len(methods)):\n",
    "    comp_times = []\n",
    "    success = []\n",
    "    fevals = []\n",
    "    for i in range(N):\n",
    "        idx = i\n",
    "        if method_names[m] == 'GAN':\n",
    "            q = samples[idx]\n",
    "        else:\n",
    "            q = rob_sampler.sample().flatten()\n",
    "        tic = time.time()\n",
    "        robot_ik_solver.cost.costs['rh_pose'].cost.desired_pose[:3] = targets[i]\n",
    "        res = robot_ik_solver.project(q)\n",
    "        toc = time.time()\n",
    "        comp_times += [toc-tic]\n",
    "        success += [res['stat']]\n",
    "        fevals += [res['nfev']]\n",
    "        data[method_names[m]] = [comp_times, success, fevals]\n",
    "clear_output()"
   ]
  },
  {
   "cell_type": "code",
   "execution_count": 115,
   "metadata": {},
   "outputs": [
    {
     "name": "stdout",
     "output_type": "stream",
     "text": [
      "& Random & 82.0 &  28.3 $\\pm$ 29.5 &  16.0 $\\pm$ 13.3 &  11.3 $\\pm$ 8.6\\\\ \n",
      "& GAN & 100.0 &  2.8 $\\pm$ 0.7 &  2.8 $\\pm$ 0.7 &  2.5 $\\pm$ 0.6\\\\ \n"
     ]
    }
   ],
   "source": [
    "for m in range(len(methods[:2])):\n",
    "    print('& ' + method_names[m], end=' ')\n",
    "    comp_times, success, fevals = data[method_names[m]]\n",
    "    comp_times = np.array(comp_times)\n",
    "    fevals = np.array(fevals)\n",
    "\n",
    "    print('& {0:.1f} &  {1:.1f} $\\pm$ {2:.1f} &  {3:.1f} $\\pm$ {4:.1f} &  {5:.1f} $\\pm$ {6:.1f}'.format(np.sum(success)*100./N, np.mean(comp_times)*1000, np.std(comp_times)*1000, np.mean(comp_times[success])*1000, np.std(comp_times[success])*1000,np.mean(fevals[success]), np.std(fevals[success])), end = ''),\n",
    "    print('\\\\\\\\ ')"
   ]
  },
  {
   "cell_type": "code",
   "execution_count": 58,
   "metadata": {},
   "outputs": [
    {
     "name": "stdout",
     "output_type": "stream",
     "text": [
      "& Random & 81.8 &  40.3 $\\pm$ 42.7 &  22.5 $\\pm$ 15.8 &  13.5 $\\pm$ 7.9\\\\ \n",
      "& GAN & 100.0 &  3.0 $\\pm$ 1.2 &  3.0 $\\pm$ 1.2 &  2.4 $\\pm$ 0.7\\\\ \n"
     ]
    }
   ],
   "source": [
    "for m in range(len(methods[:2])):\n",
    "    print('& ' + method_names[m], end=' ')\n",
    "    comp_times, success, fevals = data[method_names[m]]\n",
    "    comp_times = np.array(comp_times)\n",
    "    fevals = np.array(fevals)\n",
    "\n",
    "    print('& {0:.1f} &  {1:.1f} $\\pm$ {2:.1f} &  {3:.1f} $\\pm$ {4:.1f} &  {5:.1f} $\\pm$ {6:.1f}'.format(np.sum(success)*100./N, np.mean(comp_times)*1000, np.std(comp_times)*1000, np.mean(comp_times[success])*1000, np.std(comp_times[success])*1000,np.mean(fevals[success]), np.std(fevals[success])), end = ''),\n",
    "    print('\\\\\\\\ ')"
   ]
  },
  {
   "cell_type": "markdown",
   "metadata": {},
   "source": [
    "***"
   ]
  },
  {
   "cell_type": "markdown",
   "metadata": {},
   "source": [
    "## c-RRT with Talos"
   ]
  },
  {
   "cell_type": "code",
   "execution_count": 70,
   "metadata": {},
   "outputs": [],
   "source": [
    "rob_col_checker = col_checker(robot_id, pb_joint_indices, col_ids, omit_indices=[ 50, 57], floating_base = True) #omit the collision of the plane with the feet\n",
    "rob_interpolator = interpolator()"
   ]
  },
  {
   "cell_type": "code",
   "execution_count": 71,
   "metadata": {},
   "outputs": [],
   "source": [
    "rrt = cRRT(rmodel.nq, rob_sampler, rob_col_checker, rob_interpolator, robot_projector)\n",
    "\n",
    "ganrrt = cRRT(rmodel.nq, gan_sampler, rob_col_checker, rob_interpolator, robot_projector)\n",
    "\n",
    "hybrid_sampler = HybridSampler(rob_sampler, gan_sampler, p_random=0.2)\n",
    "hybridrrt = cRRT(rmodel.nq, hybrid_sampler, rob_col_checker, rob_interpolator, robot_projector)"
   ]
  },
  {
   "cell_type": "code",
   "execution_count": 72,
   "metadata": {},
   "outputs": [],
   "source": [
    "rrt_old = cRRT(rmodel.nq, rob_sampler, rob_col_checker, rob_interpolator, robot_projector_old)\n",
    "\n",
    "ganrrt_old = cRRT(rmodel.nq, gan_sampler, rob_col_checker, rob_interpolator, robot_projector_old)\n",
    "\n",
    "# hybrid_sampler = HybridSampler(rob_sampler, gan_sampler, p_random=0.2)\n",
    "# hybridrrt = cRRT(rmodel.nq, hybrid_sampler, rob_col_checker, rob_interpolator, robot_projector)"
   ]
  },
  {
   "cell_type": "markdown",
   "metadata": {},
   "source": [
    "#### Get initial state"
   ]
  },
  {
   "cell_type": "code",
   "execution_count": 73,
   "metadata": {},
   "outputs": [],
   "source": [
    "if task == 1:\n",
    "    #Task 1\n",
    "    init_bounds = np.array([[0.55, -0.25, 1.1], [0.85, 0.25, 1.3]])\n",
    "    goal_bounds = np.array([[0.55, -0.25, .4], [0.85, 0.25, .8]])\n",
    "elif task == 2:\n",
    "    init_bounds = np.array([[0.3, -0.25, 1.], [0.7, 0.25, 1.3]])\n",
    "    goal_bounds = np.array([[0.3, -0.25, .4], [0.7, 0.25, .8]])\n",
    "elif task == 3:\n",
    "    init_bounds = np.array([[0.55, -0.2, .8], [0.7, 0.2, 1.1]])\n",
    "    goal_bounds = np.array([[0.55, -0.2, .4], [0.7, 0.2, .6]])\n",
    "init_sampler = sampler(init_bounds)\n",
    "goal_sampler = sampler(goal_bounds)"
   ]
  },
  {
   "cell_type": "markdown",
   "metadata": {},
   "source": [
    "#### Try sampling the tasks"
   ]
  },
  {
   "cell_type": "raw",
   "metadata": {},
   "source": [
    "_, _, ball_id = create_primitives(radius = 0.05)"
   ]
  },
  {
   "cell_type": "raw",
   "metadata": {},
   "source": [
    "goal_pos = init_sampler.sample()[0]\n",
    "p.resetBasePositionAndOrientation(ball_id, goal_pos, (0,0,0,1))"
   ]
  },
  {
   "cell_type": "markdown",
   "metadata": {},
   "source": [
    "#### Sample initial and goal configurations"
   ]
  },
  {
   "cell_type": "code",
   "execution_count": 74,
   "metadata": {},
   "outputs": [],
   "source": [
    "def get_valid_config(pos_sampler, goal_pose = None, max_try = 50):\n",
    "    is_collide = True\n",
    "    status = False\n",
    "    i = 0\n",
    "    while is_collide or status is False and i < max_try:\n",
    "        i+=1\n",
    "        if goal_pose is None: \n",
    "            goal_pos = pos_sampler.sample()\n",
    "        else:\n",
    "            goal_pos = goal_pose.copy()\n",
    "        #goal_pos = np.array([0.6, -0.1, .9])[None,:]\n",
    "        #sample = gan_sampler.sample(_poses=goal_pos, var=1.)[0]\n",
    "        sample = rob_sampler.sample()[0]\n",
    "        set_q_std(sample)\n",
    "        rh_cost_new.desired_pose[:3] = goal_pos[0]\n",
    "        rh_cost.desired_pose[:3] = goal_pos[0]\n",
    "        res = robot_ik_solver.project(sample.flatten())\n",
    "        start_state = res['q']\n",
    "        status = res['stat']\n",
    "        is_collide = rob_col_checker.check_collision(start_state.flatten())\n",
    "            \n",
    "            \n",
    "    set_q_std(start_state)\n",
    "    clear_output()\n",
    "    return start_state, goal_pos\n",
    "\n",
    "def get_multiple_configs(pos_sampler, N = 1, R = 1):\n",
    "    samples_set = []\n",
    "    for i in range(N):\n",
    "        print(i)\n",
    "        sample, goal_pos = get_valid_config(pos_sampler)\n",
    "        samples = [sample]\n",
    "        for j in range(R-1):\n",
    "            sample, goal_pos = get_valid_config(pos_sampler, goal_pos)\n",
    "            samples += [sample]\n",
    "        samples_set += [samples]\n",
    "    clear_output()\n",
    "    return samples_set"
   ]
  },
  {
   "cell_type": "raw",
   "metadata": {},
   "source": [
    "cost_com_bounds_new.margin = 1e-3\n",
    "\n",
    "bound_cost_new.margin = 1e-3"
   ]
  },
  {
   "cell_type": "code",
   "execution_count": 75,
   "metadata": {},
   "outputs": [],
   "source": [
    "init_configs = get_multiple_configs(init_sampler, N = N)\n"
   ]
  },
  {
   "cell_type": "code",
   "execution_count": 76,
   "metadata": {
    "scrolled": true
   },
   "outputs": [
    {
     "data": {
      "text/plain": [
       "'\\nfor qs in init_configs:\\n    for q in qs:\\n        set_q_std(q)\\n        input()\\nclear_output()\\n\\nfor qs in goal_configs:\\n    for q in qs:\\n        set_q_std(q)\\n        input()\\nclear_output()\\n'"
      ]
     },
     "execution_count": 76,
     "metadata": {},
     "output_type": "execute_result"
    }
   ],
   "source": [
    "is_generate_data = True\n",
    "N = 50 #number of initial configurations\n",
    "N_goal = 10\n",
    "K = 10 #number of goal configurations per task\n",
    "\n",
    "if is_generate_data:\n",
    "    init_configs = get_multiple_configs(init_sampler, N = N)\n",
    "    goal_configs = get_multiple_configs(goal_sampler, N = N_goal, R = K)\n",
    "\n",
    "    data_configs = dict()\n",
    "    data_configs['init'] = init_configs\n",
    "    data_configs['goal'] = goal_configs\n",
    "    np.save('data/task1' + str(task) + '_configs.npy', data_configs)\n",
    "else:\n",
    "    data_configs = np.load('data/task1' + str(task) + '_configs.npy', allow_pickle=True).tolist()\n",
    "    init_configs = data_configs['init']\n",
    "    goal_configs = data_configs['goal']\n",
    "\n",
    "'''\n",
    "for qs in init_configs:\n",
    "    for q in qs:\n",
    "        set_q_std(q)\n",
    "        input()\n",
    "clear_output()\n",
    "\n",
    "for qs in goal_configs:\n",
    "    for q in qs:\n",
    "        set_q_std(q)\n",
    "        input()\n",
    "clear_output()\n",
    "'''\n"
   ]
  },
  {
   "cell_type": "raw",
   "metadata": {},
   "source": [
    "for qs in goal_configs:\n",
    "    for q in qs[0:2]:\n",
    "        set_q_std(q)\n",
    "        input()\n",
    "        res = robot_projector.project(q)\n",
    "        set_q_std(res['q'])\n",
    "        print(res['stat'])\n",
    "        input()\n",
    "        clear_output()"
   ]
  },
  {
   "cell_type": "raw",
   "metadata": {},
   "source": [
    "for i,qs in enumerate(init_configs[70:]):\n",
    "    for q in qs[0:2]:\n",
    "        set_q_std(q)\n",
    "        print(i, np.linalg.norm(q[-14:-7]- q0Complete[-14:-7]))\n",
    "        input()\n",
    "        clear_output()"
   ]
  },
  {
   "cell_type": "markdown",
   "metadata": {},
   "source": [
    "## Planning comparison"
   ]
  },
  {
   "cell_type": "code",
   "execution_count": 77,
   "metadata": {},
   "outputs": [],
   "source": [
    "robot_projector.mu = 1e-4"
   ]
  },
  {
   "cell_type": "code",
   "execution_count": 78,
   "metadata": {},
   "outputs": [],
   "source": [
    "robot_projector.alpha2 = 1"
   ]
  },
  {
   "cell_type": "code",
   "execution_count": 79,
   "metadata": {
    "scrolled": true
   },
   "outputs": [],
   "source": [
    "gan_result = dict()\n",
    "std_result = dict()\n",
    "hybrid_result = dict()\n",
    "results = [gan_result, std_result, hybrid_result]\n",
    "for result in results:\n",
    "    result['comp_times'] = []\n",
    "    result['nfevs'] = []\n",
    "    result['retry'] = []\n",
    "    result['nexts'] = []\n",
    "    result['success'] = []\n",
    "    result['path'] = []\n",
    "\n",
    "i=0"
   ]
  },
  {
   "cell_type": "raw",
   "metadata": {},
   "source": [
    "set_q_std(start_state)"
   ]
  },
  {
   "cell_type": "code",
   "execution_count": 80,
   "metadata": {},
   "outputs": [],
   "source": [
    "goal_indices = np.random.randint(N_goal, size = N)"
   ]
  },
  {
   "cell_type": "raw",
   "metadata": {},
   "source": [
    "i = 52\n",
    "qs = init_configs[i]\n",
    "start_state = qs[0]\n",
    "goal_states = goal_configs[goal_indices[i]]\n",
    "path, nfevs, nexts, success, retry, t  = ganrrt.plan(start_state,goal_states, max_extension_steps=500)\n",
    "print(retry, t, nexts)\n",
    "    "
   ]
  },
  {
   "cell_type": "raw",
   "metadata": {},
   "source": [
    "np.argmin(gan_result['success'][50:])"
   ]
  },
  {
   "cell_type": "raw",
   "metadata": {},
   "source": [
    "gan_result['success'][52]"
   ]
  },
  {
   "cell_type": "code",
   "execution_count": 81,
   "metadata": {
    "scrolled": true
   },
   "outputs": [],
   "source": [
    "for i,qs in enumerate(init_configs[:]):\n",
    "    start_state = qs[0]\n",
    "    goal_states = goal_configs[goal_indices[i]]\n",
    "\n",
    "    print('Plan RRT')\n",
    "    print(i, np.mean(std_result['comp_times']), np.mean(gan_result['comp_times']), np.mean(hybrid_result['comp_times']))\n",
    "    print(i, np.sum(std_result['success']), np.sum(gan_result['success']), np.sum(hybrid_result['success']))      \n",
    "\n",
    "#         #plan using crrt\n",
    "#     path, nfevs, nexts, success, retry, t  = rrt.plan(start_state,goal_states, max_extension_steps=500)\n",
    "#     clear_output()\n",
    "#     std_result['comp_times'] += [t]\n",
    "#     std_result['nfevs'] += [nfevs]\n",
    "#     std_result['retry'] += [retry]\n",
    "#     std_result['nexts'] += [nexts]\n",
    "#     std_result['success'] += [success]\n",
    "#     std_result['path'] += [path]\n",
    "\n",
    "    print('Plan GAN RRT')\n",
    "    print(i, np.mean(std_result['comp_times']), np.mean(gan_result['comp_times']), np.mean(hybrid_result['comp_times']))\n",
    "    print(i, np.sum(std_result['success']), np.sum(gan_result['success']), np.sum(hybrid_result['success']))      \n",
    "\n",
    "#         #plan using ganrrt\n",
    "    path, nfevs, nexts, success, retry, t  = ganrrt.plan(start_state,goal_states, max_extension_steps=500, n_retry=5)\n",
    "    clear_output()\n",
    "    gan_result['comp_times'] += [t]\n",
    "    gan_result['nfevs'] += [nfevs]\n",
    "    gan_result['retry'] += [retry]\n",
    "    gan_result['nexts'] += [nexts]\n",
    "    gan_result['success'] += [success]\n",
    "    gan_result['path'] += [path]\n",
    "\n",
    "    print('Plan Hybrid RRT')\n",
    "    print(i, np.mean(std_result['comp_times']), np.mean(gan_result['comp_times']), np.mean(hybrid_result['comp_times']))\n",
    "    print(i, np.sum(std_result['success']), np.sum(gan_result['success']), np.sum(hybrid_result['success']))      \n",
    "#         #plan using hybridrrt\n",
    "    path, nfevs, nexts, success, retry, t  = hybridrrt.plan(start_state,goal_states, max_extension_steps=500)\n",
    "    clear_output()\n",
    "    hybrid_result['comp_times'] += [t]\n",
    "    hybrid_result['nfevs'] += [nfevs]\n",
    "    hybrid_result['retry'] += [retry]\n",
    "    hybrid_result['nexts'] += [nexts]\n",
    "    hybrid_result['success'] += [success]\n",
    "    hybrid_result['path'] += [path]\n",
    "\n",
    "    if i % 20 == 0:\n",
    "        data = dict()\n",
    "        data['random'] = std_result\n",
    "        data['gan'] = gan_result\n",
    "        data['hybrid'] = hybrid_result\n",
    "        np.save('data/task3_temp.npy', data)"
   ]
  },
  {
   "cell_type": "code",
   "execution_count": 82,
   "metadata": {},
   "outputs": [
    {
     "name": "stdout",
     "output_type": "stream",
     "text": [
      "& Random & nan & nan $\\pm$ nan & nan $\\pm$ nan & nan $\\pm$ nan \\\\\n",
      "& GAN & 100.0 & 0.98 $\\pm$ 0.61 & 184.7 $\\pm$ 138.7 & 34.7 $\\pm$ 37.8 \\\\\n",
      "& Hybrid & 100.0 & 1.27 $\\pm$ 0.87 & 223.8 $\\pm$ 169.1 & 29.2 $\\pm$ 27.7 \\\\\n"
     ]
    },
    {
     "name": "stderr",
     "output_type": "stream",
     "text": [
      "<ipython-input-82-45d91c711ad4>:1: RuntimeWarning: invalid value encountered in double_scalars\n",
      "  print('& Random & {0:.1f} & {1:.2f} $\\pm$ {2:.2f} & {3:.1f} $\\pm$ {4:.1f} & {5:.1f} $\\pm$ {6:.1f} \\\\\\\\'.format(np.sum(std_result['success'])*100./len(std_result['success']), np.mean(std_result['comp_times']), np.std(std_result['comp_times']), np.mean(std_result['nfevs']), np.std(std_result['nfevs']), np.mean(std_result['nexts']), np.std(std_result['nexts'])))\n",
      "/home/teguh/miniconda3/envs/tf3/lib/python3.8/site-packages/numpy/core/_methods.py:216: RuntimeWarning: Degrees of freedom <= 0 for slice\n",
      "  ret = _var(a, axis=axis, dtype=dtype, out=out, ddof=ddof,\n",
      "/home/teguh/miniconda3/envs/tf3/lib/python3.8/site-packages/numpy/core/_methods.py:185: RuntimeWarning: invalid value encountered in true_divide\n",
      "  arrmean = um.true_divide(\n",
      "/home/teguh/miniconda3/envs/tf3/lib/python3.8/site-packages/numpy/core/_methods.py:209: RuntimeWarning: invalid value encountered in double_scalars\n",
      "  ret = ret.dtype.type(ret / rcount)\n"
     ]
    }
   ],
   "source": [
    "print('& Random & {0:.1f} & {1:.2f} $\\pm$ {2:.2f} & {3:.1f} $\\pm$ {4:.1f} & {5:.1f} $\\pm$ {6:.1f} \\\\\\\\'.format(np.sum(std_result['success'])*100./len(std_result['success']), np.mean(std_result['comp_times']), np.std(std_result['comp_times']), np.mean(std_result['nfevs']), np.std(std_result['nfevs']), np.mean(std_result['nexts']), np.std(std_result['nexts'])))\n",
    "\n",
    "print('& GAN & {0:.1f} & {1:.2f} $\\pm$ {2:.2f} & {3:.1f} $\\pm$ {4:.1f} & {5:.1f} $\\pm$ {6:.1f} \\\\\\\\'.format(np.sum(gan_result['success'])*100./len(gan_result['success']), np.mean(gan_result['comp_times']), np.std(gan_result['comp_times']), np.mean(gan_result['nfevs']), np.std(gan_result['nfevs']), np.mean(gan_result['nexts']), np.std(gan_result['nexts'])))\n",
    "\n",
    "print('& Hybrid & {0:.1f} & {1:.2f} $\\pm$ {2:.2f} & {3:.1f} $\\pm$ {4:.1f} & {5:.1f} $\\pm$ {6:.1f} \\\\\\\\'.format(np.sum(hybrid_result['success'])*100./len(hybrid_result['success']), np.mean(hybrid_result['comp_times']), np.std(hybrid_result['comp_times']), np.mean(hybrid_result['nfevs']), np.std(hybrid_result['nfevs']), np.mean(hybrid_result['nexts']), np.std(hybrid_result['nexts'])))"
   ]
  },
  {
   "cell_type": "code",
   "execution_count": 86,
   "metadata": {},
   "outputs": [
    {
     "name": "stdout",
     "output_type": "stream",
     "text": [
      "& Random & nan & nan $\\pm$ nan & nan $\\pm$ nan & nan $\\pm$ nan \\\\\n",
      "& GAN & 100.0 & 0.78 $\\pm$ 0.58 & 145.7 $\\pm$ 116.5 & 23.9 $\\pm$ 27.1 \\\\\n",
      "& Hybrid & 100.0 & 1.20 $\\pm$ 0.90 & 217.9 $\\pm$ 170.9 & 28.8 $\\pm$ 25.9 \\\\\n"
     ]
    },
    {
     "name": "stderr",
     "output_type": "stream",
     "text": [
      "<ipython-input-86-45d91c711ad4>:1: RuntimeWarning: invalid value encountered in double_scalars\n",
      "  print('& Random & {0:.1f} & {1:.2f} $\\pm$ {2:.2f} & {3:.1f} $\\pm$ {4:.1f} & {5:.1f} $\\pm$ {6:.1f} \\\\\\\\'.format(np.sum(std_result['success'])*100./len(std_result['success']), np.mean(std_result['comp_times']), np.std(std_result['comp_times']), np.mean(std_result['nfevs']), np.std(std_result['nfevs']), np.mean(std_result['nexts']), np.std(std_result['nexts'])))\n"
     ]
    }
   ],
   "source": [
    "print('& Random & {0:.1f} & {1:.2f} $\\pm$ {2:.2f} & {3:.1f} $\\pm$ {4:.1f} & {5:.1f} $\\pm$ {6:.1f} \\\\\\\\'.format(np.sum(std_result['success'])*100./len(std_result['success']), np.mean(std_result['comp_times']), np.std(std_result['comp_times']), np.mean(std_result['nfevs']), np.std(std_result['nfevs']), np.mean(std_result['nexts']), np.std(std_result['nexts'])))\n",
    "\n",
    "print('& GAN & {0:.1f} & {1:.2f} $\\pm$ {2:.2f} & {3:.1f} $\\pm$ {4:.1f} & {5:.1f} $\\pm$ {6:.1f} \\\\\\\\'.format(np.sum(gan_result['success'])*100./len(gan_result['success']), np.mean(gan_result['comp_times']), np.std(gan_result['comp_times']), np.mean(gan_result['nfevs']), np.std(gan_result['nfevs']), np.mean(gan_result['nexts']), np.std(gan_result['nexts'])))\n",
    "\n",
    "print('& Hybrid & {0:.1f} & {1:.2f} $\\pm$ {2:.2f} & {3:.1f} $\\pm$ {4:.1f} & {5:.1f} $\\pm$ {6:.1f} \\\\\\\\'.format(np.sum(hybrid_result['success'])*100./len(hybrid_result['success']), np.mean(hybrid_result['comp_times']), np.std(hybrid_result['comp_times']), np.mean(hybrid_result['nfevs']), np.std(hybrid_result['nfevs']), np.mean(hybrid_result['nexts']), np.std(hybrid_result['nexts'])))"
   ]
  },
  {
   "cell_type": "markdown",
   "metadata": {},
   "source": [
    "#### Pseudoinverse using SVD"
   ]
  },
  {
   "cell_type": "code",
   "execution_count": 222,
   "metadata": {},
   "outputs": [],
   "source": [
    "q = rob_sampler.sample()[0]\n",
    "\n",
    "J = cost_sum_new.calcDiff(q)\n"
   ]
  },
  {
   "cell_type": "code",
   "execution_count": 195,
   "metadata": {},
   "outputs": [
    {
     "data": {
      "text/plain": [
       "True"
      ]
     },
     "execution_count": 195,
     "metadata": {},
     "output_type": "execute_result"
    }
   ],
   "source": [
    "#%%timeit -n 100 -r 100 \n",
    "u, s, vt = np.linalg.svd(J)\n",
    "S = np.zeros((49, 34))\n",
    "S[:34] = np.diag(s)\n",
    "M = u.dot(S).dot(vt)\n",
    "\n",
    "np.allclose(M, J)"
   ]
  },
  {
   "cell_type": "code",
   "execution_count": 223,
   "metadata": {},
   "outputs": [
    {
     "data": {
      "text/plain": [
       "True"
      ]
     },
     "execution_count": 223,
     "metadata": {},
     "output_type": "execute_result"
    }
   ],
   "source": [
    "M_inv = pinv(J, 1e-6)\n",
    "\n",
    "J_pinv = np.linalg.pinv(J)\n",
    "\n",
    "np.allclose(M_inv, J_pinv)"
   ]
  },
  {
   "cell_type": "code",
   "execution_count": 214,
   "metadata": {},
   "outputs": [],
   "source": [
    "zeros = np.zeros((J.T.shape))"
   ]
  },
  {
   "cell_type": "code",
   "execution_count": 215,
   "metadata": {},
   "outputs": [],
   "source": [
    "def pinv(J, thres):\n",
    "    u, s, vt = np.linalg.svd(J)\n",
    "    idx = np.argmin(s > thres)\n",
    "    #S_inv = np.zeros(J.T.shape)\n",
    "    S_inv = zeros.copy()\n",
    "    S_inv[:idx, :idx] = np.diag(1/s[:idx])\n",
    "    J_inv = vt.T.dot(S_inv).dot(u.T)\n",
    "    return J_inv"
   ]
  },
  {
   "cell_type": "code",
   "execution_count": 198,
   "metadata": {},
   "outputs": [
    {
     "name": "stdout",
     "output_type": "stream",
     "text": [
      "304 µs ± 5.08 µs per loop (mean ± std. dev. of 100 runs, 100 loops each)\n"
     ]
    }
   ],
   "source": [
    "%%timeit -n 100 -r 100 \n",
    "u, s, vt = np.linalg.svd(J)\n",
    "a = s > 1e-5\n",
    "idx = np.argmin(a)\n",
    "S_inv = np.zeros((34, 49))\n",
    "S_inv[:idx, :idx] = np.diag(1/s[:idx])\n",
    "M_inv = vt.T.dot(S_inv).dot(u.T)"
   ]
  },
  {
   "cell_type": "markdown",
   "metadata": {},
   "source": [
    "***"
   ]
  },
  {
   "cell_type": "code",
   "execution_count": 160,
   "metadata": {},
   "outputs": [
    {
     "name": "stdout",
     "output_type": "stream",
     "text": [
      "& Random & nan & nan $\\pm$ nan & nan $\\pm$ nan & nan $\\pm$ nan \\\\\n",
      "& GAN & 100.0 & 0.78 $\\pm$ 0.58 & 145.7 $\\pm$ 116.5 & 23.9 $\\pm$ 27.1 \\\\\n",
      "& Hybrid & 100.0 & 1.20 $\\pm$ 0.90 & 217.9 $\\pm$ 170.9 & 28.8 $\\pm$ 25.9 \\\\\n"
     ]
    },
    {
     "name": "stderr",
     "output_type": "stream",
     "text": [
      "<ipython-input-160-45d91c711ad4>:1: RuntimeWarning: invalid value encountered in double_scalars\n",
      "  print('& Random & {0:.1f} & {1:.2f} $\\pm$ {2:.2f} & {3:.1f} $\\pm$ {4:.1f} & {5:.1f} $\\pm$ {6:.1f} \\\\\\\\'.format(np.sum(std_result['success'])*100./len(std_result['success']), np.mean(std_result['comp_times']), np.std(std_result['comp_times']), np.mean(std_result['nfevs']), np.std(std_result['nfevs']), np.mean(std_result['nexts']), np.std(std_result['nexts'])))\n"
     ]
    }
   ],
   "source": [
    "print('& Random & {0:.1f} & {1:.2f} $\\pm$ {2:.2f} & {3:.1f} $\\pm$ {4:.1f} & {5:.1f} $\\pm$ {6:.1f} \\\\\\\\'.format(np.sum(std_result['success'])*100./len(std_result['success']), np.mean(std_result['comp_times']), np.std(std_result['comp_times']), np.mean(std_result['nfevs']), np.std(std_result['nfevs']), np.mean(std_result['nexts']), np.std(std_result['nexts'])))\n",
    "\n",
    "print('& GAN & {0:.1f} & {1:.2f} $\\pm$ {2:.2f} & {3:.1f} $\\pm$ {4:.1f} & {5:.1f} $\\pm$ {6:.1f} \\\\\\\\'.format(np.sum(gan_result['success'])*100./len(gan_result['success']), np.mean(gan_result['comp_times']), np.std(gan_result['comp_times']), np.mean(gan_result['nfevs']), np.std(gan_result['nfevs']), np.mean(gan_result['nexts']), np.std(gan_result['nexts'])))\n",
    "\n",
    "print('& Hybrid & {0:.1f} & {1:.2f} $\\pm$ {2:.2f} & {3:.1f} $\\pm$ {4:.1f} & {5:.1f} $\\pm$ {6:.1f} \\\\\\\\'.format(np.sum(hybrid_result['success'])*100./len(hybrid_result['success']), np.mean(hybrid_result['comp_times']), np.std(hybrid_result['comp_times']), np.mean(hybrid_result['nfevs']), np.std(hybrid_result['nfevs']), np.mean(hybrid_result['nexts']), np.std(hybrid_result['nexts'])))"
   ]
  },
  {
   "cell_type": "code",
   "execution_count": 426,
   "metadata": {},
   "outputs": [
    {
     "name": "stdout",
     "output_type": "stream",
     "text": [
      "& Random & nan & nan $\\pm$ nan & nan $\\pm$ nan & nan $\\pm$ nan \\\\\n",
      "& GAN & 100.0 & 0.83 $\\pm$ 0.67 & 158.2 $\\pm$ 150.8 & 31.3 $\\pm$ 42.8 \\\\\n",
      "& Hybrid & nan & nan $\\pm$ nan & nan $\\pm$ nan & nan $\\pm$ nan \\\\\n"
     ]
    },
    {
     "name": "stderr",
     "output_type": "stream",
     "text": [
      "<ipython-input-426-45d91c711ad4>:1: RuntimeWarning: invalid value encountered in double_scalars\n",
      "  print('& Random & {0:.1f} & {1:.2f} $\\pm$ {2:.2f} & {3:.1f} $\\pm$ {4:.1f} & {5:.1f} $\\pm$ {6:.1f} \\\\\\\\'.format(np.sum(std_result['success'])*100./len(std_result['success']), np.mean(std_result['comp_times']), np.std(std_result['comp_times']), np.mean(std_result['nfevs']), np.std(std_result['nfevs']), np.mean(std_result['nexts']), np.std(std_result['nexts'])))\n",
      "<ipython-input-426-45d91c711ad4>:5: RuntimeWarning: invalid value encountered in double_scalars\n",
      "  print('& Hybrid & {0:.1f} & {1:.2f} $\\pm$ {2:.2f} & {3:.1f} $\\pm$ {4:.1f} & {5:.1f} $\\pm$ {6:.1f} \\\\\\\\'.format(np.sum(hybrid_result['success'])*100./len(hybrid_result['success']), np.mean(hybrid_result['comp_times']), np.std(hybrid_result['comp_times']), np.mean(hybrid_result['nfevs']), np.std(hybrid_result['nfevs']), np.mean(hybrid_result['nexts']), np.std(hybrid_result['nexts'])))\n"
     ]
    }
   ],
   "source": [
    "print('& Random & {0:.1f} & {1:.2f} $\\pm$ {2:.2f} & {3:.1f} $\\pm$ {4:.1f} & {5:.1f} $\\pm$ {6:.1f} \\\\\\\\'.format(np.sum(std_result['success'])*100./len(std_result['success']), np.mean(std_result['comp_times']), np.std(std_result['comp_times']), np.mean(std_result['nfevs']), np.std(std_result['nfevs']), np.mean(std_result['nexts']), np.std(std_result['nexts'])))\n",
    "\n",
    "print('& GAN & {0:.1f} & {1:.2f} $\\pm$ {2:.2f} & {3:.1f} $\\pm$ {4:.1f} & {5:.1f} $\\pm$ {6:.1f} \\\\\\\\'.format(np.sum(gan_result['success'])*100./len(gan_result['success']), np.mean(gan_result['comp_times']), np.std(gan_result['comp_times']), np.mean(gan_result['nfevs']), np.std(gan_result['nfevs']), np.mean(gan_result['nexts']), np.std(gan_result['nexts'])))\n",
    "\n",
    "print('& Hybrid & {0:.1f} & {1:.2f} $\\pm$ {2:.2f} & {3:.1f} $\\pm$ {4:.1f} & {5:.1f} $\\pm$ {6:.1f} \\\\\\\\'.format(np.sum(hybrid_result['success'])*100./len(hybrid_result['success']), np.mean(hybrid_result['comp_times']), np.std(hybrid_result['comp_times']), np.mean(hybrid_result['nfevs']), np.std(hybrid_result['nfevs']), np.mean(hybrid_result['nexts']), np.std(hybrid_result['nexts'])))"
   ]
  },
  {
   "cell_type": "code",
   "execution_count": 334,
   "metadata": {},
   "outputs": [
    {
     "name": "stdout",
     "output_type": "stream",
     "text": [
      "& Random & 100.0 & 6.13 $\\pm$ 4.74 & 1098.8 $\\pm$ 881.5 & 72.1 $\\pm$ 59.4 \\\\\n",
      "& GAN & 98.0 & 0.85 $\\pm$ 1.04 & 158.3 $\\pm$ 240.2 & 31.6 $\\pm$ 71.0 \\\\\n",
      "& Hybrid & 100.0 & 1.22 $\\pm$ 1.18 & 227.5 $\\pm$ 229.7 & 32.4 $\\pm$ 41.1 \\\\\n"
     ]
    }
   ],
   "source": [
    "print('& Random & {0:.1f} & {1:.2f} $\\pm$ {2:.2f} & {3:.1f} $\\pm$ {4:.1f} & {5:.1f} $\\pm$ {6:.1f} \\\\\\\\'.format(np.sum(std_result['success'])*100./len(std_result['success']), np.mean(std_result['comp_times']), np.std(std_result['comp_times']), np.mean(std_result['nfevs']), np.std(std_result['nfevs']), np.mean(std_result['nexts']), np.std(std_result['nexts'])))\n",
    "\n",
    "print('& GAN & {0:.1f} & {1:.2f} $\\pm$ {2:.2f} & {3:.1f} $\\pm$ {4:.1f} & {5:.1f} $\\pm$ {6:.1f} \\\\\\\\'.format(np.sum(gan_result['success'])*100./len(gan_result['success']), np.mean(gan_result['comp_times']), np.std(gan_result['comp_times']), np.mean(gan_result['nfevs']), np.std(gan_result['nfevs']), np.mean(gan_result['nexts']), np.std(gan_result['nexts'])))\n",
    "\n",
    "print('& Hybrid & {0:.1f} & {1:.2f} $\\pm$ {2:.2f} & {3:.1f} $\\pm$ {4:.1f} & {5:.1f} $\\pm$ {6:.1f} \\\\\\\\'.format(np.sum(hybrid_result['success'])*100./len(hybrid_result['success']), np.mean(hybrid_result['comp_times']), np.std(hybrid_result['comp_times']), np.mean(hybrid_result['nfevs']), np.std(hybrid_result['nfevs']), np.mean(hybrid_result['nexts']), np.std(hybrid_result['nexts'])))"
   ]
  },
  {
   "cell_type": "code",
   "execution_count": 327,
   "metadata": {},
   "outputs": [
    {
     "name": "stdout",
     "output_type": "stream",
     "text": [
      "& Random & 100.0 & 9.05 $\\pm$ 6.31 & 1544.0 $\\pm$ 1047.3 & 97.7 $\\pm$ 66.1 \\\\\n",
      "& GAN & 100.0 & 1.00 $\\pm$ 0.92 & 186.9 $\\pm$ 189.5 & 26.6 $\\pm$ 28.0 \\\\\n",
      "& Hybrid & 100.0 & 1.40 $\\pm$ 0.88 & 255.8 $\\pm$ 167.8 & 29.3 $\\pm$ 19.1 \\\\\n"
     ]
    }
   ],
   "source": [
    "print('& Random & {0:.1f} & {1:.2f} $\\pm$ {2:.2f} & {3:.1f} $\\pm$ {4:.1f} & {5:.1f} $\\pm$ {6:.1f} \\\\\\\\'.format(np.sum(std_result['success'])*100./len(std_result['success']), np.mean(std_result['comp_times']), np.std(std_result['comp_times']), np.mean(std_result['nfevs']), np.std(std_result['nfevs']), np.mean(std_result['nexts']), np.std(std_result['nexts'])))\n",
    "\n",
    "print('& GAN & {0:.1f} & {1:.2f} $\\pm$ {2:.2f} & {3:.1f} $\\pm$ {4:.1f} & {5:.1f} $\\pm$ {6:.1f} \\\\\\\\'.format(np.sum(gan_result['success'])*100./len(gan_result['success']), np.mean(gan_result['comp_times']), np.std(gan_result['comp_times']), np.mean(gan_result['nfevs']), np.std(gan_result['nfevs']), np.mean(gan_result['nexts']), np.std(gan_result['nexts'])))\n",
    "\n",
    "print('& Hybrid & {0:.1f} & {1:.2f} $\\pm$ {2:.2f} & {3:.1f} $\\pm$ {4:.1f} & {5:.1f} $\\pm$ {6:.1f} \\\\\\\\'.format(np.sum(hybrid_result['success'])*100./len(hybrid_result['success']), np.mean(hybrid_result['comp_times']), np.std(hybrid_result['comp_times']), np.mean(hybrid_result['nfevs']), np.std(hybrid_result['nfevs']), np.mean(hybrid_result['nexts']), np.std(hybrid_result['nexts'])))"
   ]
  },
  {
   "cell_type": "code",
   "execution_count": 73,
   "metadata": {},
   "outputs": [
    {
     "name": "stdout",
     "output_type": "stream",
     "text": [
      "& Random & 100.0 & 21.94 $\\pm$ 18.08 & 3981.6 $\\pm$ 3181.2 & 243.0 $\\pm$ 200.1 \\\\\n",
      "& GAN & 93.0 & 1.68 $\\pm$ 1.46 & 298.7 $\\pm$ 245.5 & 36.3 $\\pm$ 30.0 \\\\\n",
      "& Hybrid & nan & nan $\\pm$ nan & nan $\\pm$ nan & nan $\\pm$ nan \\\\\n"
     ]
    },
    {
     "name": "stderr",
     "output_type": "stream",
     "text": [
      "<ipython-input-73-45d91c711ad4>:5: RuntimeWarning: invalid value encountered in double_scalars\n",
      "  print('& Hybrid & {0:.1f} & {1:.2f} $\\pm$ {2:.2f} & {3:.1f} $\\pm$ {4:.1f} & {5:.1f} $\\pm$ {6:.1f} \\\\\\\\'.format(np.sum(hybrid_result['success'])*100./len(hybrid_result['success']), np.mean(hybrid_result['comp_times']), np.std(hybrid_result['comp_times']), np.mean(hybrid_result['nfevs']), np.std(hybrid_result['nfevs']), np.mean(hybrid_result['nexts']), np.std(hybrid_result['nexts'])))\n"
     ]
    }
   ],
   "source": [
    "print('& Random & {0:.1f} & {1:.2f} $\\pm$ {2:.2f} & {3:.1f} $\\pm$ {4:.1f} & {5:.1f} $\\pm$ {6:.1f} \\\\\\\\'.format(np.sum(std_result['success'])*100./len(std_result['success']), np.mean(std_result['comp_times']), np.std(std_result['comp_times']), np.mean(std_result['nfevs']), np.std(std_result['nfevs']), np.mean(std_result['nexts']), np.std(std_result['nexts'])))\n",
    "\n",
    "print('& GAN & {0:.1f} & {1:.2f} $\\pm$ {2:.2f} & {3:.1f} $\\pm$ {4:.1f} & {5:.1f} $\\pm$ {6:.1f} \\\\\\\\'.format(np.sum(gan_result['success'])*100./len(gan_result['success']), np.mean(gan_result['comp_times']), np.std(gan_result['comp_times']), np.mean(gan_result['nfevs']), np.std(gan_result['nfevs']), np.mean(gan_result['nexts']), np.std(gan_result['nexts'])))\n",
    "\n",
    "print('& Hybrid & {0:.1f} & {1:.2f} $\\pm$ {2:.2f} & {3:.1f} $\\pm$ {4:.1f} & {5:.1f} $\\pm$ {6:.1f} \\\\\\\\'.format(np.sum(hybrid_result['success'])*100./len(hybrid_result['success']), np.mean(hybrid_result['comp_times']), np.std(hybrid_result['comp_times']), np.mean(hybrid_result['nfevs']), np.std(hybrid_result['nfevs']), np.mean(hybrid_result['nexts']), np.std(hybrid_result['nexts'])))"
   ]
  },
  {
   "cell_type": "code",
   "execution_count": 750,
   "metadata": {},
   "outputs": [
    {
     "name": "stdout",
     "output_type": "stream",
     "text": [
      "& Random & 100.0 & 22.35 $\\pm$ 17.42 & 3861.4 $\\pm$ 3210.0 & 239.8 $\\pm$ 205.8 \\\\\n",
      "& GAN & 100.0 & 2.07 $\\pm$ 1.65 & 370.3 $\\pm$ 302.3 & 51.1 $\\pm$ 45.8 \\\\\n",
      "& Hybrid & nan & nan $\\pm$ nan & nan $\\pm$ nan & nan $\\pm$ nan \\\\\n"
     ]
    },
    {
     "name": "stderr",
     "output_type": "stream",
     "text": [
      "<ipython-input-750-45d91c711ad4>:5: RuntimeWarning: invalid value encountered in double_scalars\n",
      "  print('& Hybrid & {0:.1f} & {1:.2f} $\\pm$ {2:.2f} & {3:.1f} $\\pm$ {4:.1f} & {5:.1f} $\\pm$ {6:.1f} \\\\\\\\'.format(np.sum(hybrid_result['success'])*100./len(hybrid_result['success']), np.mean(hybrid_result['comp_times']), np.std(hybrid_result['comp_times']), np.mean(hybrid_result['nfevs']), np.std(hybrid_result['nfevs']), np.mean(hybrid_result['nexts']), np.std(hybrid_result['nexts'])))\n"
     ]
    }
   ],
   "source": [
    "print('& Random & {0:.1f} & {1:.2f} $\\pm$ {2:.2f} & {3:.1f} $\\pm$ {4:.1f} & {5:.1f} $\\pm$ {6:.1f} \\\\\\\\'.format(np.sum(std_result['success'])*100./len(std_result['success']), np.mean(std_result['comp_times']), np.std(std_result['comp_times']), np.mean(std_result['nfevs']), np.std(std_result['nfevs']), np.mean(std_result['nexts']), np.std(std_result['nexts'])))\n",
    "\n",
    "print('& GAN & {0:.1f} & {1:.2f} $\\pm$ {2:.2f} & {3:.1f} $\\pm$ {4:.1f} & {5:.1f} $\\pm$ {6:.1f} \\\\\\\\'.format(np.sum(gan_result['success'])*100./len(gan_result['success']), np.mean(gan_result['comp_times']), np.std(gan_result['comp_times']), np.mean(gan_result['nfevs']), np.std(gan_result['nfevs']), np.mean(gan_result['nexts']), np.std(gan_result['nexts'])))\n",
    "\n",
    "print('& Hybrid & {0:.1f} & {1:.2f} $\\pm$ {2:.2f} & {3:.1f} $\\pm$ {4:.1f} & {5:.1f} $\\pm$ {6:.1f} \\\\\\\\'.format(np.sum(hybrid_result['success'])*100./len(hybrid_result['success']), np.mean(hybrid_result['comp_times']), np.std(hybrid_result['comp_times']), np.mean(hybrid_result['nfevs']), np.std(hybrid_result['nfevs']), np.mean(hybrid_result['nexts']), np.std(hybrid_result['nexts'])))"
   ]
  },
  {
   "cell_type": "code",
   "execution_count": 747,
   "metadata": {},
   "outputs": [
    {
     "name": "stdout",
     "output_type": "stream",
     "text": [
      "& Random & nan & nan $\\pm$ nan & nan $\\pm$ nan & nan $\\pm$ nan \\\\\n",
      "& GAN & 100.0 & 1.96 $\\pm$ 1.68 & 347.0 $\\pm$ 300.2 & 45.7 $\\pm$ 38.4 \\\\\n",
      "& Hybrid & nan & nan $\\pm$ nan & nan $\\pm$ nan & nan $\\pm$ nan \\\\\n"
     ]
    },
    {
     "name": "stderr",
     "output_type": "stream",
     "text": [
      "<ipython-input-747-45d91c711ad4>:1: RuntimeWarning: invalid value encountered in double_scalars\n",
      "  print('& Random & {0:.1f} & {1:.2f} $\\pm$ {2:.2f} & {3:.1f} $\\pm$ {4:.1f} & {5:.1f} $\\pm$ {6:.1f} \\\\\\\\'.format(np.sum(std_result['success'])*100./len(std_result['success']), np.mean(std_result['comp_times']), np.std(std_result['comp_times']), np.mean(std_result['nfevs']), np.std(std_result['nfevs']), np.mean(std_result['nexts']), np.std(std_result['nexts'])))\n",
      "<ipython-input-747-45d91c711ad4>:5: RuntimeWarning: invalid value encountered in double_scalars\n",
      "  print('& Hybrid & {0:.1f} & {1:.2f} $\\pm$ {2:.2f} & {3:.1f} $\\pm$ {4:.1f} & {5:.1f} $\\pm$ {6:.1f} \\\\\\\\'.format(np.sum(hybrid_result['success'])*100./len(hybrid_result['success']), np.mean(hybrid_result['comp_times']), np.std(hybrid_result['comp_times']), np.mean(hybrid_result['nfevs']), np.std(hybrid_result['nfevs']), np.mean(hybrid_result['nexts']), np.std(hybrid_result['nexts'])))\n"
     ]
    }
   ],
   "source": [
    "print('& Random & {0:.1f} & {1:.2f} $\\pm$ {2:.2f} & {3:.1f} $\\pm$ {4:.1f} & {5:.1f} $\\pm$ {6:.1f} \\\\\\\\'.format(np.sum(std_result['success'])*100./len(std_result['success']), np.mean(std_result['comp_times']), np.std(std_result['comp_times']), np.mean(std_result['nfevs']), np.std(std_result['nfevs']), np.mean(std_result['nexts']), np.std(std_result['nexts'])))\n",
    "\n",
    "print('& GAN & {0:.1f} & {1:.2f} $\\pm$ {2:.2f} & {3:.1f} $\\pm$ {4:.1f} & {5:.1f} $\\pm$ {6:.1f} \\\\\\\\'.format(np.sum(gan_result['success'])*100./len(gan_result['success']), np.mean(gan_result['comp_times']), np.std(gan_result['comp_times']), np.mean(gan_result['nfevs']), np.std(gan_result['nfevs']), np.mean(gan_result['nexts']), np.std(gan_result['nexts'])))\n",
    "\n",
    "print('& Hybrid & {0:.1f} & {1:.2f} $\\pm$ {2:.2f} & {3:.1f} $\\pm$ {4:.1f} & {5:.1f} $\\pm$ {6:.1f} \\\\\\\\'.format(np.sum(hybrid_result['success'])*100./len(hybrid_result['success']), np.mean(hybrid_result['comp_times']), np.std(hybrid_result['comp_times']), np.mean(hybrid_result['nfevs']), np.std(hybrid_result['nfevs']), np.mean(hybrid_result['nexts']), np.std(hybrid_result['nexts'])))"
   ]
  },
  {
   "cell_type": "code",
   "execution_count": 720,
   "metadata": {},
   "outputs": [
    {
     "name": "stdout",
     "output_type": "stream",
     "text": [
      "& Random & nan & nan $\\pm$ nan & nan $\\pm$ nan & nan $\\pm$ nan \\\\\n",
      "& GAN & 100.0 & 3.75 $\\pm$ 2.67 & 719.2 $\\pm$ 526.2 & 69.1 $\\pm$ 49.3 \\\\\n",
      "& Hybrid & nan & nan $\\pm$ nan & nan $\\pm$ nan & nan $\\pm$ nan \\\\\n"
     ]
    },
    {
     "name": "stderr",
     "output_type": "stream",
     "text": [
      "<ipython-input-720-45d91c711ad4>:1: RuntimeWarning: invalid value encountered in double_scalars\n",
      "  print('& Random & {0:.1f} & {1:.2f} $\\pm$ {2:.2f} & {3:.1f} $\\pm$ {4:.1f} & {5:.1f} $\\pm$ {6:.1f} \\\\\\\\'.format(np.sum(std_result['success'])*100./len(std_result['success']), np.mean(std_result['comp_times']), np.std(std_result['comp_times']), np.mean(std_result['nfevs']), np.std(std_result['nfevs']), np.mean(std_result['nexts']), np.std(std_result['nexts'])))\n",
      "<ipython-input-720-45d91c711ad4>:5: RuntimeWarning: invalid value encountered in double_scalars\n",
      "  print('& Hybrid & {0:.1f} & {1:.2f} $\\pm$ {2:.2f} & {3:.1f} $\\pm$ {4:.1f} & {5:.1f} $\\pm$ {6:.1f} \\\\\\\\'.format(np.sum(hybrid_result['success'])*100./len(hybrid_result['success']), np.mean(hybrid_result['comp_times']), np.std(hybrid_result['comp_times']), np.mean(hybrid_result['nfevs']), np.std(hybrid_result['nfevs']), np.mean(hybrid_result['nexts']), np.std(hybrid_result['nexts'])))\n"
     ]
    }
   ],
   "source": [
    "print('& Random & {0:.1f} & {1:.2f} $\\pm$ {2:.2f} & {3:.1f} $\\pm$ {4:.1f} & {5:.1f} $\\pm$ {6:.1f} \\\\\\\\'.format(np.sum(std_result['success'])*100./len(std_result['success']), np.mean(std_result['comp_times']), np.std(std_result['comp_times']), np.mean(std_result['nfevs']), np.std(std_result['nfevs']), np.mean(std_result['nexts']), np.std(std_result['nexts'])))\n",
    "\n",
    "print('& GAN & {0:.1f} & {1:.2f} $\\pm$ {2:.2f} & {3:.1f} $\\pm$ {4:.1f} & {5:.1f} $\\pm$ {6:.1f} \\\\\\\\'.format(np.sum(gan_result['success'])*100./len(gan_result['success']), np.mean(gan_result['comp_times']), np.std(gan_result['comp_times']), np.mean(gan_result['nfevs']), np.std(gan_result['nfevs']), np.mean(gan_result['nexts']), np.std(gan_result['nexts'])))\n",
    "\n",
    "print('& Hybrid & {0:.1f} & {1:.2f} $\\pm$ {2:.2f} & {3:.1f} $\\pm$ {4:.1f} & {5:.1f} $\\pm$ {6:.1f} \\\\\\\\'.format(np.sum(hybrid_result['success'])*100./len(hybrid_result['success']), np.mean(hybrid_result['comp_times']), np.std(hybrid_result['comp_times']), np.mean(hybrid_result['nfevs']), np.std(hybrid_result['nfevs']), np.mean(hybrid_result['nexts']), np.std(hybrid_result['nexts'])))"
   ]
  },
  {
   "cell_type": "code",
   "execution_count": 615,
   "metadata": {},
   "outputs": [
    {
     "name": "stdout",
     "output_type": "stream",
     "text": [
      "& Random & 100.0 & 25.04 $\\pm$ 19.26 & 4553.1 $\\pm$ 3536.0 & 285.7 $\\pm$ 235.0 \\\\\n",
      "& GAN & 100.0 & 5.38 $\\pm$ 6.50 & 1022.3 $\\pm$ 1284.8 & 202.4 $\\pm$ 299.7 \\\\\n",
      "& Hybrid & 100.0 & 9.26 $\\pm$ 8.38 & 1776.2 $\\pm$ 1640.6 & 256.1 $\\pm$ 264.0 \\\\\n"
     ]
    }
   ],
   "source": [
    "print('& Random & {0:.1f} & {1:.2f} $\\pm$ {2:.2f} & {3:.1f} $\\pm$ {4:.1f} & {5:.1f} $\\pm$ {6:.1f} \\\\\\\\'.format(np.sum(std_result['success'])*100./len(std_result['success']), np.mean(std_result['comp_times']), np.std(std_result['comp_times']), np.mean(std_result['nfevs']), np.std(std_result['nfevs']), np.mean(std_result['nexts']), np.std(std_result['nexts'])))\n",
    "\n",
    "print('& GAN & {0:.1f} & {1:.2f} $\\pm$ {2:.2f} & {3:.1f} $\\pm$ {4:.1f} & {5:.1f} $\\pm$ {6:.1f} \\\\\\\\'.format(np.sum(gan_result['success'])*100./len(gan_result['success']), np.mean(gan_result['comp_times']), np.std(gan_result['comp_times']), np.mean(gan_result['nfevs']), np.std(gan_result['nfevs']), np.mean(gan_result['nexts']), np.std(gan_result['nexts'])))\n",
    "\n",
    "print('& Hybrid & {0:.1f} & {1:.2f} $\\pm$ {2:.2f} & {3:.1f} $\\pm$ {4:.1f} & {5:.1f} $\\pm$ {6:.1f} \\\\\\\\'.format(np.sum(hybrid_result['success'])*100./len(hybrid_result['success']), np.mean(hybrid_result['comp_times']), np.std(hybrid_result['comp_times']), np.mean(hybrid_result['nfevs']), np.std(hybrid_result['nfevs']), np.mean(hybrid_result['nexts']), np.std(hybrid_result['nexts'])))"
   ]
  },
  {
   "cell_type": "code",
   "execution_count": 533,
   "metadata": {},
   "outputs": [
    {
     "name": "stdout",
     "output_type": "stream",
     "text": [
      "& Random & 100.0 & 15.06 $\\pm$ 16.32 & 2296.7 $\\pm$ 2514.5 & 163.6 $\\pm$ 164.5 \\\\\n",
      "& GAN & 100.0 & 1.62 $\\pm$ 1.50 & 275.6 $\\pm$ 273.5 & 31.4 $\\pm$ 31.1 \\\\\n",
      "& Hybrid & 100.0 & 1.53 $\\pm$ 0.74 & 279.0 $\\pm$ 146.7 & 28.7 $\\pm$ 13.9 \\\\\n"
     ]
    }
   ],
   "source": [
    "print('& Random & {0:.1f} & {1:.2f} $\\pm$ {2:.2f} & {3:.1f} $\\pm$ {4:.1f} & {5:.1f} $\\pm$ {6:.1f} \\\\\\\\'.format(np.sum(std_result['success'])*100./len(std_result['success']), np.mean(std_result['comp_times']), np.std(std_result['comp_times']), np.mean(std_result['nfevs']), np.std(std_result['nfevs']), np.mean(std_result['nexts']), np.std(std_result['nexts'])))\n",
    "\n",
    "print('& GAN & {0:.1f} & {1:.2f} $\\pm$ {2:.2f} & {3:.1f} $\\pm$ {4:.1f} & {5:.1f} $\\pm$ {6:.1f} \\\\\\\\'.format(np.sum(gan_result['success'])*100./len(gan_result['success']), np.mean(gan_result['comp_times']), np.std(gan_result['comp_times']), np.mean(gan_result['nfevs']), np.std(gan_result['nfevs']), np.mean(gan_result['nexts']), np.std(gan_result['nexts'])))\n",
    "\n",
    "print('& Hybrid & {0:.1f} & {1:.2f} $\\pm$ {2:.2f} & {3:.1f} $\\pm$ {4:.1f} & {5:.1f} $\\pm$ {6:.1f} \\\\\\\\'.format(np.sum(hybrid_result['success'])*100./len(hybrid_result['success']), np.mean(hybrid_result['comp_times']), np.std(hybrid_result['comp_times']), np.mean(hybrid_result['nfevs']), np.std(hybrid_result['nfevs']), np.mean(hybrid_result['nexts']), np.std(hybrid_result['nexts'])))"
   ]
  },
  {
   "cell_type": "code",
   "execution_count": 513,
   "metadata": {},
   "outputs": [],
   "source": [
    "trajs = gan_result['path']"
   ]
  },
  {
   "cell_type": "code",
   "execution_count": 516,
   "metadata": {},
   "outputs": [],
   "source": [
    "vis_traj_std(trajs[2])"
   ]
  },
  {
   "cell_type": "code",
   "execution_count": null,
   "metadata": {},
   "outputs": [],
   "source": [
    "data = dict()\n",
    "data['random'] = std_result\n",
    "data['gan'] = gan_result\n",
    "data['hybrid'] = hybrid_result\n",
    "np.save('data/task' + str(task) + '3.npy', data)"
   ]
  },
  {
   "cell_type": "markdown",
   "metadata": {},
   "source": [
    "## Test one by one"
   ]
  },
  {
   "cell_type": "code",
   "execution_count": 1584,
   "metadata": {},
   "outputs": [],
   "source": [
    "robot_projector.alpha2 = 0.01"
   ]
  },
  {
   "cell_type": "code",
   "execution_count": 1356,
   "metadata": {},
   "outputs": [],
   "source": [
    "cost_com_bounds_new.margin = 1e-12"
   ]
  },
  {
   "cell_type": "code",
   "execution_count": 1357,
   "metadata": {},
   "outputs": [],
   "source": [
    "bound_cost_new.margin = 1e-12"
   ]
  },
  {
   "cell_type": "code",
   "execution_count": 1201,
   "metadata": {},
   "outputs": [],
   "source": [
    "q = rrt.sample(False)[0]\n",
    "set_q_std(q)"
   ]
  },
  {
   "cell_type": "code",
   "execution_count": 1558,
   "metadata": {},
   "outputs": [
    {
     "name": "stdout",
     "output_type": "stream",
     "text": [
      "Solution found!\n"
     ]
    }
   ],
   "source": [
    "path, nfevs, nexts, success, retry, t  = rrt.plan(start_state,goal_states, max_extension_steps=500)\n"
   ]
  },
  {
   "cell_type": "code",
   "execution_count": 1281,
   "metadata": {},
   "outputs": [
    {
     "name": "stdout",
     "output_type": "stream",
     "text": [
      "Solution found!\n"
     ]
    }
   ],
   "source": [
    "path, nfevs, nexts, success, retry, t  = ganrrt.plan(start_state,goal_states, max_extension_steps=500)\n"
   ]
  },
  {
   "cell_type": "code",
   "execution_count": 760,
   "metadata": {},
   "outputs": [
    {
     "name": "stdout",
     "output_type": "stream",
     "text": [
      "Solution found!\n"
     ]
    }
   ],
   "source": [
    "path, nfevs, nexts, success, retry, t  = ganrrt_old.plan(start_state,goal_states, max_extension_steps=500)\n"
   ]
  },
  {
   "cell_type": "code",
   "execution_count": 256,
   "metadata": {},
   "outputs": [],
   "source": [
    "sel_rrt = ganrrt"
   ]
  },
  {
   "cell_type": "code",
   "execution_count": 257,
   "metadata": {},
   "outputs": [],
   "source": [
    "set_q_std(start_state)"
   ]
  },
  {
   "cell_type": "code",
   "execution_count": 258,
   "metadata": {},
   "outputs": [],
   "source": [
    "sel_rrt.init_plan(start_state, goal_states)"
   ]
  },
  {
   "cell_type": "code",
   "execution_count": 282,
   "metadata": {},
   "outputs": [],
   "source": [
    "success = False\n",
    "# sample random state\n",
    "nfevs = 0\n",
    "sel_rrt.random_sample, nfev = sel_rrt.sample(False)\n",
    "sel_rrt.random_sample = sel_rrt.random_sample.flatten()\n",
    "nfevs += nfev"
   ]
  },
  {
   "cell_type": "code",
   "execution_count": 283,
   "metadata": {},
   "outputs": [],
   "source": [
    "set_q_std(sel_rrt.random_sample)"
   ]
  },
  {
   "cell_type": "code",
   "execution_count": 284,
   "metadata": {},
   "outputs": [],
   "source": [
    "# find a nearest node\n",
    "nearest_index, nearest_sample = sel_rrt.find_nearest(sel_rrt.random_sample, np.array(sel_rrt.samples))\n",
    "\n",
    "# extend to the random state\n",
    "sel_rrt.next_states, nfev = sel_rrt.extend(nearest_index[0], nearest_sample.flatten(), sel_rrt.random_sample.flatten())\n",
    "nfevs += nfev\n",
    "\n",
    "q_reach_a = sel_rrt.next_states[-1]"
   ]
  },
  {
   "cell_type": "code",
   "execution_count": 285,
   "metadata": {},
   "outputs": [],
   "source": [
    "next_states = lin_interpolate(nearest_sample.flatten(), sel_rrt.random_sample.flatten(), 10)"
   ]
  },
  {
   "cell_type": "code",
   "execution_count": 286,
   "metadata": {},
   "outputs": [],
   "source": [
    "robot_projector.cost2 = cost_sum_new2"
   ]
  },
  {
   "cell_type": "code",
   "execution_count": 287,
   "metadata": {},
   "outputs": [],
   "source": [
    "qr = next_states[3]\n",
    "set_q_std(qr)"
   ]
  },
  {
   "cell_type": "code",
   "execution_count": 288,
   "metadata": {},
   "outputs": [],
   "source": [
    "qn = robot_projector.project(qr)['q']\n",
    "set_q_std(qn)"
   ]
  },
  {
   "cell_type": "code",
   "execution_count": 289,
   "metadata": {},
   "outputs": [],
   "source": [
    "qn = robot_projector_old.project(qr)['q']\n",
    "set_q_std(qn)"
   ]
  },
  {
   "cell_type": "code",
   "execution_count": 290,
   "metadata": {},
   "outputs": [],
   "source": [
    "np.set_printoptions(precision=4, suppress=True)"
   ]
  },
  {
   "cell_type": "code",
   "execution_count": 291,
   "metadata": {},
   "outputs": [],
   "source": [
    "vis_traj_std(next_states,dt=0.2)"
   ]
  },
  {
   "cell_type": "code",
   "execution_count": 293,
   "metadata": {},
   "outputs": [],
   "source": [
    "vis_traj_std(sel_rrt.next_states)"
   ]
  },
  {
   "cell_type": "code",
   "execution_count": 278,
   "metadata": {},
   "outputs": [],
   "source": [
    "set_q_std(start_state)"
   ]
  },
  {
   "cell_type": "code",
   "execution_count": 279,
   "metadata": {},
   "outputs": [],
   "source": [
    "set_q_std(q_reach_a)"
   ]
  },
  {
   "cell_type": "code",
   "execution_count": 280,
   "metadata": {},
   "outputs": [],
   "source": [
    "# extend to the goal\n",
    "# find the nearest goal\n",
    "nearest_index, nearest_sample = sel_rrt.find_nearest(q_reach_a, np.array(sel_rrt.goal_state))\n",
    "q_goal = nearest_sample.flatten()\n",
    "\n",
    "sel_rrt.next_states_goal, nfev = sel_rrt.extend(len(sel_rrt.samples) - 1, sel_rrt.next_states[-1], q_goal)\n",
    "sel_rrt.q_goal = q_goal\n",
    "nfevs += nfev\n",
    "\n",
    "if np.linalg.norm(sel_rrt.next_states_goal[-1] - q_goal) < 0.001:\n",
    "    print('Solution is found!')\n",
    "    success = True"
   ]
  },
  {
   "cell_type": "code",
   "execution_count": 281,
   "metadata": {},
   "outputs": [],
   "source": [
    "set_q_std(sel_rrt.next_states_goal[0])"
   ]
  },
  {
   "cell_type": "markdown",
   "metadata": {},
   "source": [
    "#### Compare"
   ]
  },
  {
   "cell_type": "code",
   "execution_count": 967,
   "metadata": {},
   "outputs": [],
   "source": [
    "rob_sampler.q_ref = q0Complete"
   ]
  },
  {
   "cell_type": "code",
   "execution_count": 929,
   "metadata": {},
   "outputs": [],
   "source": [
    "q = gan_sampler.sample()[0]"
   ]
  },
  {
   "cell_type": "code",
   "execution_count": 932,
   "metadata": {},
   "outputs": [],
   "source": [
    "set_q_std(q)"
   ]
  },
  {
   "cell_type": "code",
   "execution_count": 935,
   "metadata": {},
   "outputs": [],
   "source": [
    "q1 = robot_projector_old.project(q)['q']\n",
    "set_q_std(q1)"
   ]
  },
  {
   "cell_type": "code",
   "execution_count": 936,
   "metadata": {},
   "outputs": [],
   "source": [
    "q2 = robot_projector.project(q)['q']\n",
    "set_q_std(q2)"
   ]
  },
  {
   "cell_type": "code",
   "execution_count": null,
   "metadata": {},
   "outputs": [],
   "source": []
  },
  {
   "cell_type": "code",
   "execution_count": 987,
   "metadata": {},
   "outputs": [],
   "source": [
    "q = rob_sampler.sample()[0]"
   ]
  },
  {
   "cell_type": "code",
   "execution_count": 994,
   "metadata": {},
   "outputs": [],
   "source": [
    "set_q_std(q)"
   ]
  },
  {
   "cell_type": "code",
   "execution_count": 993,
   "metadata": {},
   "outputs": [],
   "source": [
    "q1 = robot_projector_old.project(q)['q']\n",
    "set_q_std(q1)"
   ]
  },
  {
   "cell_type": "code",
   "execution_count": 995,
   "metadata": {},
   "outputs": [],
   "source": [
    "q2 = robot_projector.project(q)['q']\n",
    "set_q_std(q2)"
   ]
  },
  {
   "cell_type": "code",
   "execution_count": 996,
   "metadata": {},
   "outputs": [
    {
     "data": {
      "text/plain": [
       "15.88050147469939"
      ]
     },
     "execution_count": 996,
     "metadata": {},
     "output_type": "execute_result"
    }
   ],
   "source": [
    "np.sum(robot_projector.cost2.calc(q2)**2)"
   ]
  },
  {
   "cell_type": "code",
   "execution_count": 997,
   "metadata": {},
   "outputs": [
    {
     "data": {
      "text/plain": [
       "3.2493658646428742"
      ]
     },
     "execution_count": 997,
     "metadata": {},
     "output_type": "execute_result"
    }
   ],
   "source": [
    "posture_cost.calc(q1)"
   ]
  }
 ],
 "metadata": {
  "anaconda-cloud": {},
  "hide_input": false,
  "kernelspec": {
   "display_name": "Python 3",
   "language": "python",
   "name": "python3"
  },
  "language_info": {
   "codemirror_mode": {
    "name": "ipython",
    "version": 3
   },
   "file_extension": ".py",
   "mimetype": "text/x-python",
   "name": "python",
   "nbconvert_exporter": "python",
   "pygments_lexer": "ipython3",
   "version": "3.8.3"
  },
  "latex_envs": {
   "bibliofile": "biblio.bib",
   "cite_by": "apalike",
   "current_citInitial": 1,
   "eqLabelWithNumbers": true,
   "eqNumInitial": 0
  }
 },
 "nbformat": 4,
 "nbformat_minor": 4
}
