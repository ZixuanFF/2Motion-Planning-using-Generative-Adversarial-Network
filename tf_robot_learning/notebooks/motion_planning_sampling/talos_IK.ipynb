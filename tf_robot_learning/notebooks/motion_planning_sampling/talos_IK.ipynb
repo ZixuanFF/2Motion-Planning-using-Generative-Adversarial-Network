{
 "cells": [
  {
   "cell_type": "markdown",
   "metadata": {},
   "source": [
    "# Talos Example"
   ]
  },
  {
   "cell_type": "code",
   "execution_count": 1,
   "metadata": {
    "collapsed": false,
    "jupyter": {
     "outputs_hidden": false
    }
   },
   "outputs": [],
   "source": [
    "import tensorflow as tf\n",
    "import tensorflow.compat.v1 as tf1\n",
    "import numpy as np\n",
    "import matplotlib.pyplot as plt\n",
    "\n",
    "from collections import OrderedDict\n",
    "\n",
    "import tf_robot_learning as rl\n",
    "import tf_robot_learning.distributions as ds\n",
    "import os, time\n",
    "from tf_robot_learning import kinematic as tk\n",
    "\n",
    "from IPython.core import display\n",
    "\n",
    "%load_ext autoreload\n",
    "%autoreload 2\n",
    "%matplotlib inline"
   ]
  },
  {
   "cell_type": "markdown",
   "metadata": {},
   "source": [
    "## Part 1: Define and Train GAN"
   ]
  },
  {
   "cell_type": "code",
   "execution_count": 2,
   "metadata": {},
   "outputs": [],
   "source": [
    "sess = tf1.InteractiveSession()\n",
    "tf1.disable_eager_execution()"
   ]
  },
  {
   "cell_type": "markdown",
   "metadata": {},
   "source": [
    "### Define robot"
   ]
  },
  {
   "cell_type": "code",
   "execution_count": 3,
   "metadata": {},
   "outputs": [
    {
     "name": "stdout",
     "output_type": "stream",
     "text": [
      "WARNING:tensorflow:From /home/teguh/miniconda3/envs/tf3/lib/python3.8/site-packages/tensorflow/python/ops/linalg/linear_operator_full_matrix.py:142: calling LinearOperator.__init__ (from tensorflow.python.ops.linalg.linear_operator) with graph_parents is deprecated and will be removed in a future version.\n",
      "Instructions for updating:\n",
      "Do not pass `graph_parents`.  They will  no longer be used.\n"
     ]
    }
   ],
   "source": [
    "urdf = tk.urdf_from_file(rl.datapath + '/urdf/talos_reduced.urdf');\n",
    "display.clear_output()\n",
    "\n",
    "#list of end-effector\n",
    "tips = OrderedDict({\n",
    "    'r_gripper'\t: 'gripper_right_base_link',\n",
    "    'l_gripper'\t: 'gripper_left_base_link',\n",
    "    'r_foot' \t: 'right_sole_link',\n",
    "    'l_foot' \t: 'left_sole_link',\n",
    "})\n",
    "\n",
    "#define the robot as a kinematic chain, loaded from urdf\n",
    "chain_names = ['r_gripper', 'r_foot', 'l_foot'] \n",
    "chain = tk.ChainDict({\n",
    "    name: tk.kdl_chain_from_urdf_model(urdf, 'base_link', tip=tip)\n",
    "    for name, tip in tips.items()\n",
    "})\n",
    "\n",
    "#define the default position and orientation of the end-effector\n",
    "ee = OrderedDict({\n",
    "        'l_gripper': [0.  , 0.29, 0.8 , 1.  , 0.  , 0.  , 0.  , 1.  , 0.  , 0.  , 0.  ,1.  ],\n",
    "        'r_gripper': [0.  , -0.29, 0.8 , 1.  , 0.  , 0.  , 0.  , 1.  , 0.  , 0.  , 0.  ,1.  ],\n",
    "        'l_foot': [-0.02,  0.09, -0.  ,  1.  ,  0.  ,  0.  ,  0.  ,  1.  ,  0.  , 0.  ,  0.  ,  1.  ],\n",
    "        'r_foot': [-0.02,  -0.09, -0.  ,  1.  ,  0.  ,  0.  ,  0.  ,  1.  ,  0.  , 0.  ,  0.  ,  1.  ],\n",
    "})"
   ]
  },
  {
   "cell_type": "markdown",
   "metadata": {},
   "source": [
    "### Load data "
   ]
  },
  {
   "cell_type": "code",
   "execution_count": 4,
   "metadata": {},
   "outputs": [],
   "source": [
    "def param_to_joint_pos(x):\n",
    "    \"\"\"\n",
    "    convert the config parameter x to full robot configurations: joint angles, base position and orientation\n",
    "    \"\"\"\n",
    "    return x[..., :chain.nb_joint],\\\n",
    "        tf.concat([x[..., chain.nb_joint:chain.nb_joint+3]], -1),\\\n",
    "        tk.rotation.rpy(tf.zeros_like(x[..., -3:]))"
   ]
  },
  {
   "cell_type": "code",
   "execution_count": 5,
   "metadata": {
    "collapsed": false,
    "jupyter": {
     "outputs_hidden": false
    }
   },
   "outputs": [],
   "source": [
    "def q_augmented(q):\n",
    "    \"\"\" Define augmented data transformations: (joint_angles, right foot pose, and left foot pose)\"\"\"\n",
    "    _q, _p, _m = param_to_joint_pos(q)\n",
    "    return tf.concat([\n",
    "            q,\n",
    "            chain.xs(_q, floating_base=(_p, _m), name='r_foot')[:, -1],\n",
    "            chain.xs(_q, floating_base=(_p, _m), name='l_foot')[:, -1]\n",
    "        ], -1)"
   ]
  },
  {
   "cell_type": "code",
   "execution_count": 6,
   "metadata": {
    "collapsed": false,
    "jupyter": {
     "outputs_hidden": false
    }
   },
   "outputs": [],
   "source": [
    "def q_target(q):\n",
    "    \"\"\" Extract the target\"\"\"\n",
    "    _q, _p, _m = param_to_joint_pos(q)\n",
    "    return tf.concat( # orientation of each foot\n",
    "            [chain.xs(_q, floating_base=(_p, _m), name=name)[:, -1, :3] for name in chain_names]\n",
    "            , -1)"
   ]
  },
  {
   "cell_type": "code",
   "execution_count": 7,
   "metadata": {
    "collapsed": false,
    "jupyter": {
     "outputs_hidden": false
    }
   },
   "outputs": [],
   "source": [
    "def q_foot_ori(q):\n",
    "    \"\"\" Extract the foot orientation \"\"\"\n",
    "    _q, _p, _m = param_to_joint_pos(q)\n",
    "    return tf.concat( # position of each end-effector\n",
    "            [chain.xs(_q, floating_base=(_p, _m), name=name)[:, -1, 3:] for name in chain_names[1:]]\n",
    "            , -1)"
   ]
  },
  {
   "cell_type": "code",
   "execution_count": 8,
   "metadata": {},
   "outputs": [],
   "source": [
    "# get mini batch\n",
    "def get_batch(_batch_size=30, cut=None, augmented=True):\n",
    "    if cut is not None: idx = np.random.randint(0, cut, _batch_size)\n",
    "    else: idx = np.random.randint(0, data_augmented.shape[0]-1, _batch_size)\n",
    "    if augmented: return data_augmented[idx]\n",
    "    else: return data[idx]\n",
    "    \n",
    "def get_target_batch(_batch_size=30, cut=None):\n",
    "    if cut is not None: idx = np.random.randint( 0, cut, _batch_size)\n",
    "    else: idx = np.random.randint(0, data_augmented.shape[0]-1, _batch_size)\n",
    "    return data_target[idx]\n"
   ]
  },
  {
   "cell_type": "code",
   "execution_count": 9,
   "metadata": {
    "collapsed": false,
    "jupyter": {
     "outputs_hidden": false
    }
   },
   "outputs": [],
   "source": [
    "q_eval = tf1.placeholder(tf.float32, (None, chain.nb_joint + 3))\n",
    "\n",
    "q_augmented_eval = q_augmented(q_eval)\n",
    "q_target_eval = q_target(q_eval)\n",
    "q_foot_ori_eval = q_foot_ori(q_eval)"
   ]
  },
  {
   "cell_type": "code",
   "execution_count": 10,
   "metadata": {},
   "outputs": [],
   "source": [
    "#load the dataset\n",
    "data = np.load('data/data_two_feet_manual.npy')\n",
    "# compute data through these transformations\n",
    "data_augmented = q_augmented_eval.eval({q_eval: data})\n",
    "data_target = q_target_eval.eval({q_eval: data})"
   ]
  },
  {
   "cell_type": "markdown",
   "metadata": {},
   "source": [
    "## Generator "
   ]
  },
  {
   "cell_type": "code",
   "execution_count": 11,
   "metadata": {},
   "outputs": [],
   "source": [
    "# Network Parameters\n",
    "joint_dim = chain.nb_joint + 3 # the configuration consists of nb_joint= 28 joint angles and 3 base position\n",
    "latent_dim = 30 # dimension of noise\n",
    "N_net = 5\n",
    "target_dim = 9  # size of the target\n",
    "augmented_dim = 2 * 12 + joint_dim # size of augmented data (joint angles + poses of both foot)\n",
    "\n",
    "n_input = latent_dim + target_dim #dimension of the input to the generator\n",
    "batch_size = tf1.placeholder(tf.int32, ())"
   ]
  },
  {
   "cell_type": "markdown",
   "metadata": {},
   "source": [
    "#### Define the generator"
   ]
  },
  {
   "cell_type": "code",
   "execution_count": 12,
   "metadata": {},
   "outputs": [],
   "source": [
    "gen_nn = rl.nn.MLP(\n",
    "    n_input=n_input, n_output=joint_dim, n_hidden=[200, 200],\n",
    "    act_fct=tf.nn.relu, batch_size_svi=N_net\n",
    ")"
   ]
  },
  {
   "cell_type": "markdown",
   "metadata": {},
   "source": [
    "#### Define the generator input"
   ]
  },
  {
   "cell_type": "code",
   "execution_count": 13,
   "metadata": {},
   "outputs": [],
   "source": [
    "# noise to feed generator\n",
    "eps_var = tf1.placeholder(tf.float32, ())\n",
    "eps = tf.random.normal([tf.cast(batch_size/N_net, tf.int32), latent_dim], \n",
    "    dtype=tf.float32, mean=0., stddev=eps_var, name='epsilon')\n",
    "\n",
    "#the input to generator = noise + target\n",
    "batch_target = tf1.placeholder(tf.float32, (None, target_dim))\n",
    "eps_conc = tf.concat([eps, batch_target], axis=-1)"
   ]
  },
  {
   "cell_type": "markdown",
   "metadata": {},
   "source": [
    "#### Define output transformations"
   ]
  },
  {
   "cell_type": "code",
   "execution_count": 14,
   "metadata": {},
   "outputs": [
    {
     "name": "stdout",
     "output_type": "stream",
     "text": [
      "WARNING:tensorflow:From /home/teguh/miniconda3/envs/tf3/lib/python3.8/site-packages/tensorflow/python/ops/resource_variable_ops.py:1659: calling BaseResourceVariable.__init__ (from tensorflow.python.ops.resource_variable_ops) with constraint is deprecated and will be removed in a future version.\n",
      "Instructions for updating:\n",
      "If using Keras pass *_constraint arguments to layers.\n"
     ]
    }
   ],
   "source": [
    "samples_q = tf.reshape(gen_nn.pred(eps_conc) + tf.constant(chain.mean_pose + [0,0,1.08])[None], (-1, joint_dim))\n",
    "\n",
    "samples_qq, samples_p, samples_m = param_to_joint_pos(samples_q)\n",
    "samples_links, _, samples_com = chain.xs(samples_qq, floating_base=(samples_p, samples_m), get_links=True)\n",
    "\n",
    "samples_augmented = q_augmented(samples_q)\n",
    "samples_target = q_target(samples_q)\n",
    "samples_foot_ori = q_foot_ori(samples_q)"
   ]
  },
  {
   "cell_type": "markdown",
   "metadata": {},
   "source": [
    "## Discriminator"
   ]
  },
  {
   "cell_type": "markdown",
   "metadata": {},
   "source": [
    "#### Define the discriminator"
   ]
  },
  {
   "cell_type": "code",
   "execution_count": 15,
   "metadata": {
    "collapsed": false,
    "jupyter": {
     "outputs_hidden": false
    }
   },
   "outputs": [],
   "source": [
    "discr_nn = rl.nn.MLP(\n",
    "    n_input=augmented_dim, n_output=1, n_hidden=[40, 40],\n",
    "    act_fct=tf.nn.relu\n",
    ")\n",
    "\n",
    "#batch data\n",
    "batch_x = tf1.placeholder(tf.float32, (None, augmented_dim))"
   ]
  },
  {
   "cell_type": "markdown",
   "metadata": {},
   "source": [
    "## Define loss functions"
   ]
  },
  {
   "cell_type": "markdown",
   "metadata": {},
   "source": [
    "#### Main loss functions (discriminator vs generator)"
   ]
  },
  {
   "cell_type": "code",
   "execution_count": 16,
   "metadata": {
    "collapsed": false,
    "jupyter": {
     "outputs_hidden": false
    }
   },
   "outputs": [],
   "source": [
    "d_fake = discr_nn.pred(samples_augmented)[:, 0]\n",
    "d_true = discr_nn.pred(batch_x)[:, 0]\n",
    "\n",
    "#discriminator loss function\n",
    "loss_d = tf.nn.sigmoid_cross_entropy_with_logits(labels=tf.ones_like(d_true), logits=d_true) + \\\n",
    "        tf.nn.sigmoid_cross_entropy_with_logits(labels=tf.zeros_like(d_fake), logits=d_fake)\n",
    "loss_d = tf.reduce_sum(loss_d)\n",
    "\n",
    "#generator (basic) loss function\n",
    "loss = tf.nn.sigmoid_cross_entropy_with_logits(\n",
    "    labels=tf.ones_like(d_fake), logits=d_fake)\n",
    "loss = tf.reduce_sum(loss)"
   ]
  },
  {
   "cell_type": "markdown",
   "metadata": {},
   "source": [
    "#### Target loss "
   ]
  },
  {
   "cell_type": "code",
   "execution_count": 17,
   "metadata": {},
   "outputs": [
    {
     "name": "stdout",
     "output_type": "stream",
     "text": [
      "WARNING:tensorflow:From /home/teguh/miniconda3/envs/tf3/lib/python3.8/site-packages/tensorflow_probability/python/bijectors/affine_linear_operator.py:116: LinearOperator.graph_parents (from tensorflow.python.ops.linalg.linear_operator) is deprecated and will be removed in a future version.\n",
      "Instructions for updating:\n",
      "Do not call `graph_parents`.\n"
     ]
    }
   ],
   "source": [
    "p_target_std = tf1.placeholder(tf.float32, ()) \n",
    "\n",
    "p_target = ds.MultivariateNormalFullCovariance(\n",
    "    tf.reshape(tf.ones((N_net, 1,1))*batch_target,(-1, target_dim)), p_target_std**2 * tf.eye(target_dim)\n",
    ")\n",
    "\n",
    "loss_target = tf.reduce_sum(-p_target.log_prob(samples_target))\n",
    "lmbda_target = tf1.placeholder(tf.float32, ())"
   ]
  },
  {
   "cell_type": "markdown",
   "metadata": {},
   "source": [
    "#### Foot orientation loss "
   ]
  },
  {
   "cell_type": "code",
   "execution_count": 18,
   "metadata": {
    "collapsed": false,
    "jupyter": {
     "outputs_hidden": false
    }
   },
   "outputs": [],
   "source": [
    "foot_ori_dim = 18\n",
    "batch_foot_ori = tf1.placeholder(tf.float32, (None, foot_ori_dim))\n",
    "\n",
    "# define a Gaussian distribution that should be tracked by the system\n",
    "p_foot_ori_std = tf1.placeholder(tf.float32, ()) \n",
    "\n",
    "p_foot_ori = ds.MultivariateNormalFullCovariance(\n",
    "    tf.reshape(tf.ones((N_net, 1,1))*batch_foot_ori,(-1, foot_ori_dim)), p_foot_ori_std**2 * tf.eye(foot_ori_dim)\n",
    ")\n",
    "\n",
    "loss_foot_ori = tf.reduce_sum(-p_foot_ori.log_prob(samples_foot_ori))\n",
    "lmbda_foot_ori = tf1.placeholder(tf.float32, ())"
   ]
  },
  {
   "cell_type": "markdown",
   "metadata": {},
   "source": [
    "#### Constraints cost: COM and joint limit"
   ]
  },
  {
   "cell_type": "code",
   "execution_count": 19,
   "metadata": {
    "collapsed": false,
    "jupyter": {
     "outputs_hidden": false
    }
   },
   "outputs": [],
   "source": [
    "#joint limit\n",
    "base_pos_limits = np.array([[-0.1, -0.1, 0.6],[0.1, 0.1, 1.4] ]).T\n",
    "config_limits = np.concatenate([chain.joint_limits, base_pos_limits], axis=0)\n",
    "joint_limits = tf.constant(config_limits, dtype=tf.float32)\n",
    "joint_limits_std = 0.05\n",
    "joint_limits_temp = 1.\n",
    "\n",
    "joint_limits_exp = ds.SoftUniformNormalCdf(\n",
    "    low=joint_limits[:, 0],\n",
    "    high=joint_limits[:, 1],\n",
    "    std=joint_limits_std,\n",
    "    temp=joint_limits_temp,\n",
    "    reduce_axis=-1\n",
    ")\n",
    "\n",
    "joint_limit_constraints = tf.reduce_mean(-joint_limits_exp.log_prob(samples_q[:,:chain.nb_joint+3]))\n",
    "\n",
    "\n",
    "#COM\n",
    "com_limits = 0.1\n",
    "com_limits_std = 0.01\n",
    "\n",
    "com_limits_exp = ds.SoftUniformNormalCdf(\n",
    "    low=-com_limits,\n",
    "    high=com_limits,\n",
    "    std=com_limits_std,\n",
    "    temp=1.,\n",
    "    reduce_axis=-1\n",
    ")\n",
    "\n",
    "com_xy = samples_com[:, :2]\n",
    "center_feet = tf.reduce_mean([\n",
    "        samples_links['r_foot'][:, -1, :2], \n",
    "        samples_links['l_foot'][:, -1, :2]\n",
    "        ], axis=0)\n",
    "\n",
    "cost_constraints = tf.reduce_mean(-com_limits_exp.log_prob(com_xy - center_feet))\n",
    "lmbda_constraints = tf1.placeholder(tf.float32, ())"
   ]
  },
  {
   "cell_type": "markdown",
   "metadata": {},
   "source": [
    "### Overall loss"
   ]
  },
  {
   "cell_type": "code",
   "execution_count": 20,
   "metadata": {},
   "outputs": [],
   "source": [
    "loss_gen = loss +  lmbda_target * loss_target + lmbda_foot_ori*loss_foot_ori + lmbda_constraints * (cost_constraints+joint_limit_constraints) "
   ]
  },
  {
   "cell_type": "markdown",
   "metadata": {},
   "source": [
    "### Optimizer "
   ]
  },
  {
   "cell_type": "code",
   "execution_count": 21,
   "metadata": {
    "collapsed": false,
    "jupyter": {
     "outputs_hidden": false
    }
   },
   "outputs": [],
   "source": [
    "rate = tf1.placeholder(tf.float32, ())\n",
    "opt = tf1.train.AdamOptimizer\n",
    "\n",
    "optimizer = opt(learning_rate=rate)\n",
    "optimizer_d = opt(learning_rate=rate)\n",
    "\n",
    "train = optimizer.minimize(loss_gen, var_list=gen_nn.vec_weights)\n",
    "train_d = optimizer_d.minimize(loss_d, var_list=discr_nn.vec_weights)\n",
    "\n",
    "# Initialize the variables (i.e. assign their default value)\n",
    "init = tf1.global_variables_initializer()"
   ]
  },
  {
   "cell_type": "markdown",
   "metadata": {},
   "source": [
    "## Training model "
   ]
  },
  {
   "cell_type": "code",
   "execution_count": 22,
   "metadata": {
    "collapsed": false,
    "jupyter": {
     "outputs_hidden": false
    }
   },
   "outputs": [],
   "source": [
    "sess.run(init)"
   ]
  },
  {
   "cell_type": "code",
   "execution_count": 23,
   "metadata": {},
   "outputs": [],
   "source": [
    "def get_target_new_batch(_batch_size):\n",
    "    return np.random.multivariate_normal(_targets_m, np.diag(_targets_v ** 2), (_batch_size, ))"
   ]
  },
  {
   "cell_type": "code",
   "execution_count": 24,
   "metadata": {},
   "outputs": [],
   "source": [
    "_batch_size = 100\n",
    "_targets_m = np.concatenate([ee[name][:3] for name in chain_names], 0) # mean target\n",
    "_batch_foot_ori = np.tile(np.eye(3).flatten(), (int(_batch_size/N_net),2)).reshape(int(_batch_size/N_net),-1)\n",
    "\n",
    "_targets_m = np.concatenate([ee[name][:3] for name in chain_names], 0) # mean target\n",
    "_targets_v = np.array([0.5] * 3 + [0.01] * 2 + [0.] +  [0.01] * 2 + [0.]  )  # variance"
   ]
  },
  {
   "cell_type": "raw",
   "metadata": {
    "jupyter": {
     "outputs_hidden": false
    }
   },
   "source": [
    "alpha = .7\n",
    "for i in range(2000):\n",
    "    try:\n",
    "        for j in range(5):\n",
    "            # train discriminative_network\n",
    "            _x = get_batch(cut=8000, _batch_size=_batch_size)\n",
    "            \n",
    "            feed_dict = {\n",
    "                lmbda_target: .05,\n",
    "                lmbda_foot_ori: .05,\n",
    "                lmbda_constraints: 5.,\n",
    "                eps_var: 1.,\n",
    "                p_target_std: 0.01,\n",
    "                p_foot_ori_std: 0.01,\n",
    "                batch_x: _x,\n",
    "                batch_size: _batch_size,\n",
    "                rate : 0.002 * alpha,\n",
    "            }\n",
    "            \n",
    "            # from data\n",
    "            feed_dict[batch_target] = get_target_new_batch(_batch_size=int(_batch_size/N_net))\n",
    "\n",
    "            _ = sess.run([train_d], feed_dict=feed_dict)\n",
    "        \n",
    "        feed_dict[rate] = .001 * alpha\n",
    "        feed_dict[batch_foot_ori] = _batch_foot_ori\n",
    "        \n",
    "        # train generative_network\n",
    "        _,  _loss, _loss_d,  _loss_target, _loss_constraints = sess.run(\n",
    "            [train, loss, loss_d,  loss_target, cost_constraints], feed_dict=feed_dict)\n",
    "        \n",
    "        if not i % 10:\n",
    "            display.clear_output(wait=True)\n",
    "            print('Step %i\\t, loss gen %f, loss disc %f,  loss target %f, loss constraints %f' % (i, _loss, _loss_d ,_loss_target, _loss_constraints))\n",
    "    except KeyboardInterrupt:\n",
    "        break"
   ]
  },
  {
   "cell_type": "markdown",
   "metadata": {},
   "source": [
    "#### To save model"
   ]
  },
  {
   "cell_type": "raw",
   "metadata": {},
   "source": [
    "saver = tf1.train.Saver()\n",
    "\n",
    "save_path = saver.save(sess, \"data/talos_foot_fixed_with_data_ensemble2.ckpt\")"
   ]
  },
  {
   "cell_type": "markdown",
   "metadata": {},
   "source": [
    "#### To load model"
   ]
  },
  {
   "cell_type": "code",
   "execution_count": 25,
   "metadata": {},
   "outputs": [
    {
     "name": "stdout",
     "output_type": "stream",
     "text": [
      "INFO:tensorflow:Restoring parameters from data/talos_foot_fixed_with_data_ensemble2.ckpt\n"
     ]
    }
   ],
   "source": [
    "saver = tf1.train.Saver()\n",
    "saver.restore(sess, \"data/talos_foot_fixed_with_data_ensemble2.ckpt\")"
   ]
  },
  {
   "cell_type": "markdown",
   "metadata": {},
   "source": [
    "### Visualize the generated samples"
   ]
  },
  {
   "cell_type": "code",
   "execution_count": 26,
   "metadata": {
    "collapsed": false,
    "jupyter": {
     "outputs_hidden": false
    }
   },
   "outputs": [
    {
     "data": {
      "image/png": "[encoded data removed]",
      "text/plain": [
       "<Figure size 432x288 with 2 Axes>"
      ]
     },
     "metadata": {
      "needs_background": "light"
     },
     "output_type": "display_data"
    }
   ],
   "source": [
    "_batch_size = 20\n",
    "feed_dict={batch_size: _batch_size, eps_var:1.}\n",
    "feed_dict[batch_target] = get_target_new_batch(_batch_size=int(_batch_size/N_net))\n",
    "\n",
    "_links, _com , _b_targets = sess.run(\n",
    "[samples_links, samples_com, batch_target], feed_dict\n",
    ")\n",
    "\n",
    "fig, ax = plt.subplots(ncols=2)\n",
    "\n",
    "for i in range(2):\n",
    "    dim = [i, 2]\n",
    "    chain.plot(\n",
    "            _links, feed_dict={}, ax=ax[i],\n",
    "            dim=dim, alpha=0.2, color='k'\n",
    "        )    \n",
    "    ax[i].plot(_com[0, dim[0]], _com[0, dim[1]], 'bx')\n",
    "    \n",
    "    for j, name in enumerate(chain_names):\n",
    "        ax[i].plot(_b_targets[:, j*3 + dim[0]], _b_targets[:, j*3 + dim[1]], 'rx', color='orangered')"
   ]
  },
  {
   "cell_type": "code",
   "execution_count": 27,
   "metadata": {},
   "outputs": [
    {
     "data": {
      "image/png": "[encoded data removed]",
      "text/plain": [
       "<Figure size 864x576 with 2 Axes>"
      ]
     },
     "metadata": {
      "needs_background": "light"
     },
     "output_type": "display_data"
    }
   ],
   "source": [
    "from_dataset = 0\n",
    "n = 10\n",
    "\n",
    "_targets_m = np.concatenate([ee[name][:3] for name in chain_names], 0) # mean target\n",
    "_targets_v = np.array([0.6] * 3 + [0.001]*3 + [0.001] * 3  )  # variance\n",
    "\n",
    "if from_dataset:\n",
    "    _targets = get_target_batch(cut=10000, _batch_size=1) * np.ones((int(n/N_net), 1))\n",
    "else:\n",
    "    _targets = np.random.multivariate_normal(_targets_m, np.diag(_targets_v ** 2), (1, )) * np.ones((int(n/N_net), 1))\n",
    "\n",
    "feed_dict={batch_size: n, batch_target: _targets, eps_var:1.}\n",
    "\n",
    "\n",
    "_links, _com , _b_targets, _samples_q = sess.run(\n",
    "    [samples_links, samples_com, batch_target, samples_q], \n",
    "    feed_dict)\n",
    "\n",
    "fig, ax = plt.subplots(ncols=2, figsize=(12,8))\n",
    "\n",
    "for i in range(2):\n",
    "    dim = [i, 2]\n",
    "    chain.plot(\n",
    "            _links, feed_dict={}, ax=ax[i],\n",
    "            dim=dim, alpha=0.2, color='k'\n",
    "        )    \n",
    "    \n",
    "    for j, name in enumerate(chain_names):\n",
    "        ax[i].plot(_b_targets[:, j*3 + dim[0]], _b_targets[:, j*3 + dim[1]], 'rx', color='orangered')\n",
    "    ax[i].plot(_com[0, dim[0]], _com[0, dim[1]], 'bx')\n",
    "    #ax[i].set_xlim([-.7, .7])\n",
    "    #x[i].set_ylim([-0.1, 1.2])\n",
    "plt.savefig('data/talos_config.png')\n",
    "plt.show()  \n"
   ]
  },
  {
   "cell_type": "raw",
   "metadata": {},
   "source": [
    "fig, ax = plt.subplots(ncols=1, figsize=(12,8))\n",
    "dim = [1, 2]\n",
    "chain.plot(\n",
    "        _links, feed_dict={}, ax=ax,\n",
    "        dim=dim, alpha=0.2, color='k'\n",
    "    )    \n",
    "\n",
    "for j, name in enumerate(chain_names):\n",
    "    ax.plot(_b_targets[:, j*3 + dim[0]], _b_targets[:, j*3 + dim[1]], 'rx', color='orangered')\n",
    "ax.plot(_com[0, dim[0]], _com[0, dim[1]], 'bx')\n",
    "ax.set_xlim([-.9, .7])\n",
    "ax.set_ylim([-0.1, 1.6])\n",
    "plt.axis('off')\n",
    "plt.savefig('data/talos_config6.png', bbox_inches='tight', pad_inches=0)\n",
    "plt.show()  \n"
   ]
  },
  {
   "cell_type": "raw",
   "metadata": {},
   "source": [
    "for sample in _samples_q:\n",
    "    set_q_std(get_pb_config(sample),True)\n",
    "    print(sample[2:9])\n",
    "    input()"
   ]
  },
  {
   "cell_type": "markdown",
   "metadata": {},
   "source": [
    "## Part 2: Use GAN for Projection, IK and Inverse Kinematics"
   ]
  },
  {
   "cell_type": "markdown",
   "metadata": {},
   "source": [
    "### Setup Pybullet"
   ]
  },
  {
   "cell_type": "code",
   "execution_count": 28,
   "metadata": {},
   "outputs": [],
   "source": [
    "import pybullet as p\n",
    "import pybullet_data\n",
    "from utils import *\n",
    "from scipy.optimize import fmin_bfgs\n",
    "from costs import *\n",
    "from robot import *\n",
    "from scipy.optimize import fmin_bfgs\n",
    "from functools import partial"
   ]
  },
  {
   "cell_type": "code",
   "execution_count": 29,
   "metadata": {},
   "outputs": [],
   "source": [
    "physics_client_id = p.connect(p.GUI)\n",
    "\n",
    "p.setPhysicsEngineParameter(enableFileCaching=0)\n",
    "p.setAdditionalSearchPath(pybullet_data.getDataPath())\n",
    "p.configureDebugVisualizer(p.COV_ENABLE_GUI,0)"
   ]
  },
  {
   "cell_type": "code",
   "execution_count": 30,
   "metadata": {},
   "outputs": [],
   "source": [
    "p.resetSimulation()"
   ]
  },
  {
   "cell_type": "markdown",
   "metadata": {},
   "source": [
    "#### Load in pybullet"
   ]
  },
  {
   "cell_type": "code",
   "execution_count": 31,
   "metadata": {},
   "outputs": [],
   "source": [
    "#load robot\n",
    "robot_urdf = rl.datapath + '/urdf/talos_reduced.urdf';\n",
    "robot_id = p.loadURDF(fileName=robot_urdf)\n",
    "dof = p.getNumJoints(robot_id)\n",
    "\n",
    "#load plane\n",
    "plane_id = p.loadURDF('plane.urdf')\n",
    "p.resetBasePositionAndOrientation(plane_id, (0,0,0), np.array([0,0,0,1]))\n",
    "\n",
    "#set default visualization function\n",
    "set_q_std = partial(set_q,robot_id, pb_joint_indices, set_base=True)\n",
    "set_q_std(q0Complete)\n",
    "vis_traj_std = partial(vis_traj, vis_func = set_q_std)"
   ]
  },
  {
   "cell_type": "code",
   "execution_count": 32,
   "metadata": {},
   "outputs": [],
   "source": [
    "_,_, ball_id = create_primitives(radius = 0.1)"
   ]
  },
  {
   "cell_type": "markdown",
   "metadata": {},
   "source": [
    "#### Define frame indices"
   ]
  },
  {
   "cell_type": "code",
   "execution_count": 33,
   "metadata": {},
   "outputs": [],
   "source": [
    "pb_frame_names = [p.getJointInfo(robot_id,i)[1] for i in range(dof)]"
   ]
  },
  {
   "cell_type": "code",
   "execution_count": 34,
   "metadata": {},
   "outputs": [],
   "source": [
    "pb_lh_frame_id = pb_frame_names.index(b'gripper_left_joint')\n",
    "pb_rh_frame_id = pb_frame_names.index(b'gripper_right_joint')\n",
    "pb_lf_frame_id = pb_frame_names.index(b'leg_left_sole_fix_joint')\n",
    "pb_rf_frame_id = pb_frame_names.index(b'leg_right_sole_fix_joint')"
   ]
  },
  {
   "cell_type": "markdown",
   "metadata": {},
   "source": [
    "#### Load from pinocchio"
   ]
  },
  {
   "cell_type": "code",
   "execution_count": 35,
   "metadata": {},
   "outputs": [],
   "source": [
    "robot_urdf = rl.datapath + '/urdf/talos_reduced.urdf';\n",
    "rmodel = pin.buildModelFromUrdf(robot_urdf , pin.JointModelFreeFlyer())\n",
    "rdata = rmodel.createData()\n",
    "\n",
    "robot_joint_limits = np.vstack([rmodel.lowerPositionLimit, rmodel.upperPositionLimit])\n",
    "for i in range(robot_joint_limits.shape[0]):\n",
    "    for j in range(robot_joint_limits.shape[1]):\n",
    "        if robot_joint_limits[i,j] < -1e10: robot_joint_limits[i,j] = -1e10\n",
    "        if robot_joint_limits[i,j] > 1e10: robot_joint_limits[i,j] = 1e10\n",
    "            \n",
    "pin_frame_names = [f.name for f in rmodel.frames]\n",
    "lh_frame_id = rmodel.getFrameId('gripper_left_joint')\n",
    "rh_frame_id = rmodel.getFrameId('gripper_right_joint')\n",
    "lf_frame_id = rmodel.getFrameId('leg_left_sole_fix_joint')\n",
    "rf_frame_id = rmodel.getFrameId('leg_right_sole_fix_joint')"
   ]
  },
  {
   "cell_type": "markdown",
   "metadata": {},
   "source": [
    "#### Define target poses"
   ]
  },
  {
   "cell_type": "code",
   "execution_count": 36,
   "metadata": {},
   "outputs": [],
   "source": [
    "#left foot\n",
    "pos_lf, ori_lf = computePose(rmodel,rdata,lf_frame_id,q0Complete)\n",
    "rpy_lf = mat2euler(ori_lf)\n",
    "pose_lf_ref = np.concatenate([pos_lf, rpy_lf])\n",
    "#right foot\n",
    "pos_rf, ori_rf = computePose(rmodel,rdata,rf_frame_id,q0Complete)\n",
    "rpy_rf = mat2euler(ori_rf)\n",
    "pose_rf_ref = np.concatenate([pos_rf, rpy_rf])\n",
    "#left hand\n",
    "pos_lh, ori_lh = computePose(rmodel,rdata,lh_frame_id,q0Complete)\n",
    "pose_lh_ref = np.concatenate([np.array([0.3,0.2, 0.4]), np.array([0,-np.pi/2,0.])])\n",
    "#right hand\n",
    "pos_rh, ori_rh = computePose(rmodel,rdata,rh_frame_id,q0Complete)\n",
    "rpy_rh = mat2euler(ori_rh)\n",
    "pose_rh_ref = np.concatenate([pos_rh, rpy_rh])"
   ]
  },
  {
   "cell_type": "markdown",
   "metadata": {},
   "source": [
    "### Define Projector & IK solver"
   ]
  },
  {
   "cell_type": "code",
   "execution_count": 280,
   "metadata": {},
   "outputs": [],
   "source": [
    "lf_cost = CostFrameRPYFloatingBase(rmodel, rdata, pose_lf_ref,lf_frame_id, sel_vector=np.array([1,1,1,1,1,1]))\n",
    "rf_cost = CostFrameRPYFloatingBase(rmodel, rdata, pose_rf_ref,rf_frame_id, sel_vector=np.array([1,1,1,1,1,1]))\n",
    "bound_cost = CostBound(robot_joint_limits)\n",
    "posture_cost = CostPosture(rmodel, rdata, q0Complete)\n",
    "com_bounds = np.array([[-0.1,-0.1,0.6],[0.1, 0.1, 1.1]])\n",
    "cost_com_bounds = CostCOMBounds(rmodel, rdata, com_bounds)\n",
    "cost_sum = CostSum()\n",
    "\n",
    "cost_sum.addCost(lf_cost, 20., 'lf_pose', 1e-5)\n",
    "cost_sum.addCost(rf_cost, 20.,'rf_pose', 1e-5)\n",
    "cost_sum.addCost(bound_cost, 10., 'com_limit', 1e-4)\n",
    "cost_sum.addCost(cost_com_bounds, 10., 'joint_limit', 1e-4)\n",
    "cost_sum.addCost(posture_cost, .01, 'posture', 1e3)\n",
    "\n",
    "robot_projector = TalosCostProjector(cost_sum)\n",
    "\n",
    "\n",
    "rh_cost = CostFrameRPYFloatingBase(rmodel, rdata, pose_rh_ref,rh_frame_id, sel_vector=np.array([1,1,1,0,0,0]))\n",
    "\n",
    "cost_sum2 = CostSum()\n",
    "cost_sum2.addCost(rh_cost, 20., 'rh_pose', 1e-3)\n",
    "cost_sum2.addCost(lf_cost, 20., 'lf_pose', 1e-5)\n",
    "cost_sum2.addCost(rf_cost, 20.,'rf_pose', 1e-5)\n",
    "cost_sum2.addCost(bound_cost, 10., 'com_limit', 1e-4)\n",
    "cost_sum2.addCost(cost_com_bounds, 10., 'joint_limit', 1e-4)\n",
    "cost_sum2.addCost(posture_cost, .01, 'posture', 1e3)\n",
    "\n",
    "robot_ik_solver = TalosCostProjector(cost_sum2)"
   ]
  },
  {
   "cell_type": "markdown",
   "metadata": {},
   "source": [
    "#### Using GAN sampler"
   ]
  },
  {
   "cell_type": "code",
   "execution_count": 281,
   "metadata": {},
   "outputs": [],
   "source": [
    "class GANSampler():\n",
    "    def __init__(self, target_sampler):\n",
    "        self.target_sampler = target_sampler\n",
    "    \n",
    "    def sample(self,N = 1, _poses = None, var = 1., idx_input = None):\n",
    "        if _poses is None:\n",
    "            _poses = self.target_sampler.sample(N)\n",
    "        self.poses = _poses\n",
    "        _foot_poses = np.tile(np.concatenate([pose_rf_ref[:3], pose_lf_ref[:3]]), (N,1))\n",
    "        _targets = np.hstack([_poses, _foot_poses])\n",
    "        feed_dict={batch_size: N*N_net, batch_target: _targets, eps_var:var}\n",
    "        feed_dict[batch_foot_ori] = _batch_foot_ori\n",
    "\n",
    "        _samples_q = sess.run([samples_q],feed_dict)\n",
    "        _samples_q = _samples_q[0]\n",
    "        qnew = []\n",
    "        for i in range(N):\n",
    "            #samples from N_net networks\n",
    "            if idx_input is None:\n",
    "                idx = np.random.randint(N_net)\n",
    "            else:\n",
    "                idx = idx_input\n",
    "            q = _samples_q[idx*N + i]\n",
    "            qnew += [get_pb_config(q)]\n",
    "        return np.array(qnew)"
   ]
  },
  {
   "cell_type": "code",
   "execution_count": 282,
   "metadata": {},
   "outputs": [],
   "source": [
    "#define standard sampler\n",
    "base_sampler = sampler(com_bounds.copy())\n",
    "joint_sampler = sampler(robot_joint_limits[:,7:])\n",
    "rob_sampler = talos_sampler(base_sampler, np.array([0,0,0,1]), joint_sampler)\n",
    "\n",
    "#define GAN sampler\n",
    "target_bounds = np.array([[-0.6, -.6, 0.3], [0.8, .6, 1.4]])\n",
    "#target_bounds = np.array([[0.2, -.6, 0.3], [0.8, .6, 1.4]])\n",
    "target_sampler = sampler( target_bounds)\n",
    "gan_sampler = GANSampler(target_sampler)"
   ]
  },
  {
   "cell_type": "markdown",
   "metadata": {},
   "source": [
    "#### Try GAN sampler\n"
   ]
  },
  {
   "cell_type": "code",
   "execution_count": 283,
   "metadata": {},
   "outputs": [],
   "source": [
    "#q = gan_sampler.sample(_poses = np.array([[-0.2, -0.3, 1.]]))[0]\n",
    "q = gan_sampler.sample()[0]\n",
    "set_q_std(q)"
   ]
  },
  {
   "cell_type": "markdown",
   "metadata": {},
   "source": [
    "#### Compare the projector"
   ]
  },
  {
   "cell_type": "code",
   "execution_count": 284,
   "metadata": {},
   "outputs": [],
   "source": [
    "methods = [rob_sampler, gan_sampler]\n",
    "method_names = ['Random', 'GAN']\n",
    "\n",
    "samples = gan_sampler.sample(1000)\n",
    "\n",
    "N = 100\n",
    "\n",
    "data = dict()\n",
    "for m in range(len(methods)):\n",
    "    comp_times = []\n",
    "    success = []\n",
    "    fevals = []\n",
    "    for i in range(N):\n",
    "        #idx = np.random.randint(500)\n",
    "        idx = i\n",
    "        if method_names[m] == 'GAN':\n",
    "            q = samples[idx]\n",
    "        else:\n",
    "            q = rob_sampler.sample().flatten()\n",
    "        tic = time.time()\n",
    "        res = robot_projector.project(q)\n",
    "        toc = time.time()\n",
    "        comp_times += [toc-tic]\n",
    "        success += [res['stat']]\n",
    "        fevals += [res['nfev']]\n",
    "    data[method_names[m]] = [comp_times, success, fevals]"
   ]
  },
  {
   "cell_type": "code",
   "execution_count": 285,
   "metadata": {},
   "outputs": [
    {
     "name": "stdout",
     "output_type": "stream",
     "text": [
      "& Random & 86.0 &  50.7 $\\pm$ 69.3 &  23.2 $\\pm$ 12.4 &  36.3 $\\pm$ 19.7\\\\ \n",
      "& GAN & 100.0 &  5.4 $\\pm$ 3.0 &  5.4 $\\pm$ 3.0 &  8.5 $\\pm$ 4.7\\\\ \n"
     ]
    }
   ],
   "source": [
    "for m in range(len(methods[:2])):\n",
    "    print('& ' + method_names[m], end=' ')\n",
    "    comp_times, success, fevals = data[method_names[m]]\n",
    "    comp_times = np.array(comp_times)\n",
    "    fevals = np.array(fevals)\n",
    "\n",
    "    print('& {0:.1f} &  {1:.1f} $\\pm$ {2:.1f} &  {3:.1f} $\\pm$ {4:.1f} &  {5:.1f} $\\pm$ {6:.1f}'.format(np.sum(success)*100./N, np.mean(comp_times)*1000, np.std(comp_times)*1000, np.mean(comp_times[success])*1000, np.std(comp_times[success])*1000,np.mean(fevals[success]), np.std(fevals[success])), end = ''),\n",
    "    print('\\\\\\\\ ')"
   ]
  },
  {
   "cell_type": "markdown",
   "metadata": {},
   "source": [
    "### Compare the IK solver"
   ]
  },
  {
   "cell_type": "code",
   "execution_count": 290,
   "metadata": {},
   "outputs": [],
   "source": [
    "targets = data_target[:2000,:3]\n",
    "samples = gan_sampler.sample(N=2000, _poses=targets, var = 0.1)"
   ]
  },
  {
   "cell_type": "code",
   "execution_count": 291,
   "metadata": {},
   "outputs": [],
   "source": [
    "N = 100\n",
    "data = dict()\n",
    "for m in range(len(methods)):\n",
    "    comp_times = []\n",
    "    success = []\n",
    "    fevals = []\n",
    "    for i in range(N):\n",
    "        idx = i\n",
    "        if method_names[m] == 'GAN':\n",
    "            q = samples[idx]\n",
    "        else:\n",
    "            q = rob_sampler.sample().flatten()\n",
    "        tic = time.time()\n",
    "        robot_ik_solver.cost.costs['rh_pose'].cost.desired_pose[:3] = targets[i]\n",
    "        res = robot_ik_solver.project(q)\n",
    "        toc = time.time()\n",
    "        comp_times += [toc-tic]\n",
    "        success += [res['stat']]\n",
    "        fevals += [res['nfev']]\n",
    "        data[method_names[m]] = [comp_times, success, fevals]\n",
    "clear_output()"
   ]
  },
  {
   "cell_type": "code",
   "execution_count": 292,
   "metadata": {},
   "outputs": [
    {
     "name": "stdout",
     "output_type": "stream",
     "text": [
      "& Random & 80.0 &  88.1 $\\pm$ 90.5 &  43.8 $\\pm$ 20.1 &  54.0 $\\pm$ 24.8\\\\ \n",
      "& GAN & 100.0 &  10.7 $\\pm$ 8.5 &  10.7 $\\pm$ 8.5 &  13.4 $\\pm$ 10.5\\\\ \n"
     ]
    }
   ],
   "source": [
    "for m in range(len(methods[:2])):\n",
    "    print('& ' + method_names[m], end=' ')\n",
    "    comp_times, success, fevals = data[method_names[m]]\n",
    "    comp_times = np.array(comp_times)\n",
    "    fevals = np.array(fevals)\n",
    "\n",
    "    print('& {0:.1f} &  {1:.1f} $\\pm$ {2:.1f} &  {3:.1f} $\\pm$ {4:.1f} &  {5:.1f} $\\pm$ {6:.1f}'.format(np.sum(success)*100./N, np.mean(comp_times)*1000, np.std(comp_times)*1000, np.mean(comp_times[success])*1000, np.std(comp_times[success])*1000,np.mean(fevals[success]), np.std(fevals[success])), end = ''),\n",
    "    print('\\\\\\\\ ')"
   ]
  },
  {
   "cell_type": "markdown",
   "metadata": {},
   "source": [
    "## Comparing IK using LBFGS vs Pseudo Inverse"
   ]
  },
  {
   "cell_type": "markdown",
   "metadata": {},
   "source": [
    "#### Define target poses"
   ]
  },
  {
   "cell_type": "code",
   "execution_count": 969,
   "metadata": {},
   "outputs": [],
   "source": [
    "from costs_pseudo import *"
   ]
  },
  {
   "cell_type": "code",
   "execution_count": 968,
   "metadata": {},
   "outputs": [],
   "source": [
    "#left foot\n",
    "w_lf = mat2w(ori_lf)\n",
    "pose_lf_ref_new = pin.SE3(ori_lf, pos_lf)\n",
    "#right foot\n",
    "w_rf = mat2w(ori_rf)\n",
    "pose_rf_ref_new = pin.SE3(ori_rf, pos_rf)\n",
    "#right hand\n",
    "w_rh = mat2w(ori_rh)\n",
    "pose_rh_ref_new = pos_rh"
   ]
  },
  {
   "cell_type": "code",
   "execution_count": 1022,
   "metadata": {},
   "outputs": [],
   "source": [
    "# lf_cost_new = CostFrameRPYFloatingBaseNew(rmodel, rdata, pose_lf_ref,lf_frame_id, sel_vector=np.array([1,1,1,1,1,1]))\n",
    "# rf_cost_new = CostFrameRPYFloatingBaseNew(rmodel, rdata, pose_rf_ref,rf_frame_id, sel_vector=np.array([1,1,1,1,1,1]))\n",
    "# rh_cost_new = CostFrameTranslationFloatingBaseNew(rmodel, rdata, pose_rh_ref[:3],rh_frame_id, weight=np.array([1,1,1]))\n",
    "lf_cost_new = CostFrameSE3FloatingBaseNew(rmodel, rdata, pose_lf_ref_new,lf_frame_id, weight=np.array([1.,1.,1.,1.,1.,1.]))\n",
    "rf_cost_new = CostFrameSE3FloatingBaseNew(rmodel, rdata, pose_rf_ref_new,rf_frame_id, weight=np.array([1.,1.,1.,1.,1.,1.]))\n",
    "rh_cost_new = CostFrameTranslationFloatingBaseNew(rmodel, rdata, pose_rh_ref_new,rh_frame_id, weight=np.array([1.,1.,1.]))\n",
    "cost_com_bounds_new = CostCOMBoundsNew(rmodel, rdata, com_bounds, 1e-12)\n",
    "bound_cost_new = CostBoundNew(robot_joint_limits, 1e-12)\n",
    "posture_cost_new = CostPostureNew(rmodel, rdata, q0Complete)"
   ]
  },
  {
   "cell_type": "code",
   "execution_count": 1049,
   "metadata": {},
   "outputs": [],
   "source": [
    "cost_sum_new = CostSumNew(rmodel, rdata)\n",
    "cost_sum_new2 = CostSumNew(rmodel, rdata)\n",
    "cost_sum_new_ik = CostSumNew(rmodel, rdata)"
   ]
  },
  {
   "cell_type": "code",
   "execution_count": 1050,
   "metadata": {},
   "outputs": [],
   "source": [
    "cost_sum_new_ik.addCost(lf_cost_new, 20., 'lf_pose', 1e-4)\n",
    "cost_sum_new_ik.addCost(rf_cost_new, 20.,'rf_pose', 1e-4)\n",
    "cost_sum_new_ik.addCost(cost_com_bounds_new, 20., 'com_limit', 1e-3)\n",
    "cost_sum_new_ik.addCost(bound_cost_new, 20., 'joint_limit', 1e-3)\n",
    "cost_sum_new_ik.addCost(rh_cost_new, 20.,'rh_pose', 1e-3)"
   ]
  },
  {
   "cell_type": "code",
   "execution_count": 1051,
   "metadata": {},
   "outputs": [],
   "source": [
    "cost_sum_new.addCost(lf_cost_new, 20., 'lf_pose', 1e-4)\n",
    "cost_sum_new.addCost(rf_cost_new, 20.,'rf_pose', 1e-4)\n",
    "cost_sum_new.addCost(cost_com_bounds_new, 20., 'com_limit', 1e-3)\n",
    "cost_sum_new.addCost(bound_cost_new, 20., 'joint_limit', 1e-3)"
   ]
  },
  {
   "cell_type": "code",
   "execution_count": 1052,
   "metadata": {},
   "outputs": [],
   "source": [
    "cost_sum_new2.addCost(posture_cost_new, 1. , 'posture', 1e3)"
   ]
  },
  {
   "cell_type": "code",
   "execution_count": 1053,
   "metadata": {},
   "outputs": [],
   "source": [
    "rob_projector = TalosCostProjectorNew(cost_sum_new, cost2 = cost_sum_new2)"
   ]
  },
  {
   "cell_type": "code",
   "execution_count": 1054,
   "metadata": {},
   "outputs": [],
   "source": [
    "robot_ik_solver = TalosCostProjectorNew(cost_sum_new_ik, cost2 = cost_sum_new2)"
   ]
  },
  {
   "cell_type": "markdown",
   "metadata": {},
   "source": [
    "## Evaluate Speed"
   ]
  },
  {
   "cell_type": "code",
   "execution_count": 1055,
   "metadata": {},
   "outputs": [
    {
     "name": "stdout",
     "output_type": "stream",
     "text": [
      "3.69 µs ± 1.22 µs per loop (mean ± std. dev. of 10 runs, 10 loops each)\n"
     ]
    }
   ],
   "source": [
    "%%timeit -n 10 -r 10 \n",
    "rh_cost_new.res = (rh_cost_new.rdata.oMf[rh_cost_new.ee_frame_id].translation-rh_cost_new.desired_pose) "
   ]
  },
  {
   "cell_type": "code",
   "execution_count": 1030,
   "metadata": {},
   "outputs": [],
   "source": [
    "a = np.random.rand(3)\n",
    "b = np.random.rand(6)"
   ]
  },
  {
   "cell_type": "code",
   "execution_count": 1031,
   "metadata": {},
   "outputs": [],
   "source": [
    "w = 1.*rh_cost_new.weight"
   ]
  },
  {
   "cell_type": "code",
   "execution_count": 1032,
   "metadata": {},
   "outputs": [
    {
     "name": "stdout",
     "output_type": "stream",
     "text": [
      "883 ns ± 423 ns per loop (mean ± std. dev. of 10 runs, 10 loops each)\n"
     ]
    }
   ],
   "source": [
    "%%timeit -n 10 -r 10\n",
    "a*w"
   ]
  },
  {
   "cell_type": "code",
   "execution_count": 1033,
   "metadata": {},
   "outputs": [],
   "source": [
    "q = rob_sampler.sample()[0]"
   ]
  },
  {
   "cell_type": "markdown",
   "metadata": {},
   "source": [
    "#### Cost speed"
   ]
  },
  {
   "cell_type": "code",
   "execution_count": 1084,
   "metadata": {},
   "outputs": [
    {
     "name": "stdout",
     "output_type": "stream",
     "text": [
      "4.6 µs ± 262 ns per loop (mean ± std. dev. of 100 runs, 100 loops each)\n"
     ]
    }
   ],
   "source": [
    "%timeit -n 100 -r 100 rh_cost_new.calc(q)"
   ]
  },
  {
   "cell_type": "code",
   "execution_count": 1085,
   "metadata": {},
   "outputs": [
    {
     "name": "stdout",
     "output_type": "stream",
     "text": [
      "6.98 µs ± 2.41 µs per loop (mean ± std. dev. of 100 runs, 100 loops each)\n"
     ]
    }
   ],
   "source": [
    "%timeit -n 100 -r 100 lf_cost_new.calc(q)"
   ]
  },
  {
   "cell_type": "code",
   "execution_count": 1086,
   "metadata": {},
   "outputs": [
    {
     "name": "stdout",
     "output_type": "stream",
     "text": [
      "6.49 µs ± 882 ns per loop (mean ± std. dev. of 100 runs, 100 loops each)\n"
     ]
    }
   ],
   "source": [
    "%timeit -n 100 -r 100 rf_cost_new.calc(q)"
   ]
  },
  {
   "cell_type": "code",
   "execution_count": 1087,
   "metadata": {},
   "outputs": [
    {
     "name": "stdout",
     "output_type": "stream",
     "text": [
      "8.19 µs ± 1.22 µs per loop (mean ± std. dev. of 100 runs, 100 loops each)\n"
     ]
    }
   ],
   "source": [
    "%timeit -n 100 -r 100 bound_cost_new.calc(q)"
   ]
  },
  {
   "cell_type": "code",
   "execution_count": 1088,
   "metadata": {},
   "outputs": [
    {
     "name": "stdout",
     "output_type": "stream",
     "text": [
      "15.6 µs ± 4.6 µs per loop (mean ± std. dev. of 100 runs, 100 loops each)\n"
     ]
    }
   ],
   "source": [
    "%timeit -n 100 -r 100 cost_com_bounds_new.calc(q)"
   ]
  },
  {
   "cell_type": "code",
   "execution_count": 1094,
   "metadata": {},
   "outputs": [
    {
     "name": "stdout",
     "output_type": "stream",
     "text": [
      "90.4 µs ± 2.67 µs per loop (mean ± std. dev. of 100 runs, 100 loops each)\n"
     ]
    }
   ],
   "source": [
    "%timeit -n 100 -r 100 cost_sum_new.calc(q)"
   ]
  },
  {
   "cell_type": "code",
   "execution_count": 1078,
   "metadata": {},
   "outputs": [
    {
     "name": "stdout",
     "output_type": "stream",
     "text": [
      "209 ns ± 1.9 ns per loop (mean ± std. dev. of 100 runs, 100 loops each)\n"
     ]
    }
   ],
   "source": [
    "%timeit -n 100 -r 100 posture_cost_new.calcDiff(q)"
   ]
  },
  {
   "cell_type": "markdown",
   "metadata": {},
   "source": [
    "***"
   ]
  },
  {
   "cell_type": "code",
   "execution_count": 1056,
   "metadata": {},
   "outputs": [],
   "source": [
    "rob_projector.mu = 1e-5\n",
    "rob_projector.mu_ext = 1e-6\n",
    "rob_projector.alpha2 = .2"
   ]
  },
  {
   "cell_type": "code",
   "execution_count": 1057,
   "metadata": {},
   "outputs": [],
   "source": [
    "target_bounds = np.array([[0.3, -.4, 0.6], [0.8, .4, 1.1]])\n",
    "#target_bounds = np.array([[0.2, -.6, 0.3], [0.8, .6, 1.4]])\n",
    "target_sampler = sampler( target_bounds)\n"
   ]
  },
  {
   "cell_type": "code",
   "execution_count": 1058,
   "metadata": {},
   "outputs": [],
   "source": [
    "success = 0\n",
    "fail = 0"
   ]
  },
  {
   "cell_type": "code",
   "execution_count": 1061,
   "metadata": {},
   "outputs": [
    {
     "name": "stdout",
     "output_type": "stream",
     "text": [
      "3 0\n"
     ]
    }
   ],
   "source": [
    "for i in range(1):\n",
    "    #goal = np.array([0.3, -0.6, 1.2])\n",
    "    goal = target_sampler.sample()[0]\n",
    "    #goal = targets[np.random.randint(1000)]\n",
    "    p.resetBasePositionAndOrientation(ball_id, goal, (1,0,0,0))\n",
    "\n",
    "    #q = gan_sampler.sample(_poses = goal[None,:])[0]\n",
    "    q = rob_sampler.sample()[0]\n",
    "    #q = gan_sampler.sample()[0]\n",
    "    set_q_std(q)\n",
    "\n",
    "    rh_cost_new.desired_pose = goal\n",
    "\n",
    "    res = rob_projector.project(q, maxiter = 100)\n",
    "\n",
    "    set_q_std(res['q'])\n",
    "    print(res['stat'], res['nfev'])\n",
    "    print(cost_sum_new.feasibles)\n",
    "    print(cost_sum_new2.feasibles)\n",
    "    if res['stat']:\n",
    "        success += 1\n",
    "    else:\n",
    "        fail += 1\n",
    "    clear_output()\n",
    "\n",
    "    print(success, fail)"
   ]
  },
  {
   "cell_type": "code",
   "execution_count": 1062,
   "metadata": {},
   "outputs": [],
   "source": [
    "class TalosCostProjectorNew():\n",
    "    def __init__(self, cost, cost2 = None, alpha=1, alpha2 = 0.1, alpha_fac = 0.5, c1 = 1e-4, mu = 1e-5, mu_ext = 1e-6):\n",
    "        self.cost = cost\n",
    "        self.cost2 = cost2\n",
    "        self.alpha = alpha\n",
    "        self.alpha2 = alpha\n",
    "        self.alpha_fac = alpha_fac\n",
    "        self.c1 = c1\n",
    "        self.mu = mu\n",
    "        self.mu_ext  = mu_ext\n",
    "        \n",
    "    def project(self, q, maxiter = 50):\n",
    "        self.cost.reset_iter()\n",
    "        if self.cost2 is not None:\n",
    "            self.cost2.costs['posture'].cost.desired_posture = q.copy()\n",
    "\n",
    "            self.cost2.costs['posture'].cost.desired_posture[-14:-7] = q0Complete[-14:-7]  # for the left hand, use the default posture\n",
    "        \n",
    "        for i in range(maxiter):\n",
    "            q, status = self.step(q)\n",
    "            if status is True: break\n",
    "        res = {'stat': status, 'q': self.cost.qs[-1], 'qs': self.cost.qs, 'nfev': i+1,\n",
    "               'feval': self.cost.feval}\n",
    "        return res\n",
    "    \n",
    "    def find_direction(self, q):\n",
    "        r1 = self.cost.calc(q)\n",
    "        J1 = self.cost.calcDiff(q)\n",
    "        rcond = self.mu*r1.T.dot(r1) + self.mu_ext\n",
    "        J1_pinv = np.linalg.pinv(J1, rcond=rcond)\n",
    "        #J1_pinv = np.linalg.inv(J1.T.dot(J1)+rcond*np.eye(J1.shape[1])).dot(J1.T)\n",
    "        #print(np.allclose(J1_pinv, J1_pinv2))\n",
    "        dq1 = J1_pinv.dot(r1)\n",
    "        \n",
    "        if self.cost2 is None:\n",
    "            return dq1\n",
    "        \n",
    "        N1 = np.eye(J1.shape[1]) - J1_pinv.dot(J1)\n",
    "        r2 = self.cost2.calc(q)\n",
    "        rcond2 = self.mu_ext #+  self.mu*r2.T.dot(r2) \n",
    "        J2 = self.cost2.calcDiff(q)\n",
    "        dq2 = np.linalg.lstsq(J2.dot(N1), r2 - J2.dot(dq1), rcond=rcond2)[0]\n",
    "        #dq2 = np.linalg.pinv(J2.dot(N1), rcond=rcond2).dot(r2 - J2.dot(dq1))\n",
    "        \n",
    "        dq = dq1 + self.alpha2*N1.dot(dq2)\n",
    "        return dq\n",
    "    \n",
    "    def step(self, q, max_iter = 100, line_search = True):\n",
    "        #find step direction\n",
    "        dq = self.find_direction(q)\n",
    "        C = self.cost.res.dot(self.cost.J).dot(dq)\n",
    "        #line search\n",
    "        c0 = np.sum(self.cost.res**2)\n",
    "        alpha = self.alpha\n",
    "        c = 1e10\n",
    "        i = 0\n",
    "        if line_search:\n",
    "            while c >= c0 - self.c1*alpha*C + 1e-5 :\n",
    "                qn = q - alpha*dq\n",
    "                qn = clip_bounds(qn, bound_cost_new.bounds)\n",
    "                r1 = self.cost.calc(qn)\n",
    "                c = np.sum(self.cost.res**2)\n",
    "                i += 1\n",
    "                #print(alpha,c,c0)     \n",
    "                alpha = alpha*self.alpha_fac\n",
    "                if i > max_iter:\n",
    "                    print('Cannot get a good step length')\n",
    "                    break\n",
    "            q = qn\n",
    "        else:\n",
    "            q = q - alpha*dq\n",
    "            r1 = self.cost.calc(qn)\n",
    "        #print(i,c,c0)  \n",
    "        \n",
    "        feasible1 = False not in self.cost.feasibles\n",
    "        if self.cost2 is None:\n",
    "            return q, feasible1\n",
    "        else:\n",
    "            r2 = self.cost2.calc(q)\n",
    "            feasible2 = False not in self.cost2.feasibles\n",
    "            return q, (feasible1 and feasible2)"
   ]
  },
  {
   "cell_type": "code",
   "execution_count": 1063,
   "metadata": {},
   "outputs": [],
   "source": [
    "def clip_bounds(q, bounds):\n",
    "#     D = q.shape[0]\n",
    "#     for i in range(D):\n",
    "#         if q[i] < bounds[0,i]: q[i] = bounds[0,i]\n",
    "#         if q[i] > bounds[1,i]: q[i] = bounds[1,i]            \n",
    "    return np.clip(q, bounds[0], bounds[1])"
   ]
  },
  {
   "cell_type": "markdown",
   "metadata": {},
   "source": [
    "***"
   ]
  },
  {
   "cell_type": "markdown",
   "metadata": {},
   "source": [
    "#### Compare the projector"
   ]
  },
  {
   "cell_type": "raw",
   "metadata": {},
   "source": [
    "rob_projector = TalosCostProjectorNew(cost_sum_new, cost2 = cost_sum_new2)"
   ]
  },
  {
   "cell_type": "code",
   "execution_count": 1064,
   "metadata": {},
   "outputs": [],
   "source": [
    "rob_projector.mu = 1e-4\n",
    "rob_projector.mu_ext = 1e-6\n",
    "rob_projector.alpha2 = 0.3"
   ]
  },
  {
   "cell_type": "code",
   "execution_count": 1067,
   "metadata": {
    "scrolled": true
   },
   "outputs": [],
   "source": [
    "methods = [rob_sampler, gan_sampler]\n",
    "method_names = ['Random', 'GAN']\n",
    "# methods = [gan_sampler]\n",
    "# method_names = ['GAN']\n",
    "\n",
    "samples = gan_sampler.sample(1000)\n",
    "\n",
    "N = 100\n",
    "\n",
    "data = dict()\n",
    "for m in range(len(methods)):\n",
    "    comp_times = []\n",
    "    success = []\n",
    "    fevals = []\n",
    "    qs = []\n",
    "    for i in range(N):\n",
    "        #idx = np.random.randint(500)\n",
    "        idx = i\n",
    "        if method_names[m] == 'GAN':\n",
    "            q = samples[idx]\n",
    "        else:\n",
    "            q = rob_sampler.sample().flatten()\n",
    "        tic = time.time()\n",
    "        res = rob_projector.project(q, maxiter = 40)\n",
    "        toc = time.time()\n",
    "        comp_times += [toc-tic]\n",
    "        success += [res['stat']]\n",
    "        fevals += [res['nfev']]\n",
    "        qs += [res['q']]\n",
    "    data[method_names[m]] = [comp_times, success, fevals, qs]"
   ]
  },
  {
   "cell_type": "code",
   "execution_count": 1068,
   "metadata": {},
   "outputs": [
    {
     "name": "stdout",
     "output_type": "stream",
     "text": [
      "& Random & 90.0 &  20.6 $\\pm$ 24.3 &  12.9 $\\pm$ 7.1 &  8.5 $\\pm$ 4.2\\\\ \n",
      "& GAN & 100.0 &  3.1 $\\pm$ 1.3 &  3.1 $\\pm$ 1.3 &  2.2 $\\pm$ 0.8\\\\ \n"
     ]
    }
   ],
   "source": [
    "for m in range(len(methods[:2])):\n",
    "    print('& ' + method_names[m], end=' ')\n",
    "    comp_times, success, fevals, qs = data[method_names[m]]\n",
    "    comp_times = np.array(comp_times)\n",
    "    fevals = np.array(fevals)\n",
    "\n",
    "    print('& {0:.1f} &  {1:.1f} $\\pm$ {2:.1f} &  {3:.1f} $\\pm$ {4:.1f} &  {5:.1f} $\\pm$ {6:.1f}'.format(np.sum(success)*100./N, np.mean(comp_times)*1000, np.std(comp_times)*1000, np.mean(comp_times[success])*1000, np.std(comp_times[success])*1000,np.mean(fevals[success]), np.std(fevals[success])), end = ''),\n",
    "    print('\\\\\\\\ ')"
   ]
  },
  {
   "cell_type": "markdown",
   "metadata": {},
   "source": [
    "### Compare the IK solver"
   ]
  },
  {
   "cell_type": "code",
   "execution_count": 1069,
   "metadata": {},
   "outputs": [],
   "source": [
    "robot_ik_solver.mu = 1e-4\n",
    "robot_ik_solver.mu_ext = 1e-6\n",
    "robot_ik_solver.alpha2 = 0.3"
   ]
  },
  {
   "cell_type": "code",
   "execution_count": 1070,
   "metadata": {},
   "outputs": [],
   "source": [
    "targets = data_target[:2000,:3]\n",
    "targets = target_sampler.sample(2000)\n",
    "samples = gan_sampler.sample(N=2000, _poses=targets, var = 0.1)"
   ]
  },
  {
   "cell_type": "code",
   "execution_count": 1071,
   "metadata": {},
   "outputs": [],
   "source": [
    "methods = [rob_sampler, gan_sampler]\n",
    "method_names = ['Random', 'GAN']\n",
    "N = 100\n",
    "data = dict()\n",
    "for m in range(len(methods)):\n",
    "    comp_times = []\n",
    "    success = []\n",
    "    fevals = []\n",
    "    for i in range(N):\n",
    "        idx = i\n",
    "        if method_names[m] == 'GAN':\n",
    "            q = samples[idx]\n",
    "        else:\n",
    "            q = rob_sampler.sample().flatten()\n",
    "        tic = time.time()\n",
    "        robot_ik_solver.cost.costs['rh_pose'].cost.desired_pose[:3] = targets[i]\n",
    "        res = robot_ik_solver.project(q, maxiter = 40)\n",
    "        toc = time.time()\n",
    "        comp_times += [toc-tic]\n",
    "        success += [res['stat']]\n",
    "        fevals += [res['nfev']]\n",
    "        data[method_names[m]] = [comp_times, success, fevals]\n",
    "clear_output()"
   ]
  },
  {
   "cell_type": "code",
   "execution_count": 1072,
   "metadata": {},
   "outputs": [
    {
     "name": "stdout",
     "output_type": "stream",
     "text": [
      "& Random & 88.0 &  32.2 $\\pm$ 31.8 &  22.1 $\\pm$ 15.1 &  12.5 $\\pm$ 6.6\\\\ \n",
      "& GAN & 100.0 &  3.1 $\\pm$ 0.5 &  3.1 $\\pm$ 0.5 &  2.1 $\\pm$ 0.3\\\\ \n"
     ]
    }
   ],
   "source": [
    "for m in range(len(methods[:2])):\n",
    "    print('& ' + method_names[m], end=' ')\n",
    "    comp_times, success, fevals = data[method_names[m]]\n",
    "    comp_times = np.array(comp_times)\n",
    "    fevals = np.array(fevals)\n",
    "\n",
    "    print('& {0:.1f} &  {1:.1f} $\\pm$ {2:.1f} &  {3:.1f} $\\pm$ {4:.1f} &  {5:.1f} $\\pm$ {6:.1f}'.format(np.sum(success)*100./N, np.mean(comp_times)*1000, np.std(comp_times)*1000, np.mean(comp_times[success])*1000, np.std(comp_times[success])*1000,np.mean(fevals[success]), np.std(fevals[success])), end = ''),\n",
    "    print('\\\\\\\\ ')"
   ]
  },
  {
   "cell_type": "code",
   "execution_count": null,
   "metadata": {},
   "outputs": [],
   "source": [
    "### Compare IK"
   ]
  },
  {
   "cell_type": "code",
   "execution_count": null,
   "metadata": {},
   "outputs": [],
   "source": [
    "1. Nullspace projection: ok\n",
    "2. Steplength line search: ok\n",
    "3. Change to se3 operation\n",
    "4. Remove joint bound from cost\n",
    "5. Determine:\n",
    "    - damping parameters\n",
    "    - line search: how to do it with nullspace\n",
    "    - optimize the computation time\n",
    "    - hierarchical priority: choose wisely\n",
    "    - test on cRRT"
   ]
  },
  {
   "cell_type": "code",
   "execution_count": null,
   "metadata": {},
   "outputs": [],
   "source": [
    "Questions to Joseph:\n",
    "1. How to do line search with nullspace\n",
    "2. Line search increases computational time\n",
    "3. "
   ]
  }
 ],
 "metadata": {
  "anaconda-cloud": {},
  "hide_input": false,
  "kernelspec": {
   "display_name": "Python 3",
   "language": "python",
   "name": "python3"
  },
  "language_info": {
   "codemirror_mode": {
    "name": "ipython",
    "version": 3
   },
   "file_extension": ".py",
   "mimetype": "text/x-python",
   "name": "python",
   "nbconvert_exporter": "python",
   "pygments_lexer": "ipython3",
   "version": "3.8.3"
  },
  "latex_envs": {
   "bibliofile": "biblio.bib",
   "cite_by": "apalike",
   "current_citInitial": 1,
   "eqLabelWithNumbers": true,
   "eqNumInitial": 0
  }
 },
 "nbformat": 4,
 "nbformat_minor": 4
}
